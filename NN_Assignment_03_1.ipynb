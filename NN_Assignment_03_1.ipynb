{
 "cells": [
  {
   "cell_type": "code",
   "execution_count": 5,
   "metadata": {},
   "outputs": [],
   "source": [
    "import numpy as np\n",
    "import itertools\n",
    "import pandas as pd\n",
    "import matplotlib.pyplot as plt"
   ]
  },
  {
   "cell_type": "code",
   "execution_count": 18,
   "metadata": {},
   "outputs": [],
   "source": [
    "shape = (7,7,4)\n",
    "som = np.random.rand(*shape)\n",
    "\n",
    "# Training parameters\n",
    "L0 = 0.8\n",
    "lam = 1e2\n",
    "sigma0 = 5\n",
    "\n",
    "# load iris dataset\n",
    "dataset = pd.read_csv('E:/Academic/Neural Networks/Assignment_2/iris.txt', delimiter=',', names = ['a','b','c','d','y'])\n",
    "data = dataset.iloc[:,0:4].values\n",
    "Y = dataset.iloc[:,4].values"
   ]
  },
  {
   "cell_type": "code",
   "execution_count": 21,
   "metadata": {},
   "outputs": [],
   "source": [
    "def sigma(t):\n",
    "    \"\"\"\n",
    "    Neighbouring radius formula.\n",
    "    t: current time.\n",
    "    \"\"\"\n",
    "    return sigma0*np.exp(-t/lam)\n",
    "\n",
    "def find_bmu(input_vec):\n",
    "    \"\"\"\n",
    "        Find the Best Matching Unit of a given input vector.\n",
    "        input_vec: a d=dim_feat=self.shape[2] input vector.\n",
    "    \"\"\"\n",
    "    list_bmu = []\n",
    "    for y in range(shape[0]):\n",
    "        for x in range(shape[1]):\n",
    "            dist = np.linalg.norm((input_vec-som[y,x]))\n",
    "            list_bmu.append(((y,x),dist))\n",
    "    list_bmu.sort(key=lambda x: x[1])\n",
    "    return list_bmu[0][0]\n",
    "\n",
    "def update_bmu(bmu,input_vector,t):\n",
    "    \"\"\"\n",
    "        Update rule for the BMU.\n",
    "        bmu: (y,x) BMU's coordinates.\n",
    "        input_vector: current data vector.\n",
    "        t: current time.\n",
    "    \"\"\"\n",
    "    som[bmu] += L(t)*(input_vector-som[bmu])\n",
    "    \n",
    "def update_som(bmu,input_vector,t):\n",
    "    \"\"\" \n",
    "        Calls the update rule on each cell.\n",
    "        bmu: (y,x) BMU's coordinates.\n",
    "        input_vector: current data vector.\n",
    "        t: current time.\n",
    "    \"\"\"\n",
    "    for y in range(shape[0]):\n",
    "        for x in range(shape[1]):\n",
    "            dist_to_bmu = np.linalg.norm((np.array(bmu)-np.array((y,x))))\n",
    "            update_cell((y,x),dist_to_bmu,input_vector,t)\n",
    "\n",
    "def update_cell(cell,dist_to_bmu,input_vector,t):\n",
    "    \"\"\" \n",
    "        Computes the update rule on a cell.\n",
    "        cell: (y,x) cell's coordinates.\n",
    "        dist_to_bmu: L2 distance from cell to bmu.\n",
    "        input_vector: current data vector.\n",
    "        t: current time.\n",
    "    \"\"\"\n",
    "    som[cell] += N(dist_to_bmu,t)*L(t)*(input_vector-som[cell])\n",
    "    \n",
    "def N(dist_to_bmu,t):\n",
    "    \"\"\" \n",
    "        Computes the neighbouring penalty.\n",
    "        dist_to_bmu: L2 distance to bmu.\n",
    "        t: current time.\n",
    "    \"\"\"\n",
    "    curr_sigma = sigma(t)\n",
    "    return np.exp(-(dist_to_bmu**2)/(2*curr_sigma**2))\n",
    "\n",
    "def sigma(t):\n",
    "    \"\"\"\n",
    "        Neighbouring radius formula.\n",
    "        t: current time.\n",
    "    \"\"\"\n",
    "    return sigma0*np.exp(-t/lam)\n",
    "\n",
    "def L(t):\n",
    "    \"\"\"\n",
    "        Learning rate formula.\n",
    "        t: current time.\n",
    "    \"\"\"\n",
    "    return L0*np.exp(-t/lam)\n",
    "\n",
    "def get_bmu():\n",
    "    \"\"\" \n",
    "        Get the BMU list of the SOM.\n",
    "        It uses the data fed at last training.\n",
    "    \"\"\"\n",
    "    bmu_list = []\n",
    "    for input_vector in data:\n",
    "        bmu = find_bmu(input_vector)\n",
    "        bmu_list.append(bmu)\n",
    "\n",
    "    return bmu_list\n",
    "\n",
    "def train():\n",
    "    for t in itertools.count():\n",
    "        if sigma(t) < 1.0:\n",
    "            break\n",
    "\n",
    "        i_data =  np.random.choice(range(len(data)))\n",
    "\n",
    "        bmu = find_bmu(data[i_data])\n",
    "        update_som(bmu,data[i_data],t)"
   ]
  },
  {
   "cell_type": "code",
   "execution_count": 22,
   "metadata": {},
   "outputs": [],
   "source": [
    "train()\n",
    "bmu_list = get_bmu()"
   ]
  },
  {
   "cell_type": "code",
   "execution_count": 24,
   "metadata": {},
   "outputs": [],
   "source": [
    "temp_dataset = dataset\n",
    "temp_dataset['cluster'] = bmu_list"
   ]
  },
  {
   "cell_type": "code",
   "execution_count": 25,
   "metadata": {},
   "outputs": [],
   "source": [
    "#group all iris data tuples per bmu (best matching unit) and extract most frequent target associated to each cell\n",
    "#resulting object is in descending order so that the first element is the most frequently-occurring class label in value_counts\n",
    "df = temp_dataset.groupby('cluster')['y'].value_counts().reset_index(name='v')\n",
    "df = df.drop_duplicates('cluster')[['cluster','y']].reset_index(drop=True)"
   ]
  },
  {
   "cell_type": "code",
   "execution_count": 27,
   "metadata": {},
   "outputs": [],
   "source": [
    "#initilaize majority matrix\n",
    "result_map = np.zeros([7,7],dtype=np.int)\n",
    "\n",
    "# fill majority matrix with the most frequently-occurring class label\n",
    "counter = 0\n",
    "for i in range(len(result_map)):\n",
    "    for j in range(len(result_map[i])):\n",
    "        if len(df[df['cluster'] == (i,j)]) == 0:\n",
    "            result_map[i][j] = 0\n",
    "        else:\n",
    "            result_map[i][j] = df[df['cluster'] == (i,j)]['y'][counter]\n",
    "            counter += 1"
   ]
  },
  {
   "cell_type": "code",
   "execution_count": 28,
   "metadata": {},
   "outputs": [
    {
     "data": {
      "text/plain": [
       "array([[0, 0, 0, 1, 1, 1, 1],\n",
       "       [2, 2, 0, 0, 0, 1, 1],\n",
       "       [2, 0, 2, 0, 0, 0, 0],\n",
       "       [2, 3, 2, 2, 2, 2, 0],\n",
       "       [3, 3, 3, 2, 2, 2, 2],\n",
       "       [3, 3, 3, 3, 0, 2, 2],\n",
       "       [3, 3, 3, 3, 2, 2, 2]])"
      ]
     },
     "execution_count": 28,
     "metadata": {},
     "output_type": "execute_result"
    }
   ],
   "source": [
    "result_map"
   ]
  },
  {
   "cell_type": "code",
   "execution_count": 30,
   "metadata": {},
   "outputs": [
    {
     "data": {
      "image/png": "[encoded data removed]",
      "text/plain": [
       "<Figure size 432x288 with 2 Axes>"
      ]
     },
     "metadata": {},
     "output_type": "display_data"
    }
   ],
   "source": [
    "fig = plt.figure()\n",
    "subplot = fig.add_subplot(111)\n",
    "#get discrete colormap\n",
    "cmap = plt.get_cmap('PiYG', 4)\n",
    "cax = subplot.matshow(result_map, cmap=cmap)\n",
    "fig.colorbar(cax, ticks=np.arange(0,4))\n",
    "plt.show()"
   ]
  },
  {
   "cell_type": "code",
   "execution_count": null,
   "metadata": {},
   "outputs": [],
   "source": []
  }
 ],
 "metadata": {
  "kernelspec": {
   "display_name": "Python 3",
   "language": "python",
   "name": "python3"
  },
  "language_info": {
   "codemirror_mode": {
    "name": "ipython",
    "version": 3
   },
   "file_extension": ".py",
   "mimetype": "text/x-python",
   "name": "python",
   "nbconvert_exporter": "python",
   "pygments_lexer": "ipython3",
   "version": "3.6.2"
  }
 },
 "nbformat": 4,
 "nbformat_minor": 2
}
