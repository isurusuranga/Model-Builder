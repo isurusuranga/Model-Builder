{
 "cells": [
  {
   "cell_type": "code",
   "execution_count": 42,
   "metadata": {},
   "outputs": [],
   "source": [
    "from keras import applications\n",
    "from keras import models\n",
    "from keras import layers\n",
    "from keras import optimizers\n",
    "from keras.preprocessing.image import ImageDataGenerator\n",
    "from keras.models import Sequential\n",
    "from keras.layers import Dropout, Flatten, Dense\n",
    "from keras.layers.normalization import BatchNormalization\n",
    "from keras import regularizers\n",
    "import matplotlib.pyplot as plt"
   ]
  },
  {
   "cell_type": "code",
   "execution_count": 43,
   "metadata": {},
   "outputs": [],
   "source": [
    "image_width = 224\n",
    "image_height = 224\n",
    "\n",
    "vgg_conv = applications.VGG16(weights='imagenet', include_top=False, input_shape=(image_width, image_height, 3))"
   ]
  },
  {
   "cell_type": "code",
   "execution_count": 44,
   "metadata": {},
   "outputs": [
    {
     "name": "stdout",
     "output_type": "stream",
     "text": [
      "<keras.engine.topology.InputLayer object at 0x000001B0F7F284E0> False\n",
      "<keras.layers.convolutional.Conv2D object at 0x000001B0F7F28CF8> False\n",
      "<keras.layers.convolutional.Conv2D object at 0x000001B0F7F28F98> False\n",
      "<keras.layers.pooling.MaxPooling2D object at 0x000001B0F7F287F0> False\n",
      "<keras.layers.convolutional.Conv2D object at 0x000001B0F7F3E8D0> False\n",
      "<keras.layers.convolutional.Conv2D object at 0x000001B0F7F59DD8> False\n",
      "<keras.layers.pooling.MaxPooling2D object at 0x000001B0F7F6BD30> False\n",
      "<keras.layers.convolutional.Conv2D object at 0x000001B0F7F7EE80> False\n",
      "<keras.layers.convolutional.Conv2D object at 0x000001B0F7F95240> False\n",
      "<keras.layers.convolutional.Conv2D object at 0x000001B0F7FA8F28> False\n",
      "<keras.layers.pooling.MaxPooling2D object at 0x000001B0F7FD2F28> False\n",
      "<keras.layers.convolutional.Conv2D object at 0x000001B0F7FEAE80> False\n",
      "<keras.layers.convolutional.Conv2D object at 0x000001B0F80002E8> False\n",
      "<keras.layers.convolutional.Conv2D object at 0x000001B0F8014AC8> False\n",
      "<keras.layers.pooling.MaxPooling2D object at 0x000001B0F8039FD0> False\n",
      "<keras.layers.convolutional.Conv2D object at 0x000001B0F806B080> False\n",
      "<keras.layers.convolutional.Conv2D object at 0x000001B0F806B390> False\n",
      "<keras.layers.convolutional.Conv2D object at 0x000001B0F807FF28> False\n",
      "<keras.layers.pooling.MaxPooling2D object at 0x000001B0F80A3710> False\n"
     ]
    }
   ],
   "source": [
    "# Freeze the layers except the last 2 layers\n",
    "for layer in vgg_conv.layers[:]:\n",
    "    layer.trainable = False\n",
    "\n",
    "# Check the trainable status of the individual layers\n",
    "for layer in vgg_conv.layers:\n",
    "    print(layer, layer.trainable)"
   ]
  },
  {
   "cell_type": "code",
   "execution_count": 46,
   "metadata": {},
   "outputs": [
    {
     "name": "stdout",
     "output_type": "stream",
     "text": [
      "_________________________________________________________________\n",
      "Layer (type)                 Output Shape              Param #   \n",
      "=================================================================\n",
      "vgg16 (Model)                (None, 7, 7, 512)         14714688  \n",
      "_________________________________________________________________\n",
      "flatten_10 (Flatten)         (None, 25088)             0         \n",
      "_________________________________________________________________\n",
      "dense_21 (Dense)             (None, 256)               6422784   \n",
      "_________________________________________________________________\n",
      "batch_normalization_12 (Batc (None, 256)               1024      \n",
      "_________________________________________________________________\n",
      "dropout_12 (Dropout)         (None, 256)               0         \n",
      "_________________________________________________________________\n",
      "dense_22 (Dense)             (None, 5)                 1285      \n",
      "=================================================================\n",
      "Total params: 21,139,781\n",
      "Trainable params: 6,424,581\n",
      "Non-trainable params: 14,715,200\n",
      "_________________________________________________________________\n"
     ]
    }
   ],
   "source": [
    "# Create the model\n",
    "model = models.Sequential()\n",
    " \n",
    "# Add the vgg convolutional base model\n",
    "model.add(vgg_conv)\n",
    " \n",
    "# Add new layers\n",
    "model.add(layers.Flatten())\n",
    "model.add(layers.Dense(256, activation='relu'))\n",
    "model.add(BatchNormalization())\n",
    "model.add(layers.Dropout(0.6))\n",
    "\n",
    "# model.add(layers.Dense(128, activation='relu'))\n",
    "# model.add(BatchNormalization())\n",
    "# model.add(layers.Dropout(0.5))\n",
    "# \n",
    "model.add(layers.Dense(5, activation='softmax', kernel_regularizer=regularizers.l2(0.0001)))\n",
    " \n",
    "# Show a summary of the model. Check the number of trainable parameters\n",
    "model.summary()\n"
   ]
  },
  {
   "cell_type": "code",
   "execution_count": 47,
   "metadata": {},
   "outputs": [
    {
     "name": "stdout",
     "output_type": "stream",
     "text": [
      "Found 8000 images belonging to 5 classes.\n",
      "Found 1000 images belonging to 5 classes.\n"
     ]
    }
   ],
   "source": [
    "train_datagen = ImageDataGenerator(rescale=1./255)\n",
    "\n",
    "validation_datagen = ImageDataGenerator(rescale=1./255)\n",
    "\n",
    "# Change the batchsize according to your system RAM\n",
    "train_batchsize = 16\n",
    "val_batchsize = 10\n",
    "#train_dir = \"D:/retinal_data_set_original/_1000_per_class_train/augmented_224/train\"\n",
    "train_dir = \"D:/retinal_data_set_original/original/new_train\"\n",
    "#validation_dir = \"D:/retinal_data_set_original/_1000_per_class_train/augmented_224/validation\"\n",
    "validation_dir = \"D:/retinal_data_set_original/original/new_valid\"\n",
    "\n",
    "train_generator = train_datagen.flow_from_directory(\n",
    "        train_dir,\n",
    "        target_size=(image_width, image_height),\n",
    "        batch_size=train_batchsize,\n",
    "        shuffle=True,\n",
    "        class_mode='categorical')\n",
    "\n",
    "validation_generator = validation_datagen.flow_from_directory(\n",
    "        validation_dir,\n",
    "        target_size=(image_width, image_height),\n",
    "        batch_size=val_batchsize,\n",
    "        class_mode='categorical',\n",
    "        shuffle=False)"
   ]
  },
  {
   "cell_type": "code",
   "execution_count": 48,
   "metadata": {},
   "outputs": [],
   "source": [
    "# Compile the model\n",
    "model.compile(loss='categorical_crossentropy',\n",
    "              optimizer=optimizers.Adam(lr=1e-3),\n",
    "              metrics=['acc'])"
   ]
  },
  {
   "cell_type": "code",
   "execution_count": 49,
   "metadata": {},
   "outputs": [
    {
     "name": "stdout",
     "output_type": "stream",
     "text": [
      "Epoch 1/30\n",
      "500/500 [==============================] - 546s 1s/step - loss: 1.2585 - acc: 0.4855 - val_loss: 2.0469 - val_acc: 0.3120\n",
      "Epoch 2/30\n",
      "500/500 [==============================] - 549s 1s/step - loss: 0.9306 - acc: 0.6173 - val_loss: 0.8320 - val_acc: 0.6490\n",
      "Epoch 3/30\n",
      "500/500 [==============================] - 549s 1s/step - loss: 0.7964 - acc: 0.6819 - val_loss: 0.7651 - val_acc: 0.6870\n",
      "Epoch 4/30\n",
      "500/500 [==============================] - 549s 1s/step - loss: 0.7382 - acc: 0.7093 - val_loss: 0.7322 - val_acc: 0.7070\n",
      "Epoch 5/30\n",
      "500/500 [==============================] - 550s 1s/step - loss: 0.6767 - acc: 0.7265 - val_loss: 0.6691 - val_acc: 0.7490\n",
      "Epoch 6/30\n",
      "500/500 [==============================] - 548s 1s/step - loss: 0.6337 - acc: 0.7500 - val_loss: 0.6841 - val_acc: 0.7220\n",
      "Epoch 7/30\n",
      "500/500 [==============================] - 548s 1s/step - loss: 0.5835 - acc: 0.7791 - val_loss: 0.5580 - val_acc: 0.7810\n",
      "Epoch 8/30\n",
      "500/500 [==============================] - 546s 1s/step - loss: 0.5486 - acc: 0.7885 - val_loss: 0.5620 - val_acc: 0.7770\n",
      "Epoch 9/30\n",
      "500/500 [==============================] - 546s 1s/step - loss: 0.5142 - acc: 0.8107 - val_loss: 0.6156 - val_acc: 0.7810\n",
      "Epoch 10/30\n",
      "500/500 [==============================] - 546s 1s/step - loss: 0.4849 - acc: 0.8115 - val_loss: 0.5967 - val_acc: 0.7740\n",
      "Epoch 11/30\n",
      "500/500 [==============================] - 546s 1s/step - loss: 0.4527 - acc: 0.8346 - val_loss: 0.5977 - val_acc: 0.7650\n",
      "Epoch 12/30\n",
      "500/500 [==============================] - 547s 1s/step - loss: 0.4104 - acc: 0.8501 - val_loss: 0.9345 - val_acc: 0.6930\n",
      "Epoch 13/30\n",
      "500/500 [==============================] - 549s 1s/step - loss: 0.3849 - acc: 0.8616 - val_loss: 0.6199 - val_acc: 0.7690\n",
      "Epoch 14/30\n",
      "500/500 [==============================] - 547s 1s/step - loss: 0.3928 - acc: 0.8575 - val_loss: 0.4474 - val_acc: 0.8300\n",
      "Epoch 15/30\n",
      "500/500 [==============================] - 546s 1s/step - loss: 0.3500 - acc: 0.8736 - val_loss: 0.6461 - val_acc: 0.7640\n",
      "Epoch 16/30\n",
      "500/500 [==============================] - 547s 1s/step - loss: 0.3334 - acc: 0.8756 - val_loss: 0.5488 - val_acc: 0.7900\n",
      "Epoch 17/30\n",
      "500/500 [==============================] - 546s 1s/step - loss: 0.3209 - acc: 0.8826 - val_loss: 0.5141 - val_acc: 0.8030\n",
      "Epoch 18/30\n",
      "500/500 [==============================] - 546s 1s/step - loss: 0.3078 - acc: 0.8891 - val_loss: 0.4721 - val_acc: 0.8130\n",
      "Epoch 19/30\n",
      "500/500 [==============================] - 546s 1s/step - loss: 0.3139 - acc: 0.8839 - val_loss: 0.5209 - val_acc: 0.8070\n",
      "Epoch 20/30\n",
      "500/500 [==============================] - 546s 1s/step - loss: 0.2767 - acc: 0.8985 - val_loss: 0.4576 - val_acc: 0.8380\n",
      "Epoch 21/30\n",
      "500/500 [==============================] - 548s 1s/step - loss: 0.2791 - acc: 0.8969 - val_loss: 0.4914 - val_acc: 0.8200\n",
      "Epoch 22/30\n",
      "500/500 [==============================] - 548s 1s/step - loss: 0.2671 - acc: 0.9011 - val_loss: 0.3629 - val_acc: 0.8780\n",
      "Epoch 23/30\n",
      "500/500 [==============================] - 547s 1s/step - loss: 0.2369 - acc: 0.9122 - val_loss: 0.6364 - val_acc: 0.7850\n",
      "Epoch 24/30\n",
      "500/500 [==============================] - 546s 1s/step - loss: 0.2467 - acc: 0.9137 - val_loss: 0.4280 - val_acc: 0.8510\n",
      "Epoch 25/30\n",
      "500/500 [==============================] - 545s 1s/step - loss: 0.2185 - acc: 0.9214 - val_loss: 0.4134 - val_acc: 0.8510\n",
      "Epoch 26/30\n",
      "500/500 [==============================] - 546s 1s/step - loss: 0.2295 - acc: 0.9160 - val_loss: 0.4024 - val_acc: 0.8660\n",
      "Epoch 27/30\n",
      "500/500 [==============================] - 545s 1s/step - loss: 0.2121 - acc: 0.9217 - val_loss: 0.5245 - val_acc: 0.8130\n",
      "Epoch 28/30\n",
      "500/500 [==============================] - 545s 1s/step - loss: 0.2217 - acc: 0.9190 - val_loss: 0.3628 - val_acc: 0.8710\n",
      "Epoch 29/30\n",
      "500/500 [==============================] - 547s 1s/step - loss: 0.2135 - acc: 0.9234 - val_loss: 0.4235 - val_acc: 0.8560\n",
      "Epoch 30/30\n",
      "500/500 [==============================] - 547s 1s/step - loss: 0.1888 - acc: 0.9336 - val_loss: 0.5174 - val_acc: 0.8360\n"
     ]
    }
   ],
   "source": [
    "# Train the model\n",
    "history = model.fit_generator(\n",
    "      train_generator,\n",
    "      steps_per_epoch=train_generator.samples//train_generator.batch_size ,\n",
    "      epochs=30,\n",
    "      validation_data=validation_generator,\n",
    "      validation_steps=validation_generator.samples//validation_generator.batch_size,\n",
    "      verbose=1)\n",
    " \n",
    "# Save the model\n",
    "model.save('D:/retinal_data_set_original/original/models/vgg16_modified/vgg16_dr_modified.h5')"
   ]
  },
  {
   "cell_type": "code",
   "execution_count": 50,
   "metadata": {},
   "outputs": [
    {
     "data": {
      "image/png": "[encoded data removed]",
      "text/plain": [
       "<Figure size 432x288 with 1 Axes>"
      ]
     },
     "metadata": {},
     "output_type": "display_data"
    },
    {
     "data": {
      "image/png": "[encoded data removed]",
      "text/plain": [
       "<Figure size 432x288 with 1 Axes>"
      ]
     },
     "metadata": {},
     "output_type": "display_data"
    }
   ],
   "source": [
    "acc = history.history['acc']\n",
    "val_acc = history.history['val_acc']\n",
    "loss = history.history['loss']\n",
    "val_loss = history.history['val_loss']\n",
    " \n",
    "epochs = range(len(acc))\n",
    " \n",
    "plt.plot(epochs, acc, 'b', label='Training acc')\n",
    "plt.plot(epochs, val_acc, 'r', label='Validation acc')\n",
    "plt.title('Training and validation accuracy')\n",
    "plt.legend()\n",
    " \n",
    "plt.figure()\n",
    " \n",
    "plt.plot(epochs, loss, 'b', label='Training loss')\n",
    "plt.plot(epochs, val_loss, 'r', label='Validation loss')\n",
    "plt.title('Training and validation loss')\n",
    "plt.legend()\n",
    " \n",
    "plt.show()"
   ]
  },
  {
   "cell_type": "code",
   "execution_count": null,
   "metadata": {},
   "outputs": [],
   "source": []
  }
 ],
 "metadata": {
  "kernelspec": {
   "display_name": "Python 3",
   "language": "python",
   "name": "python3"
  },
  "language_info": {
   "codemirror_mode": {
    "name": "ipython",
    "version": 3
   },
   "file_extension": ".py",
   "mimetype": "text/x-python",
   "name": "python",
   "nbconvert_exporter": "python",
   "pygments_lexer": "ipython3",
   "version": "3.6.2"
  }
 },
 "nbformat": 4,
 "nbformat_minor": 2
}
