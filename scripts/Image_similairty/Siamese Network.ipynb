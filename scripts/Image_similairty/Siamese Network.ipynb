{
 "cells": [
  {
   "cell_type": "code",
   "execution_count": 2,
   "metadata": {},
   "outputs": [
    {
     "name": "stderr",
     "output_type": "stream",
     "text": [
      "Using TensorFlow backend.\n"
     ]
    }
   ],
   "source": [
    "import os\n",
    "import numpy as np\n",
    "from keras import backend as K\n",
    "from keras.applications import vgg16\n",
    "from keras.layers import Input, merge\n",
    "from keras.layers.convolutional import Conv2D, MaxPooling2D\n",
    "from keras.layers.core import Activation, Dense, Dropout, Flatten, Lambda\n",
    "from keras.models import Sequential, Model\n",
    "from keras.utils import np_utils\n",
    "from sklearn.model_selection import train_test_split\n",
    "from random import shuffle\n",
    "from scipy.misc import imresize\n",
    "import itertools\n",
    "import matplotlib.pyplot as plt\n",
    "%matplotlib inline"
   ]
  },
  {
   "cell_type": "code",
   "execution_count": 3,
   "metadata": {},
   "outputs": [],
   "source": [
    "class ImageNetFeatureExtractor(object):\n",
    "    def __init__(self, model=\"vgg16\", resize_to=(150, 150)):\n",
    "        # MODEL_DICT = {\"vgg16\": VGG16, \"vgg19\": VGG19, \"inception\": InceptionV3, \"resnet\": ResNet50,\n",
    "        #               \"xception\": Xception}\n",
    "        # network = MODEL_DICT[model.lower()]\n",
    "        self.model_name = model.lower()\n",
    "        self.model = self.getModel()\n",
    "        self.preprocess_input = preprocess_input\n",
    "        self.imageSize = resize_to\n",
    "\n",
    "    def extract(self, images):\n",
    "        images = self.preprocess(images)\n",
    "        return self.model.predict(images)\n",
    "\n",
    "    def getModel(self):\n",
    "        model = load_model('C:/Users/hp/Downloads/data/model/top_model_vgg/final_model.h5')\n",
    "        intermediate_layer_model = Model(inputs=model.input,\n",
    "                                         outputs=model.get_layer(\"block5_pool\").output)\n",
    "\n",
    "        return intermediate_layer_model\n",
    "\n",
    "    @property\n",
    "    def output_shape(self):\n",
    "        return self.model.compute_output_shape([[None, self.imageSize[0], self.imageSize[1], 3]])\n",
    "\n",
    "    def resize_images(self, images):\n",
    "        images = np.array([cv2.resize(image, (self.imageSize[0], self.imageSize[1])) for image in images])\n",
    "        return images\n",
    "\n",
    "    def preprocess(self, images):\n",
    "        images = self.resize_images(images)\n",
    "        images = self.preprocess_input(images.astype(\"float\"))\n",
    "        return images\n",
    "\n",
    "def concat_tensors(tensors, axis=-1):\n",
    "    return K.concatenate([K.expand_dims(t, axis=axis) for t in tensors])\n",
    "\n",
    "\n",
    "def get_small_network(input_shape=(None, 4, 4, 512)):\n",
    "    model = Sequential()\n",
    "    model.add(GlobalAveragePooling2D(input_shape=input_shape[1:]))\n",
    "    model.add(Dense(512, activation=\"relu\"))\n",
    "    model.add(Dropout(0.5))\n",
    "    model.add(Dense(512, activation=\"relu\"))\n",
    "    model.add(Dropout(0.25))\n",
    "    model.add(Dense(256, activation=\"relu\"))\n",
    "    #model.add(Dense(128, activation=\"relu\"))\n",
    "    return model\n",
    "\n",
    "def get_triplet_network(input_shape=(None, 4, 4, 512)):\n",
    "    base_model = get_small_network(input_shape=input_shape)\n",
    "\n",
    "    anchor_input = Input(input_shape[1:])\n",
    "    positive_input = Input(input_shape[1:])\n",
    "    negative_input = Input(input_shape[1:])\n",
    "\n",
    "    anchor_embeddings = base_model(anchor_input)\n",
    "    positive_embeddings = base_model(positive_input)\n",
    "    negative_embeddings = base_model(negative_input)\n",
    "\n",
    "    output = Lambda(concat_tensors)([anchor_embeddings, positive_embeddings, negative_embeddings])\n",
    "    model = Model([anchor_input, positive_input, negative_input], output)\n",
    "\n",
    "    return model"
   ]
  },
  {
   "cell_type": "code",
   "execution_count": null,
   "metadata": {},
   "outputs": [],
   "source": [
    "def create_triples(embeddings, labels):\n",
    "    pass"
   ]
  },
  {
   "cell_type": "code",
   "execution_count": null,
   "metadata": {},
   "outputs": [],
   "source": [
    "def create_triples(image_dir):\n",
    "    img_groups = {}\n",
    "    for img_file in os.listdir(image_dir):\n",
    "        prefix, suffix = img_file.split(\".\")\n",
    "        gid, pid = prefix[0:4], prefix[4:]\n",
    "        if img_groups.has_key(gid):\n",
    "            img_groups[gid].append(pid)\n",
    "        else:\n",
    "            img_groups[gid] = [pid]\n",
    "    pos_triples, neg_triples = [], []\n",
    "    # positive pairs are any combination of images in same group\n",
    "    for key in img_groups.keys():\n",
    "        triples = [(key + x[0] + \".jpg\", key + x[1] + \".jpg\", 1) \n",
    "                 for x in itertools.combinations(img_groups[key], 2)]\n",
    "        pos_triples.extend(triples)\n",
    "    # need equal number of negative examples\n",
    "    group_names = list(img_groups.keys())\n",
    "    for i in range(len(pos_triples)):\n",
    "        g1, g2 = np.random.choice(np.arange(len(group_names)), size=2, replace=False)\n",
    "        left = get_random_image(img_groups, group_names, g1)\n",
    "        right = get_random_image(img_groups, group_names, g2)\n",
    "        neg_triples.append((left, right, 0))\n",
    "    pos_triples.extend(neg_triples)\n",
    "    shuffle(pos_triples)\n",
    "    return pos_triples"
   ]
  },
  {
   "cell_type": "code",
   "execution_count": null,
   "metadata": {},
   "outputs": [],
   "source": [
    "model_check_point_loc = 'C:/Users/hp/Downloads/data/similarity/vgg16_cats_dogs_sm.h5'\n",
    "features, labels = extract_features('C:/Users/hp/Downloads/data/similarity/similarity_db.hdf5')\n",
    "\n"
   ]
  }
 ],
 "metadata": {
  "kernelspec": {
   "display_name": "Python 3",
   "language": "python",
   "name": "python3"
  },
  "language_info": {
   "codemirror_mode": {
    "name": "ipython",
    "version": 3
   },
   "file_extension": ".py",
   "mimetype": "text/x-python",
   "name": "python",
   "nbconvert_exporter": "python",
   "pygments_lexer": "ipython3",
   "version": "3.6.2"
  }
 },
 "nbformat": 4,
 "nbformat_minor": 2
}
