{
 "cells": [
  {
   "cell_type": "code",
   "execution_count": 1,
   "metadata": {},
   "outputs": [
    {
     "name": "stderr",
     "output_type": "stream",
     "text": [
      "Using TensorFlow backend.\n"
     ]
    }
   ],
   "source": [
    "import os\n",
    "import scipy\n",
    "from os import listdir\n",
    "from PIL import Image as PImage\n",
    "from multiprocessing import Process\n",
    "from keras.preprocessing.image import ImageDataGenerator, array_to_img, img_to_array, load_img"
   ]
  },
  {
   "cell_type": "code",
   "execution_count": 2,
   "metadata": {},
   "outputs": [],
   "source": [
    "datagen = ImageDataGenerator(\n",
    "        rotation_range=40,\n",
    "        zoom_range=(0.9, 1.1),\n",
    "        horizontal_flip=True,\n",
    "        vertical_flip=True,\n",
    "        shear_range=0.5,\n",
    "        fill_mode='constant',\n",
    "        cval=0)"
   ]
  },
  {
   "cell_type": "code",
   "execution_count": 3,
   "metadata": {},
   "outputs": [],
   "source": [
    "def dataAugmentation(trainingPath, preprocessedTrainingPath, width, height, limit, prefix):\n",
    "    gen_data = datagen.flow_from_directory(trainingPath, \n",
    "                                   batch_size=1, \n",
    "                                   shuffle=True, \n",
    "                                   save_to_dir=preprocessedTrainingPath,\n",
    "                                   save_prefix=prefix,\n",
    "                                   class_mode = None,\n",
    "                                   target_size=(width, height))\n",
    "    for i in range(limit):\n",
    "        gen_data.next()"
   ]
  },
  {
   "cell_type": "code",
   "execution_count": 4,
   "metadata": {},
   "outputs": [],
   "source": [
    "# def folderConfiguration(img_height, img_width, prefix, class_number, sub_folder_name):\n",
    "#     train_dir = \"D:/retinal_samples/train\"\n",
    "#     gen_augmented_train_dir = \"D:/retinal_samples/_2000_per_train_class/\" + sub_folder_name + \"/train/\" + class_number\n",
    "#     train_limit = 1000\n",
    "\n",
    "#     validation_dir = \"D:/retinal_samples/validation\"\n",
    "#     gen_augmented_validation_dir = \"D:/retinal_samples/_2000_per_train_class/\" + sub_folder_name + \"/validation/\" + class_number\n",
    "#     validation_limit = 50\n",
    "\n",
    "#     test_dir = \"D:/retinal_samples/test\"\n",
    "#     gen_augmented_test_dir = \"D:/retinal_samples/_2000_per_train_class/\" + sub_folder_name + \"/test/\" + class_number\n",
    "#     test_limit = 50\n",
    "\n",
    "#     dataAugmentation(train_dir, gen_augmented_train_dir, img_width, img_height, train_limit, prefix)\n",
    "#     dataAugmentation(validation_dir, gen_augmented_validation_dir, img_width, img_height, validation_limit, prefix)\n",
    "#     dataAugmentation(test_dir, gen_augmented_test_dir, img_width, img_height, test_limit, prefix)"
   ]
  },
  {
   "cell_type": "code",
   "execution_count": 4,
   "metadata": {},
   "outputs": [],
   "source": [
    "def folderConfigurationForOnlyTrainSet(img_height, img_width, prefix, class_number, sub_folder_name):\n",
    "    train_dir = \"D:/retinal_samples/train\"\n",
    "    gen_augmented_train_dir = \"D:/retinal_samples/_2000_per_train_class/\" + sub_folder_name + \"/train/\" + class_number\n",
    "    train_limit = 2000\n",
    "\n",
    "    dataAugmentation(train_dir, gen_augmented_train_dir, img_width, img_height, train_limit, prefix)"
   ]
  },
  {
   "cell_type": "code",
   "execution_count": 5,
   "metadata": {},
   "outputs": [
    {
     "name": "stdout",
     "output_type": "stream",
     "text": [
      "Found 6 images belonging to 1 classes.\n"
     ]
    }
   ],
   "source": [
    "prefix = \"pdr\"\n",
    "class_number = \"4\"\n",
    "\n",
    "folderConfigurationForOnlyTrainSet(224, 224, prefix, class_number, \"augmented_224\")\n",
    "#folderConfiguration(64, 64, prefix, class_number, \"augmented_64\")"
   ]
  },
  {
   "cell_type": "code",
   "execution_count": null,
   "metadata": {},
   "outputs": [],
   "source": []
  }
 ],
 "metadata": {
  "kernelspec": {
   "display_name": "Python 3",
   "language": "python",
   "name": "python3"
  },
  "language_info": {
   "codemirror_mode": {
    "name": "ipython",
    "version": 3
   },
   "file_extension": ".py",
   "mimetype": "text/x-python",
   "name": "python",
   "nbconvert_exporter": "python",
   "pygments_lexer": "ipython3",
   "version": "3.6.2"
  }
 },
 "nbformat": 4,
 "nbformat_minor": 2
}
