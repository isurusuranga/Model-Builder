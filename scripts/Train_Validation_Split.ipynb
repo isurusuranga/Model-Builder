{
 "cells": [
  {
   "cell_type": "code",
   "execution_count": 1,
   "metadata": {},
   "outputs": [],
   "source": [
    "import os\n",
    "import numpy as np\n",
    "import shutil"
   ]
  },
  {
   "cell_type": "code",
   "execution_count": 9,
   "metadata": {},
   "outputs": [],
   "source": [
    "train_dir = \"C:/Users/hp/Desktop/SL_DR_Dataset/Disease_Grading/Original_Images/classified_train/\"\n",
    "\n",
    "# Create folders for  training data and validation randomly splitted\n",
    "new_train = os.mkdir(\"C:/Users/hp/Desktop/SL_DR_Dataset/Disease_Grading/Original_Images/train_test_splitter/train\")\n",
    "new_valid = os.mkdir(\"C:/Users/hp/Desktop/SL_DR_Dataset/Disease_Grading/Original_Images/train_test_splitter/validation\")\n",
    "\n",
    "new_train_dir  = \"C:/Users/hp/Desktop/SL_DR_Dataset/Disease_Grading/Original_Images/train_test_splitter/train/\"\n",
    "new_valid_dir = \"C:/Users/hp/Desktop/SL_DR_Dataset/Disease_Grading/Original_Images/train_test_splitter/validation/\""
   ]
  },
  {
   "cell_type": "code",
   "execution_count": 10,
   "metadata": {},
   "outputs": [],
   "source": [
    "# Get all the classes from the original train directory\n",
    "classes = os.listdir(train_dir)\n",
    "\n",
    "# Create target folders in the new train data directory\n",
    "for c in classes:\n",
    "    os.mkdir(new_train_dir + c)\n",
    "\n",
    "# Create validation folders in the new validation data directory\n",
    "for c in classes:\n",
    "    os.mkdir(new_valid_dir + c)"
   ]
  },
  {
   "cell_type": "code",
   "execution_count": 11,
   "metadata": {},
   "outputs": [
    {
     "name": "stdout",
     "output_type": "stream",
     "text": [
      "train_list count:93\n",
      "valid_list count:41\n",
      "train_list count:14\n",
      "valid_list count:6\n",
      "train_list count:95\n",
      "valid_list count:41\n",
      "train_list count:51\n",
      "valid_list count:23\n",
      "train_list count:34\n",
      "valid_list count:15\n"
     ]
    }
   ],
   "source": [
    "for level in classes:\n",
    "    retina_root = train_dir + level + '/'\n",
    "    retina_new_train = new_train_dir + level + '/'\n",
    "    retina_new_valid = new_valid_dir + level + '/'\n",
    "    retina_root_list = os.listdir(retina_root)\n",
    "    test_size = 0.7\n",
    "    split_index = int(0.7*len(retina_root_list))\n",
    "    np.random.shuffle(retina_root_list)\n",
    "    train_list = retina_root_list[:split_index]\n",
    "    valid_list = retina_root_list[split_index:]\n",
    "    print(\"train_list count:\" + str(len(train_list)))\n",
    "    print(\"valid_list count:\" + str(len(valid_list)))\n",
    "    for image in train_list :\n",
    "        source = retina_root + image\n",
    "        target = retina_new_train + image\n",
    "        shutil.copy(source,target)\n",
    "    for image in valid_list:\n",
    "        source = retina_root + image\n",
    "        target = retina_new_valid + image\n",
    "        shutil.copy(source,target)"
   ]
  },
  {
   "cell_type": "code",
   "execution_count": 8,
   "metadata": {},
   "outputs": [
    {
     "name": "stdout",
     "output_type": "stream",
     "text": [
      "[[1 3 4]\n",
      " [5 6 9]\n",
      " [1 2 3]\n",
      " [7 6 8]]\n",
      "[[1.02206755 2.77276308 4.14651336]\n",
      " [4.9803474  6.20236935 8.86952026]\n",
      " [0.99786077 2.02202837 2.98579698]\n",
      " [7.01104783 5.88623677 8.07335002]]\n"
     ]
    }
   ],
   "source": [
    "import numpy as np\n",
    "LA = np.linalg\n",
    "\n",
    "a = np.array([[1, 3, 4], [5, 6, 9], [1, 2, 3], [7, 6, 8]])\n",
    "print(a)\n",
    "# [[1 3 4]\n",
    "#  [5 6 9]\n",
    "#  [1 2 3]\n",
    "#  [7 6 8]]\n",
    "U, s, Vh = LA.svd(a, full_matrices=False)\n",
    "assert np.allclose(a, np.dot(U, np.dot(np.diag(s), Vh)))\n",
    "\n",
    "s[2:] = 0\n",
    "new_a = np.dot(U, np.dot(np.diag(s), Vh))\n",
    "print(new_a)"
   ]
  },
  {
   "cell_type": "code",
   "execution_count": 10,
   "metadata": {},
   "outputs": [
    {
     "name": "stdout",
     "output_type": "stream",
     "text": [
      "[[1.02206755 2.77276308 4.14651336]\n",
      " [4.9803474  6.20236935 8.86952026]\n",
      " [0.99786077 2.02202837 2.98579698]\n",
      " [7.01104783 5.88623677 8.07335002]]\n"
     ]
    }
   ],
   "source": [
    "# Singular-value decomposition\n",
    "U,s,VT = np.linalg.svd(a)\n",
    "# create m x n Sigma matrix\n",
    "Sigma = np.zeros((a.shape[0], a.shape[1]))\n",
    "# populate Sigma with n x n diagonal matrix\n",
    "Sigma[:a.shape[1], :a.shape[1]] = np.diag(s)\n",
    "\n",
    "Sigma = Sigma[:, :2]\n",
    "VT = VT[:2, :]\n",
    "B = U.dot(Sigma.dot(VT))\n",
    "print(B)"
   ]
  },
  {
   "cell_type": "code",
   "execution_count": null,
   "metadata": {},
   "outputs": [],
   "source": []
  }
 ],
 "metadata": {
  "kernelspec": {
   "display_name": "Python 3",
   "language": "python",
   "name": "python3"
  },
  "language_info": {
   "codemirror_mode": {
    "name": "ipython",
    "version": 3
   },
   "file_extension": ".py",
   "mimetype": "text/x-python",
   "name": "python",
   "nbconvert_exporter": "python",
   "pygments_lexer": "ipython3",
   "version": "3.6.2"
  }
 },
 "nbformat": 4,
 "nbformat_minor": 2
}
