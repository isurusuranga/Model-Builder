{
 "cells": [
  {
   "cell_type": "code",
   "execution_count": 1,
   "metadata": {},
   "outputs": [],
   "source": [
    "import os\n",
    "import numpy as np\n",
    "import shutil"
   ]
  },
  {
   "cell_type": "code",
   "execution_count": 9,
   "metadata": {},
   "outputs": [],
   "source": [
    "train_dir = \"C:/Users/hp/Desktop/SL_DR_Dataset/Disease_Grading/Original_Images/classified_train/\"\n",
    "\n",
    "# Create folders for  training data and validation randomly splitted\n",
    "new_train = os.mkdir(\"C:/Users/hp/Desktop/SL_DR_Dataset/Disease_Grading/Original_Images/train_test_splitter/train\")\n",
    "new_valid = os.mkdir(\"C:/Users/hp/Desktop/SL_DR_Dataset/Disease_Grading/Original_Images/train_test_splitter/validation\")\n",
    "\n",
    "new_train_dir  = \"C:/Users/hp/Desktop/SL_DR_Dataset/Disease_Grading/Original_Images/train_test_splitter/train/\"\n",
    "new_valid_dir = \"C:/Users/hp/Desktop/SL_DR_Dataset/Disease_Grading/Original_Images/train_test_splitter/validation/\""
   ]
  },
  {
   "cell_type": "code",
   "execution_count": 10,
   "metadata": {},
   "outputs": [],
   "source": [
    "# Get all the classes from the original train directory\n",
    "classes = os.listdir(train_dir)\n",
    "\n",
    "# Create target folders in the new train data directory\n",
    "for c in classes:\n",
    "    os.mkdir(new_train_dir + c)\n",
    "\n",
    "# Create validation folders in the new validation data directory\n",
    "for c in classes:\n",
    "    os.mkdir(new_valid_dir + c)"
   ]
  },
  {
   "cell_type": "code",
   "execution_count": 11,
   "metadata": {},
   "outputs": [
    {
     "name": "stdout",
     "output_type": "stream",
     "text": [
      "train_list count:93\n",
      "valid_list count:41\n",
      "train_list count:14\n",
      "valid_list count:6\n",
      "train_list count:95\n",
      "valid_list count:41\n",
      "train_list count:51\n",
      "valid_list count:23\n",
      "train_list count:34\n",
      "valid_list count:15\n"
     ]
    }
   ],
   "source": [
    "for level in classes:\n",
    "    retina_root = train_dir + level + '/'\n",
    "    retina_new_train = new_train_dir + level + '/'\n",
    "    retina_new_valid = new_valid_dir + level + '/'\n",
    "    retina_root_list = os.listdir(retina_root)\n",
    "    test_size = 0.7\n",
    "    split_index = int(0.7*len(retina_root_list))\n",
    "    np.random.shuffle(retina_root_list)\n",
    "    train_list = retina_root_list[:split_index]\n",
    "    valid_list = retina_root_list[split_index:]\n",
    "    print(\"train_list count:\" + str(len(train_list)))\n",
    "    print(\"valid_list count:\" + str(len(valid_list)))\n",
    "    for image in train_list :\n",
    "        source = retina_root + image\n",
    "        target = retina_new_train + image\n",
    "        shutil.copy(source,target)\n",
    "    for image in valid_list:\n",
    "        source = retina_root + image\n",
    "        target = retina_new_valid + image\n",
    "        shutil.copy(source,target)"
   ]
  },
  {
   "cell_type": "code",
   "execution_count": null,
   "metadata": {},
   "outputs": [],
   "source": []
  }
 ],
 "metadata": {
  "kernelspec": {
   "display_name": "Python 3",
   "language": "python",
   "name": "python3"
  },
  "language_info": {
   "codemirror_mode": {
    "name": "ipython",
    "version": 3
   },
   "file_extension": ".py",
   "mimetype": "text/x-python",
   "name": "python",
   "nbconvert_exporter": "python",
   "pygments_lexer": "ipython3",
   "version": "3.6.2"
  }
 },
 "nbformat": 4,
 "nbformat_minor": 2
}
