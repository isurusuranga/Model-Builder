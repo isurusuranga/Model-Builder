{
 "cells": [
  {
   "cell_type": "code",
   "execution_count": 1,
   "metadata": {},
   "outputs": [
    {
     "name": "stderr",
     "output_type": "stream",
     "text": [
      "Using TensorFlow backend.\n"
     ]
    }
   ],
   "source": [
    "from keras import applications\n",
    "from keras import models\n",
    "from keras import layers\n",
    "from keras import optimizers\n",
    "from keras.preprocessing.image import ImageDataGenerator\n",
    "from keras.models import Sequential\n",
    "from keras.layers import Dropout, Flatten, Dense\n",
    "from keras.layers.normalization import BatchNormalization\n",
    "from keras import regularizers\n",
    "import matplotlib.pyplot as plt\n",
    "from keras.models import load_model\n",
    "from keras.utils import layer_utils, np_utils\n",
    "import numpy as np\n",
    "from sklearn.metrics import classification_report, confusion_matrix\n",
    "from sklearn.datasets import make_classification\n",
    "from sklearn.preprocessing import label_binarize\n",
    "from scipy import interp\n",
    "from itertools import cycle\n",
    "from sklearn.metrics import roc_curve, auc\n",
    "from keras.models import Model\n",
    "from keras.applications.vgg16 import preprocess_input\n",
    "from keras.preprocessing import image\n",
    "from keras import backend as K"
   ]
  },
  {
   "cell_type": "code",
   "execution_count": null,
   "metadata": {},
   "outputs": [],
   "source": [
    "image_width = 224\n",
    "image_height = 224\n",
    "\n",
    "# Change the batchsize according to your system RAM\n",
    "train_batchsize = 16\n",
    "val_batchsize = 10\n",
    "nb_train_samples = 1200 # number of all training samples belong to all possible classses\n",
    "nb_validation_samples = 198 # number of all test samples belong to all possible classes\n",
    "#train_dir = \"D:/retinal_data_set_original/_1000_per_class_train/augmented_224/train\"\n",
    "train_dir = \"D:/retinal_data_set_original/original/new_train\"\n",
    "#validation_dir = \"D:/retinal_data_set_original/_1000_per_class_train/augmented_224/validation\"\n",
    "validation_dir = \"D:/retinal_data_set_original/original/new_valid\"\n",
    "test_dir = \"D:/retinal_data_set_original/original/new_test\""
   ]
  },
  {
   "cell_type": "code",
   "execution_count": 2,
   "metadata": {},
   "outputs": [],
   "source": [
    "# Returns a compiled model identical to the previous one\n",
    "loaded_model = load_model('D:/retinal_data_set_original/original/models/vgg16/vgg16_dr_last2.h5')"
   ]
  },
  {
   "cell_type": "code",
   "execution_count": 3,
   "metadata": {},
   "outputs": [
    {
     "name": "stdout",
     "output_type": "stream",
     "text": [
      "_________________________________________________________________\n",
      "Layer (type)                 Output Shape              Param #   \n",
      "=================================================================\n",
      "vgg16 (Model)                (None, 7, 7, 512)         14714688  \n",
      "_________________________________________________________________\n",
      "flatten_7 (Flatten)          (None, 25088)             0         \n",
      "_________________________________________________________________\n",
      "dense_13 (Dense)             (None, 256)               6422784   \n",
      "_________________________________________________________________\n",
      "batch_normalization_7 (Batch (None, 256)               1024      \n",
      "_________________________________________________________________\n",
      "dropout_7 (Dropout)          (None, 256)               0         \n",
      "_________________________________________________________________\n",
      "dense_14 (Dense)             (None, 5)                 1285      \n",
      "=================================================================\n",
      "Total params: 21,139,781\n",
      "Trainable params: 6,424,581\n",
      "Non-trainable params: 14,715,200\n",
      "_________________________________________________________________\n"
     ]
    }
   ],
   "source": [
    "loaded_model.summary()"
   ]
  },
  {
   "cell_type": "code",
   "execution_count": 4,
   "metadata": {},
   "outputs": [],
   "source": [
    "intermediate_layer_model = Model(inputs=loaded_model.input,\n",
    "                                 outputs=loaded_model.get_layer(\"dense_13\").output)"
   ]
  },
  {
   "cell_type": "code",
   "execution_count": 5,
   "metadata": {},
   "outputs": [
    {
     "name": "stdout",
     "output_type": "stream",
     "text": [
      "_________________________________________________________________\n",
      "Layer (type)                 Output Shape              Param #   \n",
      "=================================================================\n",
      "vgg16_input (InputLayer)     (None, 224, 224, 3)       0         \n",
      "_________________________________________________________________\n",
      "vgg16 (Model)                (None, 7, 7, 512)         14714688  \n",
      "_________________________________________________________________\n",
      "flatten_7 (Flatten)          (None, 25088)             0         \n",
      "_________________________________________________________________\n",
      "dense_13 (Dense)             (None, 256)               6422784   \n",
      "=================================================================\n",
      "Total params: 21,137,472\n",
      "Trainable params: 6,422,784\n",
      "Non-trainable params: 14,714,688\n",
      "_________________________________________________________________\n"
     ]
    }
   ],
   "source": [
    "intermediate_layer_model.summary()"
   ]
  },
  {
   "cell_type": "code",
   "execution_count": null,
   "metadata": {},
   "outputs": [],
   "source": [
    "datagen = ImageDataGenerator(rescale=1. / 255)\n",
    "\n",
    "generator = datagen.flow_from_directory(\n",
    "        train_data_dir,\n",
    "        target_size=(img_width, img_height),\n",
    "        batch_size=batch_size,\n",
    "        class_mode=None,  # this means our generator will only yield batches of data, no labels\n",
    "        shuffle=False)\n",
    "\n",
    "# the predict_generator method returns the output of a model, given\n",
    "# a generator that yields batches of numpy data\n",
    "bottleneck_features_train = intermediate_layer_model.predict_generator(generator, nb_train_samples // batch_size)\n",
    "# save the output as a Numpy array\n",
    "np.save(open('C:/Users/hp/Downloads/data/model/bottle_neck_features/bottleneck_features_train_vgg16.npy', 'wb'), bottleneck_features_train)\n",
    "\n",
    "generator = datagen.flow_from_directory(\n",
    "        validation_data_dir,\n",
    "        target_size=(img_width, img_height),\n",
    "        batch_size=batch_size,\n",
    "        class_mode=None,\n",
    "        shuffle=False)\n",
    "bottleneck_features_validation = intermediate_layer_model.predict_generator(generator, nb_validation_samples // batch_size)\n",
    "np.save(open('C:/Users/hp/Downloads/data/model/bottle_neck_features/bottleneck_features_validation_vgg16.npy', 'wb'), bottleneck_features_validation)"
   ]
  },
  {
   "cell_type": "code",
   "execution_count": 6,
   "metadata": {},
   "outputs": [],
   "source": [
    "# load an image and preprocess it\n",
    "img_path = 'D:/retinal_data_set_original/original/new_test/4/pdr_0_1617478.png'\n",
    "img = image.load_img(img_path, target_size=(224, 224))\n",
    "x = image.img_to_array(img)\n",
    "x = np.expand_dims(x, axis=0)\n",
    "x = preprocess_input(x)\n",
    "\n",
    "# get the features \n",
    "extract_features = intermediate_layer_model.predict(x)"
   ]
  },
  {
   "cell_type": "code",
   "execution_count": 7,
   "metadata": {},
   "outputs": [
    {
     "data": {
      "text/plain": [
       "array([[  0.       ,   0.       ,   0.       , 217.91887  ,  26.607054 ,\n",
       "        651.4683   ,   0.       , 568.51624  ,   0.       ,   0.       ,\n",
       "          0.       ,   0.       ,   0.       ,   0.       ,   0.       ,\n",
       "         72.3665   ,   0.       ,   0.       ,   0.       ,   1.2301357,\n",
       "          1.4975735,   0.       ,   0.       , 166.5935   ,  69.04588  ,\n",
       "          0.       , 403.3317   ,  65.23279  ,   0.       ,   0.       ,\n",
       "          0.       ,   0.       ,   0.       , 409.04227  , 497.1649   ,\n",
       "          0.       ,   0.       , 109.632744 ,   0.       ,   0.       ,\n",
       "        442.20618  ,   0.       ,   7.276459 ,   0.       ,   0.       ,\n",
       "          0.       ,   0.       ,   0.       ,   0.       ,  22.980484 ,\n",
       "          0.       ,   0.       , 122.70509  , 651.7275   ,   0.       ,\n",
       "          0.       ,   0.       ,   0.       ,   0.       ,   0.       ,\n",
       "          0.       ,   0.       ,   0.       , 359.47452  ,   0.       ,\n",
       "        456.59915  ,  22.703203 ,   0.       ,   0.       ,   0.       ,\n",
       "          0.       ,   0.       ,   0.       ,   0.       ,   0.       ,\n",
       "        106.43172  ,   0.       , 263.27023  ,   0.       ,   0.       ,\n",
       "          0.       ,   0.       ,   0.       ,   0.       ,  70.9033   ,\n",
       "          0.       ,   0.       ,   0.       ,   0.       ,   0.       ,\n",
       "          0.       , 117.95602  ,   0.       ,   0.       ,   0.       ,\n",
       "          0.       , 206.4748   ,   0.       ,   0.       ,   0.       ,\n",
       "          0.       ,   2.8602338,   0.       ,   0.       ,  37.638065 ,\n",
       "        235.89499  , 575.8022   ,   0.       ,   0.       ,   0.       ,\n",
       "          0.       ,   0.       ,   9.361838 ,   0.       ,  72.00094  ,\n",
       "          0.       ,   0.       , 279.06296  ,   0.       , 319.60727  ,\n",
       "          0.       ,  18.667671 ,   0.       ,  13.274192 , 489.80182  ,\n",
       "          0.       ,   0.       ,   0.       ,   0.       ,   0.       ,\n",
       "          1.5101497,   0.       ,   0.       , 341.22253  , 175.91606  ,\n",
       "          0.       ,   0.       ,   0.       , 575.2532   ,   0.       ,\n",
       "          0.       ,   0.       ,   0.       , 542.61945  ,   0.       ,\n",
       "          0.       ,   0.       ,   5.204692 , 343.5169   , 389.37625  ,\n",
       "          6.573251 , 135.49663  ,   6.691356 , 356.30362  ,  53.9595   ,\n",
       "          0.       , 369.0497   ,   0.       ,   0.       ,   0.       ,\n",
       "          0.       ,  15.8013115,   0.       ,   0.       ,   0.       ,\n",
       "          0.       ,   6.87343  ,   0.       ,   0.       ,   0.       ,\n",
       "          0.       ,   0.       ,   0.       ,   0.       ,   0.       ,\n",
       "          0.       , 249.68901  ,   0.       , 228.48148  ,   3.5930278,\n",
       "          0.       ,   0.       , 276.74673  ,   0.       ,   0.       ,\n",
       "         27.358217 ,   0.       ,   0.       ,   0.       ,   1.3263999,\n",
       "          0.       ,   0.       ,   0.       ,   0.       ,   0.       ,\n",
       "         41.37612  ,   4.511839 ,   0.       ,   0.       ,  13.501454 ,\n",
       "          8.739333 ,   0.       ,   0.       ,   0.       ,   0.       ,\n",
       "          0.       ,   0.       ,   0.       ,   0.       ,   1.2840655,\n",
       "          0.       ,   0.       ,   0.       ,   0.       ,   0.       ,\n",
       "        529.9871   ,   0.       ,   0.       ,   0.       ,   0.       ,\n",
       "          0.       ,   0.       ,   0.       ,   0.       ,   0.       ,\n",
       "          0.       , 281.15054  ,   0.       , 722.54065  ,   0.       ,\n",
       "          0.       , 457.28702  ,   0.       , 433.84348  ,   0.       ,\n",
       "          0.       ,   0.       ,   0.       ,   0.       ,  11.741955 ,\n",
       "          1.0727661,   4.222311 , 450.84033  ,   3.795175 ,   0.       ,\n",
       "          0.       , 851.2715   ,   0.       ,   0.       ,   5.081518 ,\n",
       "          0.       ,   0.       ,   0.       ,   0.       ,   0.       ,\n",
       "        580.4816   ]], dtype=float32)"
      ]
     },
     "execution_count": 7,
     "metadata": {},
     "output_type": "execute_result"
    }
   ],
   "source": [
    "extract_features"
   ]
  },
  {
   "cell_type": "code",
   "execution_count": 8,
   "metadata": {},
   "outputs": [],
   "source": [
    "get_3rd_layer_output = K.function([loaded_model.get_input_at(0), K.learning_phase()],\n",
    "                              [loaded_model.get_layer(\"dense_13\").output])\n"
   ]
  },
  {
   "cell_type": "code",
   "execution_count": 9,
   "metadata": {},
   "outputs": [],
   "source": [
    "# output in test mode = 0\n",
    "layer_output = get_3rd_layer_output([x, 0])[0]"
   ]
  },
  {
   "cell_type": "code",
   "execution_count": 10,
   "metadata": {},
   "outputs": [
    {
     "data": {
      "text/plain": [
       "array([[  0.       ,   0.       ,   0.       , 217.91887  ,  26.607054 ,\n",
       "        651.4683   ,   0.       , 568.51624  ,   0.       ,   0.       ,\n",
       "          0.       ,   0.       ,   0.       ,   0.       ,   0.       ,\n",
       "         72.3665   ,   0.       ,   0.       ,   0.       ,   1.2301357,\n",
       "          1.4975735,   0.       ,   0.       , 166.5935   ,  69.04588  ,\n",
       "          0.       , 403.3317   ,  65.23279  ,   0.       ,   0.       ,\n",
       "          0.       ,   0.       ,   0.       , 409.04227  , 497.1649   ,\n",
       "          0.       ,   0.       , 109.632744 ,   0.       ,   0.       ,\n",
       "        442.20618  ,   0.       ,   7.276459 ,   0.       ,   0.       ,\n",
       "          0.       ,   0.       ,   0.       ,   0.       ,  22.980484 ,\n",
       "          0.       ,   0.       , 122.70509  , 651.7275   ,   0.       ,\n",
       "          0.       ,   0.       ,   0.       ,   0.       ,   0.       ,\n",
       "          0.       ,   0.       ,   0.       , 359.47452  ,   0.       ,\n",
       "        456.59915  ,  22.703203 ,   0.       ,   0.       ,   0.       ,\n",
       "          0.       ,   0.       ,   0.       ,   0.       ,   0.       ,\n",
       "        106.43172  ,   0.       , 263.27023  ,   0.       ,   0.       ,\n",
       "          0.       ,   0.       ,   0.       ,   0.       ,  70.9033   ,\n",
       "          0.       ,   0.       ,   0.       ,   0.       ,   0.       ,\n",
       "          0.       , 117.95602  ,   0.       ,   0.       ,   0.       ,\n",
       "          0.       , 206.4748   ,   0.       ,   0.       ,   0.       ,\n",
       "          0.       ,   2.8602338,   0.       ,   0.       ,  37.638065 ,\n",
       "        235.89499  , 575.8022   ,   0.       ,   0.       ,   0.       ,\n",
       "          0.       ,   0.       ,   9.361838 ,   0.       ,  72.00094  ,\n",
       "          0.       ,   0.       , 279.06296  ,   0.       , 319.60727  ,\n",
       "          0.       ,  18.667671 ,   0.       ,  13.274192 , 489.80182  ,\n",
       "          0.       ,   0.       ,   0.       ,   0.       ,   0.       ,\n",
       "          1.5101497,   0.       ,   0.       , 341.22253  , 175.91606  ,\n",
       "          0.       ,   0.       ,   0.       , 575.2532   ,   0.       ,\n",
       "          0.       ,   0.       ,   0.       , 542.61945  ,   0.       ,\n",
       "          0.       ,   0.       ,   5.204692 , 343.5169   , 389.37625  ,\n",
       "          6.573251 , 135.49663  ,   6.691356 , 356.30362  ,  53.9595   ,\n",
       "          0.       , 369.0497   ,   0.       ,   0.       ,   0.       ,\n",
       "          0.       ,  15.8013115,   0.       ,   0.       ,   0.       ,\n",
       "          0.       ,   6.87343  ,   0.       ,   0.       ,   0.       ,\n",
       "          0.       ,   0.       ,   0.       ,   0.       ,   0.       ,\n",
       "          0.       , 249.68901  ,   0.       , 228.48148  ,   3.5930278,\n",
       "          0.       ,   0.       , 276.74673  ,   0.       ,   0.       ,\n",
       "         27.358217 ,   0.       ,   0.       ,   0.       ,   1.3263999,\n",
       "          0.       ,   0.       ,   0.       ,   0.       ,   0.       ,\n",
       "         41.37612  ,   4.511839 ,   0.       ,   0.       ,  13.501454 ,\n",
       "          8.739333 ,   0.       ,   0.       ,   0.       ,   0.       ,\n",
       "          0.       ,   0.       ,   0.       ,   0.       ,   1.2840655,\n",
       "          0.       ,   0.       ,   0.       ,   0.       ,   0.       ,\n",
       "        529.9871   ,   0.       ,   0.       ,   0.       ,   0.       ,\n",
       "          0.       ,   0.       ,   0.       ,   0.       ,   0.       ,\n",
       "          0.       , 281.15054  ,   0.       , 722.54065  ,   0.       ,\n",
       "          0.       , 457.28702  ,   0.       , 433.84348  ,   0.       ,\n",
       "          0.       ,   0.       ,   0.       ,   0.       ,  11.741955 ,\n",
       "          1.0727661,   4.222311 , 450.84033  ,   3.795175 ,   0.       ,\n",
       "          0.       , 851.2715   ,   0.       ,   0.       ,   5.081518 ,\n",
       "          0.       ,   0.       ,   0.       ,   0.       ,   0.       ,\n",
       "        580.4816   ]], dtype=float32)"
      ]
     },
     "execution_count": 10,
     "metadata": {},
     "output_type": "execute_result"
    }
   ],
   "source": [
    "layer_output"
   ]
  },
  {
   "cell_type": "code",
   "execution_count": null,
   "metadata": {},
   "outputs": [],
   "source": []
  }
 ],
 "metadata": {
  "kernelspec": {
   "display_name": "Python 3",
   "language": "python",
   "name": "python3"
  },
  "language_info": {
   "codemirror_mode": {
    "name": "ipython",
    "version": 3
   },
   "file_extension": ".py",
   "mimetype": "text/x-python",
   "name": "python",
   "nbconvert_exporter": "python",
   "pygments_lexer": "ipython3",
   "version": "3.6.2"
  }
 },
 "nbformat": 4,
 "nbformat_minor": 2
}
