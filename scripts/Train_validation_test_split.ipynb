{
 "cells": [
  {
   "cell_type": "code",
   "execution_count": 1,
   "metadata": {},
   "outputs": [],
   "source": [
    "import os\n",
    "import numpy as np\n",
    "import shutil"
   ]
  },
  {
   "cell_type": "code",
   "execution_count": 2,
   "metadata": {},
   "outputs": [],
   "source": [
    "#train_dir = \"D:/retinal_samples/_2000_per_train_class/augmented_224/train/\"\n",
    "\n",
    "train_dir = \"D:/retinal_data_set_visioncare/original_new/\"\n",
    "\n",
    "# Create folders for  training data and validation randomly splitted\n",
    "new_train = os.mkdir(\"D:/retinal_data_set_visioncare/newTrainValidationTestData/new_train\")\n",
    "new_valid = os.mkdir(\"D:/retinal_data_set_visioncare/newTrainValidationTestData/new_valid\")\n",
    "new_test = os.mkdir(\"D:/retinal_data_set_visioncare/newTrainValidationTestData/new_test\")\n",
    "\n",
    "new_train_dir = \"D:/retinal_data_set_visioncare/newTrainValidationTestData/new_train/\"\n",
    "new_valid_dir = \"D:/retinal_data_set_visioncare/newTrainValidationTestData/new_valid/\"\n",
    "new_test_dir = \"D:/retinal_data_set_visioncare/newTrainValidationTestData/new_test/\""
   ]
  },
  {
   "cell_type": "code",
   "execution_count": 3,
   "metadata": {},
   "outputs": [],
   "source": [
    "# Get all the classes from the original train directory\n",
    "classes = os.listdir(train_dir)\n",
    "\n",
    "# Create target folders in the new train data directory\n",
    "for c in classes:\n",
    "    os.mkdir(new_train_dir + c)\n",
    "\n",
    "# Create validation folders in the new validation data directory\n",
    "for c in classes:\n",
    "    os.mkdir(new_valid_dir + c)\n",
    "\n",
    "# Create test folders in the new test data directory\n",
    "for c in classes:\n",
    "    os.mkdir(new_test_dir + c)"
   ]
  },
  {
   "cell_type": "code",
   "execution_count": 4,
   "metadata": {},
   "outputs": [
    {
     "name": "stdout",
     "output_type": "stream",
     "text": [
      "train_list count:351\n",
      "valid_list count:75\n",
      "test_list count:76\n",
      "train_list count:86\n",
      "valid_list count:18\n",
      "test_list count:19\n",
      "train_list count:105\n",
      "valid_list count:22\n",
      "test_list count:23\n",
      "train_list count:45\n",
      "valid_list count:10\n",
      "test_list count:10\n",
      "train_list count:66\n",
      "valid_list count:14\n",
      "test_list count:15\n"
     ]
    }
   ],
   "source": [
    "for level in classes:\n",
    "    retina_root = train_dir + level + '/'\n",
    "    retina_new_train = new_train_dir + level + '/'\n",
    "    retina_new_valid = new_valid_dir + level + '/'\n",
    "    retina_new_test = new_test_dir + level + '/'\n",
    "    retina_root_list = os.listdir(retina_root)\n",
    "    test_size = 0.7\n",
    "    split_index = int(0.7*len(retina_root_list))\n",
    "    split_post_data_count = len(retina_root_list) - split_index\n",
    "    validation_index = split_index + int(split_post_data_count / 2)\n",
    "    np.random.shuffle(retina_root_list)\n",
    "    train_list = retina_root_list[:split_index]\n",
    "    valid_list = retina_root_list[split_index:validation_index]\n",
    "    test_list = retina_root_list[validation_index:]\n",
    "    print(\"train_list count:\" + str(len(train_list)))\n",
    "    print(\"valid_list count:\" + str(len(valid_list)))\n",
    "    print(\"test_list count:\" + str(len(test_list)))\n",
    "    for image in train_list :\n",
    "        source = retina_root + image\n",
    "        target = retina_new_train + image\n",
    "        shutil.copy(source,target)\n",
    "    for image in valid_list:\n",
    "        source = retina_root + image\n",
    "        target = retina_new_valid + image\n",
    "        shutil.copy(source,target)\n",
    "    for image in test_list:\n",
    "        source = retina_root + image\n",
    "        target = retina_new_test + image\n",
    "        shutil.copy(source,target)"
   ]
  },
  {
   "cell_type": "code",
   "execution_count": 5,
   "metadata": {},
   "outputs": [],
   "source": [
    "train_no = []\n",
    "valid_no = []\n",
    "test_no = []\n",
    "\n",
    "for c in classes:\n",
    "    train_no.append((len(os.listdir(new_train_dir + c + '/'))))\n",
    "    valid_no.append(len(os.listdir(new_valid_dir + c + '/')))\n",
    "    test_no.append(len(os.listdir(new_test_dir + c + '/')))"
   ]
  },
  {
   "cell_type": "code",
   "execution_count": 6,
   "metadata": {},
   "outputs": [
    {
     "data": {
      "text/plain": [
       "653"
      ]
     },
     "execution_count": 6,
     "metadata": {},
     "output_type": "execute_result"
    }
   ],
   "source": [
    "sum(train_no)"
   ]
  },
  {
   "cell_type": "code",
   "execution_count": 7,
   "metadata": {},
   "outputs": [
    {
     "data": {
      "text/plain": [
       "139"
      ]
     },
     "execution_count": 7,
     "metadata": {},
     "output_type": "execute_result"
    }
   ],
   "source": [
    "sum(valid_no)"
   ]
  },
  {
   "cell_type": "code",
   "execution_count": 8,
   "metadata": {},
   "outputs": [
    {
     "data": {
      "text/plain": [
       "143"
      ]
     },
     "execution_count": 8,
     "metadata": {},
     "output_type": "execute_result"
    }
   ],
   "source": [
    "sum(test_no)"
   ]
  },
  {
   "cell_type": "code",
   "execution_count": null,
   "metadata": {},
   "outputs": [],
   "source": []
  }
 ],
 "metadata": {
  "kernelspec": {
   "display_name": "Python 3",
   "language": "python",
   "name": "python3"
  },
  "language_info": {
   "codemirror_mode": {
    "name": "ipython",
    "version": 3
   },
   "file_extension": ".py",
   "mimetype": "text/x-python",
   "name": "python",
   "nbconvert_exporter": "python",
   "pygments_lexer": "ipython3",
   "version": "3.6.2"
  }
 },
 "nbformat": 4,
 "nbformat_minor": 2
}
