{
 "cells": [
  {
   "cell_type": "code",
   "execution_count": 1,
   "metadata": {},
   "outputs": [
    {
     "name": "stderr",
     "output_type": "stream",
     "text": [
      "Using TensorFlow backend.\n"
     ]
    }
   ],
   "source": [
    "import os\n",
    "import scipy\n",
    "from os import listdir\n",
    "from PIL import Image as PImage\n",
    "from multiprocessing import Process\n",
    "from keras.preprocessing.image import ImageDataGenerator, array_to_img, img_to_array, load_img\n",
    "import math"
   ]
  },
  {
   "cell_type": "code",
   "execution_count": 2,
   "metadata": {},
   "outputs": [],
   "source": [
    "datagen = ImageDataGenerator(\n",
    "        rotation_range=40,\n",
    "        zoom_range=(0.9, 1.1),\n",
    "        horizontal_flip=True,\n",
    "        vertical_flip=True,\n",
    "        shear_range=0.5,\n",
    "        fill_mode='constant',\n",
    "        cval=0)"
   ]
  },
  {
   "cell_type": "code",
   "execution_count": 3,
   "metadata": {},
   "outputs": [
    {
     "name": "stdout",
     "output_type": "stream",
     "text": [
      "93 558 5\n",
      "14 588 41\n",
      "95 570 5\n",
      "51 561 10\n",
      "34 578 16\n"
     ]
    }
   ],
   "source": [
    "class_size=600\n",
    "data_root = 'C:/Users/hp/Desktop/SL_DR_Dataset/Disease_Grading/Original_Images/random_train_test/'\n",
    "\n",
    "src_train_dir=os.path.join(data_root,'train/')\n",
    "dest_train_dir=os.path.join(data_root,'classified_train_destination_600/')\n",
    "\n",
    "if not os.path.exists(dest_train_dir):\n",
    "    os.makedirs(dest_train_dir)\n",
    "\n",
    "# Get all the classes from the original train directory\n",
    "classes = os.listdir(src_train_dir)\n",
    "\n",
    "label_counts = {}\n",
    "\n",
    "for c in classes:\n",
    "    label_counts[c] = (len(os.listdir(src_train_dir + c + '/')))\n",
    "\n",
    "for key, count in label_counts.items():\n",
    "    #nb of generations per image for this class label in order to make it size ~= class_size\n",
    "    ratio=math.floor(class_size/count)-1\n",
    "    print(count,count*(ratio+1), ratio)\n",
    "    dest_lab_dir=os.path.join(dest_train_dir,key)\n",
    "    src_lab_dir=os.path.join(src_train_dir,key)\n",
    "    if not os.path.exists(dest_lab_dir):\n",
    "        os.makedirs(dest_lab_dir)\n",
    "    for file in os.listdir(src_lab_dir):\n",
    "        img=load_img(os.path.join(src_lab_dir,file))\n",
    "        #img.save(os.path.join(dest_lab_dir,file))\n",
    "        x=img_to_array(img) \n",
    "        x=x.reshape((1,) + x.shape)\n",
    "        i=0\n",
    "        for batch in datagen.flow(x, batch_size=1,save_to_dir=dest_lab_dir, save_format='jpg'):\n",
    "            i+=1\n",
    "            if i > ratio:\n",
    "                break"
   ]
  },
  {
   "cell_type": "code",
   "execution_count": 4,
   "metadata": {},
   "outputs": [
    {
     "data": {
      "text/plain": [
       "2"
      ]
     },
     "execution_count": 4,
     "metadata": {},
     "output_type": "execute_result"
    }
   ],
   "source": [
    "math.floor(class_size/134)"
   ]
  },
  {
   "cell_type": "code",
   "execution_count": 5,
   "metadata": {},
   "outputs": [
    {
     "data": {
      "text/plain": [
       "{'0': 93, '1': 14, '2': 95, '3': 51, '4': 34}"
      ]
     },
     "execution_count": 5,
     "metadata": {},
     "output_type": "execute_result"
    }
   ],
   "source": [
    "label_counts"
   ]
  },
  {
   "cell_type": "code",
   "execution_count": null,
   "metadata": {},
   "outputs": [],
   "source": []
  }
 ],
 "metadata": {
  "kernelspec": {
   "display_name": "Python 3",
   "language": "python",
   "name": "python3"
  },
  "language_info": {
   "codemirror_mode": {
    "name": "ipython",
    "version": 3
   },
   "file_extension": ".py",
   "mimetype": "text/x-python",
   "name": "python",
   "nbconvert_exporter": "python",
   "pygments_lexer": "ipython3",
   "version": "3.6.2"
  }
 },
 "nbformat": 4,
 "nbformat_minor": 2
}
