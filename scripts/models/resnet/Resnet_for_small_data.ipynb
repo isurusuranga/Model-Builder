{
 "cells": [
  {
   "cell_type": "code",
   "execution_count": 167,
   "metadata": {},
   "outputs": [],
   "source": [
    "from keras import applications\n",
    "from keras import models\n",
    "from keras import layers\n",
    "from keras import optimizers\n",
    "from keras.preprocessing.image import ImageDataGenerator\n",
    "from keras.models import Sequential\n",
    "from keras.layers import Dropout, Flatten, Dense, Activation, GlobalAveragePooling2D\n",
    "from keras.layers.normalization import BatchNormalization\n",
    "from keras import regularizers\n",
    "import matplotlib.pyplot as plt\n",
    "from keras.models import load_model\n",
    "from keras.utils.np_utils import to_categorical \n",
    "from keras.callbacks import ModelCheckpoint\n",
    "from keras import Model\n",
    "from keras import initializers\n",
    "from keras.callbacks import LearningRateScheduler\n",
    "from keras.utils import layer_utils, np_utils\n",
    "import numpy as np\n",
    "from sklearn.metrics import classification_report, confusion_matrix\n",
    "from sklearn.datasets import make_classification\n",
    "from sklearn.preprocessing import label_binarize\n",
    "from sklearn.metrics import roc_curve, auc\n",
    "from classification_models import ResNet18\n",
    "from classification_models.resnet import preprocess_input\n",
    "from sklearn.cross_validation import cross_val_score\n",
    "from sklearn.neighbors import KNeighborsClassifier\n",
    "from sklearn.model_selection import StratifiedKFold\n",
    "from sklearn.metrics import accuracy_score\n",
    "from sklearn.preprocessing import StandardScaler\n",
    "from sklearn.model_selection import train_test_split\n",
    "from sklearn.metrics import precision_recall_fscore_support\n",
    "import seaborn as sn\n",
    "import pandas as pd"
   ]
  },
  {
   "cell_type": "code",
   "execution_count": 57,
   "metadata": {},
   "outputs": [],
   "source": [
    "image_width = 224\n",
    "image_height = 224\n",
    "\n",
    "# Change the batchsize according to your system RAM\n",
    "batch_size = 64\n",
    "\n",
    "nb_train_samples = 5000\n",
    "nb_validation_samples = 278\n",
    "\n",
    "#train_dir = \"D:/retinal_data_set_visioncare/TrainValidationData/train\"\n",
    "train_dir = \"D:/retinal_data_set_visioncare/TrainValidationData/augmented_train_data_224\"\n",
    "validation_dir = \"D:/retinal_data_set_visioncare/TrainValidationData/validation\"\n",
    "\n",
    "resnet_base = ResNet18(weights='imagenet', include_top=False, input_shape=(image_width, image_height, 3))"
   ]
  },
  {
   "cell_type": "code",
   "execution_count": 58,
   "metadata": {},
   "outputs": [
    {
     "name": "stdout",
     "output_type": "stream",
     "text": [
      "__________________________________________________________________________________________________\n",
      "Layer (type)                    Output Shape         Param #     Connected to                     \n",
      "==================================================================================================\n",
      "data (InputLayer)               (None, 224, 224, 3)  0                                            \n",
      "__________________________________________________________________________________________________\n",
      "bn_data (BatchNormalization)    (None, 224, 224, 3)  9           data[0][0]                       \n",
      "__________________________________________________________________________________________________\n",
      "zero_padding2d_73 (ZeroPadding2 (None, 230, 230, 3)  0           bn_data[0][0]                    \n",
      "__________________________________________________________________________________________________\n",
      "conv0 (Conv2D)                  (None, 112, 112, 64) 9408        zero_padding2d_73[0][0]          \n",
      "__________________________________________________________________________________________________\n",
      "bn0 (BatchNormalization)        (None, 112, 112, 64) 256         conv0[0][0]                      \n",
      "__________________________________________________________________________________________________\n",
      "relu0 (Activation)              (None, 112, 112, 64) 0           bn0[0][0]                        \n",
      "__________________________________________________________________________________________________\n",
      "zero_padding2d_74 (ZeroPadding2 (None, 114, 114, 64) 0           relu0[0][0]                      \n",
      "__________________________________________________________________________________________________\n",
      "pooling0 (MaxPooling2D)         (None, 56, 56, 64)   0           zero_padding2d_74[0][0]          \n",
      "__________________________________________________________________________________________________\n",
      "stage1_unit1_bn1 (BatchNormaliz (None, 56, 56, 64)   256         pooling0[0][0]                   \n",
      "__________________________________________________________________________________________________\n",
      "stage1_unit1_relu1 (Activation) (None, 56, 56, 64)   0           stage1_unit1_bn1[0][0]           \n",
      "__________________________________________________________________________________________________\n",
      "zero_padding2d_75 (ZeroPadding2 (None, 58, 58, 64)   0           stage1_unit1_relu1[0][0]         \n",
      "__________________________________________________________________________________________________\n",
      "stage1_unit1_conv1 (Conv2D)     (None, 56, 56, 64)   36864       zero_padding2d_75[0][0]          \n",
      "__________________________________________________________________________________________________\n",
      "stage1_unit1_bn2 (BatchNormaliz (None, 56, 56, 64)   256         stage1_unit1_conv1[0][0]         \n",
      "__________________________________________________________________________________________________\n",
      "stage1_unit1_relu2 (Activation) (None, 56, 56, 64)   0           stage1_unit1_bn2[0][0]           \n",
      "__________________________________________________________________________________________________\n",
      "zero_padding2d_76 (ZeroPadding2 (None, 58, 58, 64)   0           stage1_unit1_relu2[0][0]         \n",
      "__________________________________________________________________________________________________\n",
      "stage1_unit1_conv2 (Conv2D)     (None, 56, 56, 64)   36864       zero_padding2d_76[0][0]          \n",
      "__________________________________________________________________________________________________\n",
      "stage1_unit1_sc (Conv2D)        (None, 56, 56, 64)   4096        stage1_unit1_relu1[0][0]         \n",
      "__________________________________________________________________________________________________\n",
      "add_33 (Add)                    (None, 56, 56, 64)   0           stage1_unit1_conv2[0][0]         \n",
      "                                                                 stage1_unit1_sc[0][0]            \n",
      "__________________________________________________________________________________________________\n",
      "stage1_unit2_bn1 (BatchNormaliz (None, 56, 56, 64)   256         add_33[0][0]                     \n",
      "__________________________________________________________________________________________________\n",
      "stage1_unit2_relu1 (Activation) (None, 56, 56, 64)   0           stage1_unit2_bn1[0][0]           \n",
      "__________________________________________________________________________________________________\n",
      "zero_padding2d_77 (ZeroPadding2 (None, 58, 58, 64)   0           stage1_unit2_relu1[0][0]         \n",
      "__________________________________________________________________________________________________\n",
      "stage1_unit2_conv1 (Conv2D)     (None, 56, 56, 64)   36864       zero_padding2d_77[0][0]          \n",
      "__________________________________________________________________________________________________\n",
      "stage1_unit2_bn2 (BatchNormaliz (None, 56, 56, 64)   256         stage1_unit2_conv1[0][0]         \n",
      "__________________________________________________________________________________________________\n",
      "stage1_unit2_relu2 (Activation) (None, 56, 56, 64)   0           stage1_unit2_bn2[0][0]           \n",
      "__________________________________________________________________________________________________\n",
      "zero_padding2d_78 (ZeroPadding2 (None, 58, 58, 64)   0           stage1_unit2_relu2[0][0]         \n",
      "__________________________________________________________________________________________________\n",
      "stage1_unit2_conv2 (Conv2D)     (None, 56, 56, 64)   36864       zero_padding2d_78[0][0]          \n",
      "__________________________________________________________________________________________________\n",
      "add_34 (Add)                    (None, 56, 56, 64)   0           stage1_unit2_conv2[0][0]         \n",
      "                                                                 add_33[0][0]                     \n",
      "__________________________________________________________________________________________________\n",
      "stage2_unit1_bn1 (BatchNormaliz (None, 56, 56, 64)   256         add_34[0][0]                     \n",
      "__________________________________________________________________________________________________\n",
      "stage2_unit1_relu1 (Activation) (None, 56, 56, 64)   0           stage2_unit1_bn1[0][0]           \n",
      "__________________________________________________________________________________________________\n",
      "zero_padding2d_79 (ZeroPadding2 (None, 58, 58, 64)   0           stage2_unit1_relu1[0][0]         \n",
      "__________________________________________________________________________________________________\n",
      "stage2_unit1_conv1 (Conv2D)     (None, 28, 28, 128)  73728       zero_padding2d_79[0][0]          \n",
      "__________________________________________________________________________________________________\n",
      "stage2_unit1_bn2 (BatchNormaliz (None, 28, 28, 128)  512         stage2_unit1_conv1[0][0]         \n",
      "__________________________________________________________________________________________________\n",
      "stage2_unit1_relu2 (Activation) (None, 28, 28, 128)  0           stage2_unit1_bn2[0][0]           \n",
      "__________________________________________________________________________________________________\n",
      "zero_padding2d_80 (ZeroPadding2 (None, 30, 30, 128)  0           stage2_unit1_relu2[0][0]         \n",
      "__________________________________________________________________________________________________\n",
      "stage2_unit1_conv2 (Conv2D)     (None, 28, 28, 128)  147456      zero_padding2d_80[0][0]          \n",
      "__________________________________________________________________________________________________\n",
      "stage2_unit1_sc (Conv2D)        (None, 28, 28, 128)  8192        stage2_unit1_relu1[0][0]         \n",
      "__________________________________________________________________________________________________\n",
      "add_35 (Add)                    (None, 28, 28, 128)  0           stage2_unit1_conv2[0][0]         \n",
      "                                                                 stage2_unit1_sc[0][0]            \n",
      "__________________________________________________________________________________________________\n",
      "stage2_unit2_bn1 (BatchNormaliz (None, 28, 28, 128)  512         add_35[0][0]                     \n",
      "__________________________________________________________________________________________________\n",
      "stage2_unit2_relu1 (Activation) (None, 28, 28, 128)  0           stage2_unit2_bn1[0][0]           \n",
      "__________________________________________________________________________________________________\n",
      "zero_padding2d_81 (ZeroPadding2 (None, 30, 30, 128)  0           stage2_unit2_relu1[0][0]         \n",
      "__________________________________________________________________________________________________\n",
      "stage2_unit2_conv1 (Conv2D)     (None, 28, 28, 128)  147456      zero_padding2d_81[0][0]          \n",
      "__________________________________________________________________________________________________\n",
      "stage2_unit2_bn2 (BatchNormaliz (None, 28, 28, 128)  512         stage2_unit2_conv1[0][0]         \n",
      "__________________________________________________________________________________________________\n",
      "stage2_unit2_relu2 (Activation) (None, 28, 28, 128)  0           stage2_unit2_bn2[0][0]           \n",
      "__________________________________________________________________________________________________\n",
      "zero_padding2d_82 (ZeroPadding2 (None, 30, 30, 128)  0           stage2_unit2_relu2[0][0]         \n",
      "__________________________________________________________________________________________________\n",
      "stage2_unit2_conv2 (Conv2D)     (None, 28, 28, 128)  147456      zero_padding2d_82[0][0]          \n",
      "__________________________________________________________________________________________________\n",
      "add_36 (Add)                    (None, 28, 28, 128)  0           stage2_unit2_conv2[0][0]         \n",
      "                                                                 add_35[0][0]                     \n",
      "__________________________________________________________________________________________________\n",
      "stage3_unit1_bn1 (BatchNormaliz (None, 28, 28, 128)  512         add_36[0][0]                     \n",
      "__________________________________________________________________________________________________\n",
      "stage3_unit1_relu1 (Activation) (None, 28, 28, 128)  0           stage3_unit1_bn1[0][0]           \n",
      "__________________________________________________________________________________________________\n",
      "zero_padding2d_83 (ZeroPadding2 (None, 30, 30, 128)  0           stage3_unit1_relu1[0][0]         \n",
      "__________________________________________________________________________________________________\n",
      "stage3_unit1_conv1 (Conv2D)     (None, 14, 14, 256)  294912      zero_padding2d_83[0][0]          \n",
      "__________________________________________________________________________________________________\n",
      "stage3_unit1_bn2 (BatchNormaliz (None, 14, 14, 256)  1024        stage3_unit1_conv1[0][0]         \n",
      "__________________________________________________________________________________________________\n",
      "stage3_unit1_relu2 (Activation) (None, 14, 14, 256)  0           stage3_unit1_bn2[0][0]           \n",
      "__________________________________________________________________________________________________\n",
      "zero_padding2d_84 (ZeroPadding2 (None, 16, 16, 256)  0           stage3_unit1_relu2[0][0]         \n",
      "__________________________________________________________________________________________________\n",
      "stage3_unit1_conv2 (Conv2D)     (None, 14, 14, 256)  589824      zero_padding2d_84[0][0]          \n",
      "__________________________________________________________________________________________________\n",
      "stage3_unit1_sc (Conv2D)        (None, 14, 14, 256)  32768       stage3_unit1_relu1[0][0]         \n",
      "__________________________________________________________________________________________________\n",
      "add_37 (Add)                    (None, 14, 14, 256)  0           stage3_unit1_conv2[0][0]         \n",
      "                                                                 stage3_unit1_sc[0][0]            \n",
      "__________________________________________________________________________________________________\n",
      "stage3_unit2_bn1 (BatchNormaliz (None, 14, 14, 256)  1024        add_37[0][0]                     \n",
      "__________________________________________________________________________________________________\n",
      "stage3_unit2_relu1 (Activation) (None, 14, 14, 256)  0           stage3_unit2_bn1[0][0]           \n",
      "__________________________________________________________________________________________________\n",
      "zero_padding2d_85 (ZeroPadding2 (None, 16, 16, 256)  0           stage3_unit2_relu1[0][0]         \n",
      "__________________________________________________________________________________________________\n",
      "stage3_unit2_conv1 (Conv2D)     (None, 14, 14, 256)  589824      zero_padding2d_85[0][0]          \n",
      "__________________________________________________________________________________________________\n",
      "stage3_unit2_bn2 (BatchNormaliz (None, 14, 14, 256)  1024        stage3_unit2_conv1[0][0]         \n",
      "__________________________________________________________________________________________________\n",
      "stage3_unit2_relu2 (Activation) (None, 14, 14, 256)  0           stage3_unit2_bn2[0][0]           \n",
      "__________________________________________________________________________________________________\n",
      "zero_padding2d_86 (ZeroPadding2 (None, 16, 16, 256)  0           stage3_unit2_relu2[0][0]         \n",
      "__________________________________________________________________________________________________\n",
      "stage3_unit2_conv2 (Conv2D)     (None, 14, 14, 256)  589824      zero_padding2d_86[0][0]          \n",
      "__________________________________________________________________________________________________\n",
      "add_38 (Add)                    (None, 14, 14, 256)  0           stage3_unit2_conv2[0][0]         \n",
      "                                                                 add_37[0][0]                     \n",
      "__________________________________________________________________________________________________\n",
      "stage4_unit1_bn1 (BatchNormaliz (None, 14, 14, 256)  1024        add_38[0][0]                     \n",
      "__________________________________________________________________________________________________\n",
      "stage4_unit1_relu1 (Activation) (None, 14, 14, 256)  0           stage4_unit1_bn1[0][0]           \n",
      "__________________________________________________________________________________________________\n",
      "zero_padding2d_87 (ZeroPadding2 (None, 16, 16, 256)  0           stage4_unit1_relu1[0][0]         \n",
      "__________________________________________________________________________________________________\n",
      "stage4_unit1_conv1 (Conv2D)     (None, 7, 7, 512)    1179648     zero_padding2d_87[0][0]          \n",
      "__________________________________________________________________________________________________\n",
      "stage4_unit1_bn2 (BatchNormaliz (None, 7, 7, 512)    2048        stage4_unit1_conv1[0][0]         \n",
      "__________________________________________________________________________________________________\n",
      "stage4_unit1_relu2 (Activation) (None, 7, 7, 512)    0           stage4_unit1_bn2[0][0]           \n",
      "__________________________________________________________________________________________________\n",
      "zero_padding2d_88 (ZeroPadding2 (None, 9, 9, 512)    0           stage4_unit1_relu2[0][0]         \n",
      "__________________________________________________________________________________________________\n",
      "stage4_unit1_conv2 (Conv2D)     (None, 7, 7, 512)    2359296     zero_padding2d_88[0][0]          \n",
      "__________________________________________________________________________________________________\n",
      "stage4_unit1_sc (Conv2D)        (None, 7, 7, 512)    131072      stage4_unit1_relu1[0][0]         \n",
      "__________________________________________________________________________________________________\n",
      "add_39 (Add)                    (None, 7, 7, 512)    0           stage4_unit1_conv2[0][0]         \n",
      "                                                                 stage4_unit1_sc[0][0]            \n",
      "__________________________________________________________________________________________________\n",
      "stage4_unit2_bn1 (BatchNormaliz (None, 7, 7, 512)    2048        add_39[0][0]                     \n",
      "__________________________________________________________________________________________________\n",
      "stage4_unit2_relu1 (Activation) (None, 7, 7, 512)    0           stage4_unit2_bn1[0][0]           \n",
      "__________________________________________________________________________________________________\n",
      "zero_padding2d_89 (ZeroPadding2 (None, 9, 9, 512)    0           stage4_unit2_relu1[0][0]         \n",
      "__________________________________________________________________________________________________\n",
      "stage4_unit2_conv1 (Conv2D)     (None, 7, 7, 512)    2359296     zero_padding2d_89[0][0]          \n",
      "__________________________________________________________________________________________________\n",
      "stage4_unit2_bn2 (BatchNormaliz (None, 7, 7, 512)    2048        stage4_unit2_conv1[0][0]         \n",
      "__________________________________________________________________________________________________\n",
      "stage4_unit2_relu2 (Activation) (None, 7, 7, 512)    0           stage4_unit2_bn2[0][0]           \n",
      "__________________________________________________________________________________________________\n",
      "zero_padding2d_90 (ZeroPadding2 (None, 9, 9, 512)    0           stage4_unit2_relu2[0][0]         \n",
      "__________________________________________________________________________________________________\n",
      "stage4_unit2_conv2 (Conv2D)     (None, 7, 7, 512)    2359296     zero_padding2d_90[0][0]          \n",
      "__________________________________________________________________________________________________\n",
      "add_40 (Add)                    (None, 7, 7, 512)    0           stage4_unit2_conv2[0][0]         \n",
      "                                                                 add_39[0][0]                     \n",
      "__________________________________________________________________________________________________\n",
      "bn1 (BatchNormalization)        (None, 7, 7, 512)    2048        add_40[0][0]                     \n",
      "__________________________________________________________________________________________________\n",
      "relu1 (Activation)              (None, 7, 7, 512)    0           bn1[0][0]                        \n",
      "__________________________________________________________________________________________________\n",
      "global_average_pooling2d_4 (Glo (None, 512)          0           relu1[0][0]                      \n",
      "==================================================================================================\n",
      "Total params: 11,186,889\n",
      "Trainable params: 11,178,947\n",
      "Non-trainable params: 7,942\n",
      "__________________________________________________________________________________________________\n"
     ]
    }
   ],
   "source": [
    "x = resnet_base.get_layer(index=-1).output\n",
    "feature_extraction_layer = GlobalAveragePooling2D()(x)\n",
    "model = Model(inputs=resnet_base.input, outputs=feature_extraction_layer)\n",
    "model.summary()"
   ]
  },
  {
   "cell_type": "code",
   "execution_count": 59,
   "metadata": {},
   "outputs": [
    {
     "name": "stdout",
     "output_type": "stream",
     "text": [
      "Found 5000 images belonging to 5 classes.\n"
     ]
    }
   ],
   "source": [
    "train_datagen = ImageDataGenerator(preprocessing_function=preprocess_input)\n",
    "\n",
    "train_generator = train_datagen.flow_from_directory(\n",
    "        train_dir,\n",
    "        target_size=(image_width, image_height),\n",
    "        batch_size=batch_size,\n",
    "        class_mode=None,  # this means our generator will only yield batches of data, no labels\n",
    "        shuffle=False)\n",
    "\n",
    "nb_train_samples = len(train_generator.filenames)  \n",
    "num_classes = len(train_generator.class_indices)\n",
    "\n",
    "# get the class lebels for the training data, in the original order  \n",
    "train_labels = train_generator.classes  \n",
    "   \n",
    "# convert the training labels to categorical vectors  \n",
    "train_labels = to_categorical(train_labels, num_classes=num_classes)"
   ]
  },
  {
   "cell_type": "code",
   "execution_count": 60,
   "metadata": {},
   "outputs": [
    {
     "name": "stdout",
     "output_type": "stream",
     "text": [
      "Found 278 images belonging to 5 classes.\n"
     ]
    }
   ],
   "source": [
    "validation_datagen = ImageDataGenerator(preprocessing_function=preprocess_input)\n",
    "\n",
    "validation_generator = validation_datagen.flow_from_directory(\n",
    "        validation_dir,\n",
    "        target_size=(image_width, image_height),\n",
    "        batch_size=batch_size,\n",
    "        class_mode=None,\n",
    "        shuffle=False)\n",
    "\n",
    "nb_validation_samples = len(validation_generator.filenames)\n",
    "validation_labels = validation_generator.classes  \n",
    "validation_labels = to_categorical(validation_labels, num_classes=num_classes) "
   ]
  },
  {
   "cell_type": "code",
   "execution_count": 61,
   "metadata": {},
   "outputs": [
    {
     "data": {
      "text/plain": [
       "array([0, 0, 0, ..., 1, 1, 1])"
      ]
     },
     "execution_count": 61,
     "metadata": {},
     "output_type": "execute_result"
    }
   ],
   "source": [
    "np.array([0] * 1000 + [1] * 1000)"
   ]
  },
  {
   "cell_type": "code",
   "execution_count": 62,
   "metadata": {},
   "outputs": [
    {
     "data": {
      "text/plain": [
       "array([[1., 0., 0., 0., 0.],\n",
       "       [1., 0., 0., 0., 0.],\n",
       "       [1., 0., 0., 0., 0.],\n",
       "       ...,\n",
       "       [0., 0., 0., 0., 1.],\n",
       "       [0., 0., 0., 0., 1.],\n",
       "       [0., 0., 0., 0., 1.]], dtype=float32)"
      ]
     },
     "execution_count": 62,
     "metadata": {},
     "output_type": "execute_result"
    }
   ],
   "source": [
    "validation_labels"
   ]
  },
  {
   "cell_type": "code",
   "execution_count": 60,
   "metadata": {},
   "outputs": [],
   "source": [
    "# the predict_generator method returns the output of a model, given\n",
    "# a generator that yields batches of numpy data\n",
    "bottleneck_features_train = model.predict_generator(train_generator, nb_train_samples // batch_size + 1)\n",
    "# save the output as a Numpy array\n",
    "np.save(open('D:/retinal_data_set_visioncare/models/resnet50/bottle_neck_features/bottleneck_features_train.npy', 'wb'), bottleneck_features_train)"
   ]
  },
  {
   "cell_type": "code",
   "execution_count": 61,
   "metadata": {},
   "outputs": [],
   "source": [
    "bottleneck_features_validation = model.predict_generator(validation_generator, nb_validation_samples // batch_size + 1)\n",
    "np.save(open('D:/retinal_data_set_visioncare/models/resnet50/bottle_neck_features/bottleneck_features_validation.npy', 'wb'), bottleneck_features_validation)"
   ]
  },
  {
   "cell_type": "code",
   "execution_count": 63,
   "metadata": {},
   "outputs": [],
   "source": [
    "model_check_point_loc = 'D:/retinal_data_set_visioncare/models/resnet50/resnet_small_dr.h5'\n",
    "model_checkpoint = ModelCheckpoint(model_check_point_loc, monitor='val_acc', verbose=0, save_best_only=True, mode='max')"
   ]
  },
  {
   "cell_type": "code",
   "execution_count": 64,
   "metadata": {},
   "outputs": [],
   "source": [
    "train_data = np.load(open('D:/retinal_data_set_visioncare/models/resnet50/bottle_neck_features/bottleneck_features_train.npy', 'rb'))\n",
    "validation_data = np.load(open('D:/retinal_data_set_visioncare/models/resnet50/bottle_neck_features/bottleneck_features_validation.npy', 'rb'))"
   ]
  },
  {
   "cell_type": "code",
   "execution_count": 89,
   "metadata": {},
   "outputs": [
    {
     "data": {
      "text/plain": [
       "(5000, 512)"
      ]
     },
     "execution_count": 89,
     "metadata": {},
     "output_type": "execute_result"
    }
   ],
   "source": [
    "train_data.shape"
   ]
  },
  {
   "cell_type": "code",
   "execution_count": 90,
   "metadata": {},
   "outputs": [
    {
     "data": {
      "text/plain": [
       "array([[3.6700660e-01, 4.6685324e-03, 0.0000000e+00, ..., 2.0357642e+00,\n",
       "        2.5800377e-01, 7.2768605e-01],\n",
       "       [2.7020887e-01, 0.0000000e+00, 4.1414913e-02, ..., 2.0668449e+00,\n",
       "        3.0984226e-01, 4.2722192e-01],\n",
       "       [2.6386771e-01, 0.0000000e+00, 5.3467310e-04, ..., 1.0558809e+00,\n",
       "        1.7614199e-01, 4.7931162e-01],\n",
       "       ...,\n",
       "       [5.4849721e-02, 5.1714156e-02, 1.5508796e-01, ..., 2.0143206e+00,\n",
       "        5.0084794e-01, 7.5496852e-01],\n",
       "       [2.5956971e-03, 2.2055119e-02, 1.9220503e-01, ..., 2.2250786e+00,\n",
       "        4.9687845e-01, 5.8937383e-01],\n",
       "       [2.5444182e-02, 1.3655716e-03, 1.2118161e-01, ..., 1.6942664e+00,\n",
       "        7.5071913e-01, 6.0721153e-01]], dtype=float32)"
      ]
     },
     "execution_count": 90,
     "metadata": {},
     "output_type": "execute_result"
    }
   ],
   "source": [
    "train_data"
   ]
  },
  {
   "cell_type": "code",
   "execution_count": 91,
   "metadata": {},
   "outputs": [],
   "source": [
    "# Feature Scaling - fature normalizing\n",
    "scaler = StandardScaler()\n",
    "X_train = scaler.fit_transform(train_data)\n",
    "X_validation = scaler.transform(validation_data)"
   ]
  },
  {
   "cell_type": "code",
   "execution_count": 92,
   "metadata": {},
   "outputs": [
    {
     "data": {
      "text/plain": [
       "array([[ 0.03975001, -0.6554805 , -0.4512492 , ...,  1.0930423 ,\n",
       "        -0.6701826 ,  0.17333286],\n",
       "       [-0.24518245, -0.68025625,  0.00444929, ...,  1.15193   ,\n",
       "        -0.51952   , -0.60013694],\n",
       "       [-0.26384822, -0.68025625, -0.44536608, ..., -0.7635142 ,\n",
       "        -0.90810436, -0.46604502],\n",
       "       ...,\n",
       "       [-0.87911063, -0.40581068,  1.255222  , ...,  1.0524136 ,\n",
       "         0.03561596,  0.24356477],\n",
       "       [-1.0329249 , -0.56321037,  1.6636302 , ...,  1.4517306 ,\n",
       "         0.0240791 , -0.18271738],\n",
       "       [-0.9656684 , -0.6730092 ,  0.88214195, ...,  0.44601628,\n",
       "         0.7618378 , -0.13679868]], dtype=float32)"
      ]
     },
     "execution_count": 92,
     "metadata": {},
     "output_type": "execute_result"
    }
   ],
   "source": [
    "X_train"
   ]
  },
  {
   "cell_type": "code",
   "execution_count": 114,
   "metadata": {},
   "outputs": [],
   "source": [
    "train_data_labels = train_generator.classes  \n",
    "   \n",
    "# convert the training labels to categorical vectors  \n",
    "#train_labels = to_categorical(train_labels, num_classes=num_classes)"
   ]
  },
  {
   "cell_type": "code",
   "execution_count": 115,
   "metadata": {},
   "outputs": [],
   "source": [
    "train_X, validation_X, train_y, validation_y = train_test_split(X_train, train_data_labels, test_size = 0.2, random_state = 21)"
   ]
  },
  {
   "cell_type": "code",
   "execution_count": 117,
   "metadata": {},
   "outputs": [],
   "source": [
    "validation_onehot_y = to_categorical(validation_y, num_classes=num_classes)"
   ]
  },
  {
   "cell_type": "code",
   "execution_count": 118,
   "metadata": {},
   "outputs": [
    {
     "data": {
      "text/plain": [
       "array([[0., 0., 0., 1., 0.],\n",
       "       [1., 0., 0., 0., 0.],\n",
       "       [0., 0., 0., 0., 1.],\n",
       "       ...,\n",
       "       [1., 0., 0., 0., 0.],\n",
       "       [0., 0., 0., 1., 0.],\n",
       "       [1., 0., 0., 0., 0.]], dtype=float32)"
      ]
     },
     "execution_count": 118,
     "metadata": {},
     "output_type": "execute_result"
    }
   ],
   "source": [
    "validation_onehot_y"
   ]
  },
  {
   "cell_type": "code",
   "execution_count": 102,
   "metadata": {},
   "outputs": [
    {
     "name": "stdout",
     "output_type": "stream",
     "text": [
      "Train on 4000 samples, validate on 1000 samples\n",
      "Epoch 1/50\n",
      "4000/4000 [==============================] - 5s 1ms/step - loss: 1.3986 - acc: 0.5973 - val_loss: 0.9656 - val_acc: 0.7730\n",
      "Epoch 2/50\n",
      "4000/4000 [==============================] - 0s 124us/step - loss: 0.9515 - acc: 0.7690 - val_loss: 0.8280 - val_acc: 0.8220\n",
      "Epoch 3/50\n",
      "4000/4000 [==============================] - 1s 126us/step - loss: 0.8005 - acc: 0.8257 - val_loss: 0.7559 - val_acc: 0.8410\n",
      "Epoch 4/50\n",
      "4000/4000 [==============================] - 1s 137us/step - loss: 0.7032 - acc: 0.8623 - val_loss: 0.7012 - val_acc: 0.8520\n",
      "Epoch 5/50\n",
      "4000/4000 [==============================] - 1s 151us/step - loss: 0.6478 - acc: 0.8775 - val_loss: 0.6714 - val_acc: 0.8620\n",
      "Epoch 6/50\n",
      "4000/4000 [==============================] - 1s 155us/step - loss: 0.5888 - acc: 0.9032 - val_loss: 0.6085 - val_acc: 0.8830\n",
      "Epoch 7/50\n",
      "4000/4000 [==============================] - 1s 143us/step - loss: 0.5504 - acc: 0.9075 - val_loss: 0.5885 - val_acc: 0.8890\n",
      "Epoch 8/50\n",
      "4000/4000 [==============================] - 1s 142us/step - loss: 0.5156 - acc: 0.9230 - val_loss: 0.5577 - val_acc: 0.8910\n",
      "Epoch 9/50\n",
      "4000/4000 [==============================] - 1s 144us/step - loss: 0.4728 - acc: 0.9325 - val_loss: 0.5396 - val_acc: 0.8950\n",
      "Epoch 10/50\n",
      "4000/4000 [==============================] - 1s 144us/step - loss: 0.4450 - acc: 0.9385 - val_loss: 0.5107 - val_acc: 0.9000\n",
      "Epoch 11/50\n",
      "4000/4000 [==============================] - 1s 144us/step - loss: 0.4151 - acc: 0.9483 - val_loss: 0.5013 - val_acc: 0.9110\n",
      "Epoch 12/50\n",
      "4000/4000 [==============================] - 1s 139us/step - loss: 0.4002 - acc: 0.9497 - val_loss: 0.4866 - val_acc: 0.9030\n",
      "Epoch 13/50\n",
      "4000/4000 [==============================] - 1s 135us/step - loss: 0.3826 - acc: 0.9517 - val_loss: 0.4703 - val_acc: 0.9040\n",
      "Epoch 14/50\n",
      "4000/4000 [==============================] - 1s 128us/step - loss: 0.3574 - acc: 0.9585 - val_loss: 0.4494 - val_acc: 0.9120\n",
      "Epoch 15/50\n",
      "4000/4000 [==============================] - 1s 161us/step - loss: 0.3393 - acc: 0.9622 - val_loss: 0.4453 - val_acc: 0.9100\n",
      "Epoch 16/50\n",
      "4000/4000 [==============================] - 1s 137us/step - loss: 0.3269 - acc: 0.9603 - val_loss: 0.4318 - val_acc: 0.9200\n",
      "Epoch 17/50\n",
      "4000/4000 [==============================] - 1s 143us/step - loss: 0.3130 - acc: 0.9640 - val_loss: 0.4163 - val_acc: 0.9220\n",
      "Epoch 18/50\n",
      "4000/4000 [==============================] - 1s 137us/step - loss: 0.3063 - acc: 0.9655 - val_loss: 0.4036 - val_acc: 0.9190\n",
      "Epoch 19/50\n",
      "4000/4000 [==============================] - 1s 129us/step - loss: 0.2880 - acc: 0.9682 - val_loss: 0.3860 - val_acc: 0.9320\n",
      "Epoch 20/50\n",
      "4000/4000 [==============================] - 1s 138us/step - loss: 0.2756 - acc: 0.9702 - val_loss: 0.3862 - val_acc: 0.9170\n",
      "Epoch 21/50\n",
      "4000/4000 [==============================] - 1s 127us/step - loss: 0.2650 - acc: 0.9712 - val_loss: 0.3721 - val_acc: 0.9250\n",
      "Epoch 22/50\n",
      "4000/4000 [==============================] - 1s 130us/step - loss: 0.2616 - acc: 0.9725 - val_loss: 0.3839 - val_acc: 0.9150\n",
      "Epoch 23/50\n",
      "4000/4000 [==============================] - 1s 153us/step - loss: 0.2488 - acc: 0.9740 - val_loss: 0.3568 - val_acc: 0.9230\n",
      "Epoch 24/50\n",
      "4000/4000 [==============================] - 1s 135us/step - loss: 0.2456 - acc: 0.9755 - val_loss: 0.3562 - val_acc: 0.9190\n",
      "Epoch 25/50\n",
      "4000/4000 [==============================] - 1s 130us/step - loss: 0.2385 - acc: 0.9740 - val_loss: 0.3781 - val_acc: 0.9130\n",
      "Epoch 26/50\n",
      "4000/4000 [==============================] - 1s 129us/step - loss: 0.2356 - acc: 0.9740 - val_loss: 0.3440 - val_acc: 0.9210\n",
      "Epoch 27/50\n",
      "4000/4000 [==============================] - 1s 131us/step - loss: 0.2327 - acc: 0.9730 - val_loss: 0.3564 - val_acc: 0.9200\n",
      "Epoch 28/50\n",
      "4000/4000 [==============================] - 1s 129us/step - loss: 0.2270 - acc: 0.9740 - val_loss: 0.3368 - val_acc: 0.9230\n",
      "Epoch 29/50\n",
      "4000/4000 [==============================] - 1s 129us/step - loss: 0.2205 - acc: 0.9755 - val_loss: 0.3367 - val_acc: 0.9230\n",
      "Epoch 30/50\n",
      "4000/4000 [==============================] - 1s 130us/step - loss: 0.2197 - acc: 0.9750 - val_loss: 0.3339 - val_acc: 0.9260\n",
      "Epoch 31/50\n",
      "4000/4000 [==============================] - 1s 135us/step - loss: 0.2313 - acc: 0.9657 - val_loss: 0.3565 - val_acc: 0.9060\n",
      "Epoch 32/50\n",
      "4000/4000 [==============================] - 1s 154us/step - loss: 0.2168 - acc: 0.9732 - val_loss: 0.3442 - val_acc: 0.9180\n",
      "Epoch 33/50\n",
      "4000/4000 [==============================] - 1s 126us/step - loss: 0.2110 - acc: 0.9778 - val_loss: 0.3330 - val_acc: 0.9170\n",
      "Epoch 34/50\n",
      "4000/4000 [==============================] - 1s 130us/step - loss: 0.2174 - acc: 0.9725 - val_loss: 0.3614 - val_acc: 0.9190\n",
      "Epoch 35/50\n",
      "4000/4000 [==============================] - 1s 129us/step - loss: 0.2204 - acc: 0.9690 - val_loss: 0.3547 - val_acc: 0.9050\n",
      "Epoch 36/50\n",
      "4000/4000 [==============================] - 1s 131us/step - loss: 0.2037 - acc: 0.9762 - val_loss: 0.3413 - val_acc: 0.9240\n",
      "Epoch 37/50\n",
      "4000/4000 [==============================] - 1s 132us/step - loss: 0.2067 - acc: 0.9745 - val_loss: 0.3304 - val_acc: 0.9220\n",
      "Epoch 38/50\n",
      "4000/4000 [==============================] - 1s 132us/step - loss: 0.2061 - acc: 0.9795 - val_loss: 0.3294 - val_acc: 0.9170\n",
      "Epoch 39/50\n",
      "4000/4000 [==============================] - 1s 130us/step - loss: 0.2110 - acc: 0.9730 - val_loss: 0.3375 - val_acc: 0.9240\n",
      "Epoch 40/50\n",
      "4000/4000 [==============================] - 1s 132us/step - loss: 0.2081 - acc: 0.9740 - val_loss: 0.3267 - val_acc: 0.9300\n",
      "Epoch 41/50\n",
      "4000/4000 [==============================] - 1s 146us/step - loss: 0.2117 - acc: 0.9725 - val_loss: 0.3211 - val_acc: 0.9280\n",
      "Epoch 42/50\n",
      "4000/4000 [==============================] - 1s 128us/step - loss: 0.2014 - acc: 0.9750 - val_loss: 0.3207 - val_acc: 0.9230\n",
      "Epoch 43/50\n",
      "4000/4000 [==============================] - 1s 131us/step - loss: 0.1997 - acc: 0.9775 - val_loss: 0.3451 - val_acc: 0.9200\n",
      "Epoch 44/50\n",
      "4000/4000 [==============================] - 1s 130us/step - loss: 0.2065 - acc: 0.9698 - val_loss: 0.3264 - val_acc: 0.9190\n",
      "Epoch 45/50\n",
      "4000/4000 [==============================] - 1s 144us/step - loss: 0.2068 - acc: 0.9718 - val_loss: 0.3556 - val_acc: 0.9140\n",
      "Epoch 46/50\n",
      "4000/4000 [==============================] - 1s 131us/step - loss: 0.2147 - acc: 0.9695 - val_loss: 0.3595 - val_acc: 0.9170\n",
      "Epoch 47/50\n",
      "4000/4000 [==============================] - 1s 128us/step - loss: 0.2005 - acc: 0.9750 - val_loss: 0.3107 - val_acc: 0.9330\n",
      "Epoch 48/50\n",
      "4000/4000 [==============================] - 1s 149us/step - loss: 0.2001 - acc: 0.9750 - val_loss: 0.3136 - val_acc: 0.9270\n",
      "Epoch 49/50\n",
      "4000/4000 [==============================] - 1s 129us/step - loss: 0.1907 - acc: 0.9813 - val_loss: 0.3111 - val_acc: 0.9290\n",
      "Epoch 50/50\n",
      "4000/4000 [==============================] - 1s 130us/step - loss: 0.1902 - acc: 0.9772 - val_loss: 0.3139 - val_acc: 0.9290\n"
     ]
    }
   ],
   "source": [
    "new_model = Sequential()\n",
    "#new_model.add(Flatten(input_shape=train_data.shape[1:]))\n",
    "new_model.add(Dense(256, input_dim=512, activation='relu', kernel_initializer=initializers.he_normal(seed=None), kernel_regularizer=regularizers.l2(0.001)))\n",
    "new_model.add(Dropout(0.5))\n",
    "# new_model.add(Dense(15, activation='relu', kernel_initializer=initializers.he_normal(seed=None), kernel_regularizer=regularizers.l2(0.001)))\n",
    "# new_model.add(Dropout(0.2))\n",
    "new_model.add(Dense(5, kernel_initializer=initializers.he_normal(seed=None), activation='softmax'))\n",
    "\n",
    "# new_model = Sequential()\n",
    "# new_model.add(Dense(512, input_dim=512, activation='relu', kernel_initializer=initializers.he_normal(seed=None)))\n",
    "# new_model.add(BatchNormalization())\n",
    "# new_model.add(Dropout(0.5))\n",
    "# # new_model.add(Dense(256, activation='relu', kernel_regularizer=regularizers.l2(0.001), kernel_initializer=initializers.he_normal(seed=None)))\n",
    "# # new_model.add(BatchNormalization())\n",
    "# # new_model.add(Dropout(0.5))\n",
    "# new_model.add(Dense(5, kernel_initializer=initializers.he_normal(seed=None), activity_regularizer=regularizers.l2(0.001), activation='softmax'))\n",
    "\n",
    "new_model.compile(optimizer='adam',\n",
    "              loss='categorical_crossentropy',\n",
    "              metrics=['acc'])\n",
    "\n",
    "# history = new_model.fit(X_train, train_labels,\n",
    "#           epochs=50,\n",
    "#           batch_size=batch_size,\n",
    "#           callbacks=[model_checkpoint],\n",
    "#           validation_data=(X_validation, validation_labels))\n",
    "\n",
    "history = new_model.fit(train_X, train_y,\n",
    "          epochs=50,\n",
    "          batch_size=batch_size,\n",
    "          callbacks=[model_checkpoint],\n",
    "          validation_data=(validation_X, validation_onehot_y))"
   ]
  },
  {
   "cell_type": "code",
   "execution_count": 103,
   "metadata": {},
   "outputs": [
    {
     "data": {
      "image/png": "[encoded data removed]",
      "text/plain": [
       "<Figure size 432x288 with 1 Axes>"
      ]
     },
     "metadata": {},
     "output_type": "display_data"
    },
    {
     "data": {
      "image/png": "[encoded data removed]",
      "text/plain": [
       "<Figure size 432x288 with 1 Axes>"
      ]
     },
     "metadata": {},
     "output_type": "display_data"
    }
   ],
   "source": [
    "acc = history.history['acc']\n",
    "val_acc = history.history['val_acc']\n",
    "loss = history.history['loss']\n",
    "val_loss = history.history['val_loss']\n",
    " \n",
    "epochs = range(len(acc))\n",
    " \n",
    "plt.plot(epochs, acc, 'b', label='Training acc')\n",
    "plt.plot(epochs, val_acc, 'r', label='Validation acc')\n",
    "plt.title('Training and validation accuracy')\n",
    "plt.legend()\n",
    " \n",
    "plt.figure()\n",
    " \n",
    "plt.plot(epochs, loss, 'b', label='Training loss')\n",
    "plt.plot(epochs, val_loss, 'r', label='Validation loss')\n",
    "plt.title('Training and validation loss')\n",
    "plt.legend()\n",
    " \n",
    "plt.show()"
   ]
  },
  {
   "cell_type": "code",
   "execution_count": 104,
   "metadata": {},
   "outputs": [],
   "source": [
    "# Returns a compiled model identical to the previous one\n",
    "loaded_model = load_model(model_check_point_loc)"
   ]
  },
  {
   "cell_type": "code",
   "execution_count": 119,
   "metadata": {},
   "outputs": [
    {
     "name": "stdout",
     "output_type": "stream",
     "text": [
      "Confusion Matrix\n",
      "[[164  17   3   0   0]\n",
      " [ 16 178  10   0   1]\n",
      " [  5   5 188   2   1]\n",
      " [  0   1   2 203   3]\n",
      " [  0   0   0   1 200]]\n",
      "Classification Report\n",
      "               precision    recall  f1-score   support\n",
      "\n",
      "       non-dr       0.89      0.89      0.89       184\n",
      "    mild-npdr       0.89      0.87      0.88       205\n",
      "moderate-npdr       0.93      0.94      0.93       201\n",
      "  severe-npdr       0.99      0.97      0.98       209\n",
      "          pdr       0.98      1.00      0.99       201\n",
      "\n",
      "  avg / total       0.93      0.93      0.93      1000\n",
      "\n"
     ]
    }
   ],
   "source": [
    "#Confution Matrix and Classification Report\n",
    "#Y_pred = loaded_model.predict_generator(validation_generator, validation_generator.samples // validation_generator.batch_size + 1)\n",
    "Y_pred = loaded_model.predict(validation_X)\n",
    "y_pred = np.argmax(Y_pred, axis=1)\n",
    "#y_pred = np.asarray([1 if val >= 0.5 else 0 for val in Y_pred], dtype=numpy.int64)\n",
    "print('Confusion Matrix')\n",
    "print(confusion_matrix(validation_y, y_pred))\n",
    "print('Classification Report')\n",
    "target_names = ['non-dr', 'mild-npdr', 'moderate-npdr', 'severe-npdr', 'pdr']\n",
    "print(classification_report(validation_y, y_pred, target_names=target_names))"
   ]
  },
  {
   "cell_type": "code",
   "execution_count": 120,
   "metadata": {},
   "outputs": [
    {
     "data": {
      "text/plain": [
       "array([3, 0, 4, 2, 3, 4, 3, 1, 3, 1, 1, 0, 4, 4, 4, 2, 3, 4, 1, 4, 0, 4,\n",
       "       4, 2, 0, 2, 0, 1, 0, 4, 2, 2, 1, 4, 0, 0, 0, 1, 0, 4, 4, 1, 3, 0,\n",
       "       3, 0, 3, 0, 2, 1, 0, 1, 4, 0, 2, 2, 3, 1, 1, 2, 4, 4, 4, 1, 3, 2,\n",
       "       3, 0, 3, 4, 1, 3, 3, 3, 1, 0, 1, 4, 1, 0, 0, 1, 1, 2, 0, 2, 2, 1,\n",
       "       3, 2, 4, 4, 2, 4, 2, 3, 4, 1, 3, 3, 0, 4, 1, 3, 3, 2, 2, 0, 1, 3,\n",
       "       3, 4, 4, 0, 2, 2, 4, 2, 2, 4, 3, 0, 1, 1, 0, 0, 4, 2, 2, 1, 4, 1,\n",
       "       0, 4, 3, 0, 3, 2, 4, 2, 1, 3, 1, 3, 2, 1, 4, 2, 4, 2, 4, 3, 2, 4,\n",
       "       4, 2, 3, 0, 1, 3, 3, 1, 3, 4, 2, 0, 0, 2, 4, 0, 4, 1, 3, 2, 1, 1,\n",
       "       3, 4, 2, 3, 4, 2, 2, 3, 3, 3, 0, 1, 1, 2, 3, 4, 4, 1, 2, 2, 0, 0,\n",
       "       3, 2, 2, 4, 2, 0, 3, 4, 2, 2, 0, 1, 4, 1, 3, 1, 1, 1, 1, 4, 2, 2,\n",
       "       4, 3, 2, 0, 1, 4, 4, 1, 2, 2, 4, 3, 3, 4, 2, 4, 4, 2, 0, 3, 1, 4,\n",
       "       1, 1, 4, 0, 1, 1, 0, 4, 2, 2, 3, 2, 2, 4, 3, 3, 0, 4, 4, 3, 4, 0,\n",
       "       1, 2, 3, 2, 1, 0, 1, 4, 4, 3, 2, 1, 4, 1, 0, 4, 0, 0, 3, 2, 2, 4,\n",
       "       3, 1, 3, 0, 4, 2, 4, 2, 3, 4, 0, 1, 2, 4, 4, 3, 1, 4, 1, 1, 3, 1,\n",
       "       1, 2, 1, 1, 4, 3, 0, 4, 3, 2, 3, 1, 4, 3, 3, 2, 2, 4, 1, 1, 4, 4,\n",
       "       3, 4, 1, 3, 2, 2, 0, 0, 4, 3, 1, 3, 1, 1, 0, 0, 3, 0, 1, 4, 1, 2,\n",
       "       0, 1, 0, 3, 1, 0, 2, 4, 4, 1, 4, 0, 3, 2, 2, 0, 3, 2, 4, 0, 2, 2,\n",
       "       4, 4, 0, 2, 4, 0, 4, 2, 2, 4, 0, 4, 4, 4, 1, 0, 2, 2, 2, 2, 4, 1,\n",
       "       4, 3, 4, 2, 3, 3, 4, 3, 3, 0, 3, 2, 3, 1, 3, 3, 2, 0, 4, 0, 3, 3,\n",
       "       3, 2, 1, 0, 3, 2, 3, 2, 3, 1, 3, 3, 1, 0, 2, 0, 1, 4, 0, 3, 1, 1,\n",
       "       2, 3, 4, 2, 2, 1, 1, 1, 2, 3, 0, 3, 3, 3, 2, 3, 4, 1, 4, 4, 3, 3,\n",
       "       3, 3, 0, 2, 4, 4, 0, 2, 0, 1, 3, 1, 2, 2, 2, 0, 0, 2, 3, 1, 4, 4,\n",
       "       3, 0, 1, 2, 2, 3, 1, 2, 2, 4, 3, 4, 0, 2, 4, 4, 4, 0, 1, 2, 4, 4,\n",
       "       2, 4, 4, 4, 2, 4, 0, 4, 2, 1, 3, 0, 3, 4, 4, 0, 4, 2, 0, 0, 0, 0,\n",
       "       4, 4, 3, 4, 1, 0, 0, 4, 3, 3, 1, 3, 2, 4, 0, 2, 4, 3, 0, 1, 0, 0,\n",
       "       3, 1, 4, 1, 2, 0, 1, 2, 1, 3, 0, 1, 4, 4, 4, 3, 3, 3, 4, 3, 3, 3,\n",
       "       0, 4, 3, 4, 4, 4, 1, 3, 0, 2, 1, 3, 3, 3, 1, 3, 4, 3, 0, 1, 0, 3,\n",
       "       3, 1, 0, 1, 3, 2, 1, 4, 3, 0, 2, 4, 4, 0, 1, 0, 1, 1, 4, 0, 3, 3,\n",
       "       0, 0, 0, 2, 3, 0, 4, 3, 1, 4, 4, 4, 0, 0, 3, 2, 4, 0, 4, 1, 1, 3,\n",
       "       2, 2, 3, 2, 1, 2, 2, 0, 4, 2, 1, 3, 3, 4, 0, 3, 1, 1, 1, 1, 3, 2,\n",
       "       0, 0, 1, 4, 0, 0, 2, 1, 2, 3, 2, 2, 1, 1, 4, 1, 1, 4, 0, 4, 2, 1,\n",
       "       3, 2, 2, 4, 1, 1, 4, 4, 0, 3, 3, 3, 3, 0, 3, 0, 2, 4, 0, 1, 0, 3,\n",
       "       2, 2, 2, 2, 0, 0, 0, 1, 4, 3, 0, 1, 2, 3, 1, 3, 0, 2, 3, 0, 2, 0,\n",
       "       1, 3, 1, 1, 1, 1, 1, 0, 4, 3, 1, 2, 1, 1, 0, 0, 3, 2, 2, 1, 0, 2,\n",
       "       2, 0, 1, 1, 2, 3, 0, 3, 2, 4, 2, 3, 2, 3, 4, 3, 1, 2, 2, 2, 0, 4,\n",
       "       0, 2, 0, 4, 4, 1, 0, 1, 3, 0, 2, 3, 3, 1, 4, 1, 2, 2, 2, 0, 0, 0,\n",
       "       1, 1, 3, 1, 1, 3, 4, 0, 1, 1, 2, 3, 1, 1, 0, 2, 2, 0, 2, 0, 3, 0,\n",
       "       2, 0, 1, 2, 4, 1, 0, 2, 1, 2, 2, 2, 3, 3, 3, 4, 0, 1, 4, 1, 2, 1,\n",
       "       4, 1, 0, 3, 2, 2, 2, 2, 0, 4, 0, 1, 2, 4, 2, 2, 4, 4, 1, 2, 2, 4,\n",
       "       3, 0, 3, 0, 4, 4, 3, 4, 2, 2, 3, 2, 3, 3, 1, 4, 1, 1, 3, 1, 1, 1,\n",
       "       0, 4, 3, 4, 2, 2, 1, 0, 0, 2, 4, 4, 2, 2, 0, 4, 3, 1, 4, 0, 2, 3,\n",
       "       3, 0, 4, 0, 3, 4, 2, 4, 3, 0, 4, 0, 3, 0, 4, 3, 1, 3, 1, 2, 3, 1,\n",
       "       1, 2, 0, 3, 1, 3, 4, 4, 0, 1, 1, 0, 1, 4, 4, 2, 1, 1, 3, 3, 2, 0,\n",
       "       2, 1, 0, 3, 2, 4, 1, 3, 4, 1, 1, 2, 0, 3, 4, 1, 1, 3, 1, 4, 2, 0,\n",
       "       3, 1, 3, 0, 4, 2, 1, 0, 4, 3, 0, 0, 4, 2, 3, 0, 2, 4, 1, 1, 3, 3,\n",
       "       1, 2, 0, 0, 3, 0, 4, 0, 3, 0], dtype=int64)"
      ]
     },
     "execution_count": 120,
     "metadata": {},
     "output_type": "execute_result"
    }
   ],
   "source": [
    "y_pred"
   ]
  },
  {
   "cell_type": "code",
   "execution_count": 145,
   "metadata": {},
   "outputs": [],
   "source": [
    "X = X_train\n",
    "Y = train_data_labels"
   ]
  },
  {
   "cell_type": "code",
   "execution_count": 146,
   "metadata": {},
   "outputs": [
    {
     "data": {
      "text/plain": [
       "array([0, 0, 0, ..., 4, 4, 4])"
      ]
     },
     "execution_count": 146,
     "metadata": {},
     "output_type": "execute_result"
    }
   ],
   "source": [
    "train_data_labels"
   ]
  },
  {
   "cell_type": "code",
   "execution_count": 152,
   "metadata": {},
   "outputs": [],
   "source": [
    "# define 5-fold cross validation test harness\n",
    "#kfold = StratifiedKFold(n_splits=5, shuffle=True, random_state=seed)\n",
    "kfold = RepeatedStratifiedKFold(n_splits=10, n_repeats=5, random_state=30)\n",
    "cvscores = []\n",
    "trainScores = []\n",
    "f1Score = []\n",
    "num_k_folds = 10\n",
    "fold_counter = 0\n",
    "val_conmats = []\n",
    "val_precisions = []\n",
    "val_recalls = []\n",
    "val_f_scores = []\n",
    "input_dim = 512\n",
    "\n",
    "cross_model = Sequential()\n",
    "cross_model.add(Dense(256, input_dim=512, activation='relu', kernel_initializer=initializers.he_normal(seed=None), kernel_regularizer=regularizers.l2(0.001)))\n",
    "cross_model.add(Dropout(0.5))\n",
    "# new_model.add(Dense(15, activation='relu', kernel_initializer=initializers.he_normal(seed=None), kernel_regularizer=regularizers.l2(0.001)))\n",
    "# new_model.add(Dropout(0.2))\n",
    "cross_model.add(Dense(5, kernel_initializer=initializers.he_normal(seed=None), activation='softmax'))\n",
    "\n",
    "cross_model.compile(optimizer='adam',\n",
    "              loss='categorical_crossentropy',\n",
    "              metrics=['acc'])"
   ]
  },
  {
   "cell_type": "code",
   "execution_count": 154,
   "metadata": {},
   "outputs": [
    {
     "name": "stdout",
     "output_type": "stream",
     "text": [
      "\n",
      "Averaging the 5-fold results:\n",
      "AVG Train Acc : 99.94%\n",
      "AVG Validation Acc : 94.91%\n",
      "Validation precision - mean: 0.950606, stddev: 0.047006\n",
      "Validation recall - mean: 0.949080, stddev: 0.049270\n",
      "Validation f-score - mean: 0.949059, stddev: 0.040877\n",
      "Confusion matrix:\n",
      "[[8.782e+01 1.044e+01 1.700e+00 0.000e+00 4.000e-02]\n",
      " [4.440e+00 9.414e+01 1.300e+00 4.000e-02 8.000e-02]\n",
      " [2.000e+00 2.840e+00 9.388e+01 9.200e-01 3.600e-01]\n",
      " [0.000e+00 0.000e+00 6.000e-02 9.978e+01 1.600e-01]\n",
      " [0.000e+00 8.000e-02 2.800e-01 7.200e-01 9.892e+01]]\n"
     ]
    }
   ],
   "source": [
    "for train, test in kfold.split(X, Y):\n",
    "    # Fit the model\n",
    "    cross_model.fit(X[train], to_categorical(Y[train]), epochs=400, batch_size=batch_size, verbose=0)\n",
    "    \n",
    "    y_train_pred = cross_model.predict(X[train])\n",
    "    y_train_pred = np.argmax(y_train_pred, axis=1)\n",
    "    \n",
    "    y_validation_pred = cross_model.predict(X[test])\n",
    "    y_validation_pred = np.argmax(y_validation_pred, axis=1)\n",
    "    #y_validation_pred = np.argmax(y_validation_pred, axis=1)\n",
    "    \n",
    "    [precision, recall, f_score, _] = precision_recall_fscore_support(Y[test], y_validation_pred)\n",
    "    #print(\"Validation k-fold #%d - precision: %f, recallL: %f, f-score: %f\" % (fold_counter, precision, recall, f_score))\n",
    "    \n",
    "    conmat = confusion_matrix(Y[test], y_validation_pred)\n",
    "    \n",
    "    val_precisions.append(precision)\n",
    "    val_recalls.append(recall)\n",
    "    val_f_scores.append(f_score)\n",
    "    val_conmats.append(conmat)\n",
    "    fold_counter = fold_counter + 1\n",
    "    \n",
    "    trainScores.append(accuracy_score(Y[train], y_train_pred))\n",
    "    cvscores.append(accuracy_score(Y[test], y_validation_pred))\n",
    "    \n",
    "print(\"\\nAveraging the 5-fold results:\")\n",
    "print(\"%s: %.2f%%\" % ('AVG Train Acc ', np.mean(trainScores) * 100))\n",
    "print(\"%s: %.2f%%\" % ('AVG Validation Acc ', np.mean(cvscores) * 100))\n",
    "print(\"Validation precision - mean: %f, stddev: %f\" % (np.mean(val_precisions), np.std(val_precisions)))\n",
    "print(\"Validation recall - mean: %f, stddev: %f\" % (np.mean(val_recalls), np.std(val_recalls)))\n",
    "print(\"Validation f-score - mean: %f, stddev: %f\" % (np.mean(val_f_scores), np.std(val_f_scores)))\n",
    "print(\"Confusion matrix:\")\n",
    "print (sum(val_conmats).astype(float) / fold_counter)"
   ]
  },
  {
   "cell_type": "code",
   "execution_count": 176,
   "metadata": {},
   "outputs": [
    {
     "data": {
      "image/png": "[encoded data removed]",
      "text/plain": [
       "<Figure size 432x288 with 1 Axes>"
      ]
     },
     "metadata": {},
     "output_type": "display_data"
    }
   ],
   "source": [
    "acc = trainScores\n",
    "val_acc = cvscores\n",
    " \n",
    "epochs = range(len(acc))\n",
    " \n",
    "plt.plot(epochs, acc, 'b', label='Training acc')\n",
    "plt.plot(epochs, val_acc, 'r', label='Validation acc')\n",
    "plt.title('Training and validation accuracy')\n",
    "plt.legend()\n",
    " \n",
    "plt.show()"
   ]
  },
  {
   "cell_type": "code",
   "execution_count": 172,
   "metadata": {},
   "outputs": [
    {
     "data": {
      "text/plain": [
       "<matplotlib.axes._subplots.AxesSubplot at 0x1723235f668>"
      ]
     },
     "execution_count": 172,
     "metadata": {},
     "output_type": "execute_result"
    },
    {
     "data": {
      "image/png": "[encoded data removed]",
      "text/plain": [
       "<Figure size 432x288 with 2 Axes>"
      ]
     },
     "metadata": {},
     "output_type": "display_data"
    }
   ],
   "source": [
    "confusion_matrix_array = (sum(val_conmats).astype(float) / fold_counter)\n",
    "new_confusion_matrix_array = []\n",
    "for conf_sub_array in confusion_matrix_array:\n",
    "    new_confusion_matrix_array.append([int(float(e)) for e in conf_sub_array])\n",
    "        \n",
    "df_cm = pd.DataFrame(new_confusion_matrix_array, range(5), range(5))\n",
    "#plt.figure(figsize = (10,7))\n",
    "sn.set(font_scale=1.4)#for label size\n",
    "sn.heatmap(df_cm, annot=True, annot_kws={\"size\": 16})# font size"
   ]
  },
  {
   "cell_type": "code",
   "execution_count": 171,
   "metadata": {},
   "outputs": [
    {
     "data": {
      "text/plain": [
       "[[87.82, 10.44, 1.7, 0.0, 0.04],\n",
       " [4.44, 94.14, 1.3, 0.04, 0.08],\n",
       " [2.0, 2.84, 93.88, 0.92, 0.36],\n",
       " [0.0, 0.0, 0.06, 99.78, 0.16],\n",
       " [0.0, 0.08, 0.28, 0.72, 98.92]]"
      ]
     },
     "execution_count": 171,
     "metadata": {},
     "output_type": "execute_result"
    }
   ],
   "source": [
    "new_confusion_matrix_array"
   ]
  },
  {
   "cell_type": "code",
   "execution_count": 158,
   "metadata": {},
   "outputs": [],
   "source": [
    "# Save the model\n",
    "cross_model.save('D:/retinal_data_set_visioncare/models/resnet50/resnet_max_acc_model.h5')"
   ]
  },
  {
   "cell_type": "code",
   "execution_count": 177,
   "metadata": {},
   "outputs": [
    {
     "name": "stdout",
     "output_type": "stream",
     "text": [
      "Found 142 images belonging to 5 classes.\n"
     ]
    }
   ],
   "source": [
    "test_dir = \"D:/retinal_data_set_visioncare/newTrainValidationTestData/new_test\"\n",
    "\n",
    "test_datagen = ImageDataGenerator(preprocessing_function=preprocess_input)\n",
    "\n",
    "test_generator = test_datagen.flow_from_directory(\n",
    "        test_dir,\n",
    "        target_size=(image_width, image_height),\n",
    "        batch_size=batch_size,\n",
    "        class_mode='categorical',\n",
    "        shuffle=False)\n",
    "\n",
    "nb_test_samples = 142 \n",
    "test_labels = test_generator.classes\n",
    "bottleneck_features_test = model.predict_generator(test_generator, nb_test_samples // batch_size + 1)\n",
    "\n",
    "X_test = scaler.transform(bottleneck_features_test)"
   ]
  },
  {
   "cell_type": "code",
   "execution_count": 180,
   "metadata": {},
   "outputs": [
    {
     "name": "stdout",
     "output_type": "stream",
     "text": [
      "Confusion Matrix for testset\n",
      "[[64 12  0  0  0]\n",
      " [ 4 15  0  0  0]\n",
      " [ 0  5 18  0  0]\n",
      " [ 0  0  0  9  0]\n",
      " [ 0  0  0  1 14]]\n",
      "Classification Report\n",
      "               precision    recall  f1-score   support\n",
      "\n",
      "       non-dr       0.94      0.84      0.89        76\n",
      "    mild-npdr       0.47      0.79      0.59        19\n",
      "moderate-npdr       1.00      0.78      0.88        23\n",
      "  severe-npdr       0.90      1.00      0.95         9\n",
      "          pdr       1.00      0.93      0.97        15\n",
      "\n",
      "  avg / total       0.89      0.85      0.86       142\n",
      "\n"
     ]
    }
   ],
   "source": [
    "#Confution Matrix and Classification Report for testset\n",
    "Y_pred_for_test = cross_model.predict(X_test)\n",
    "Y_pred_for_test = np.argmax(Y_pred_for_test, axis=1)\n",
    "print('Confusion Matrix for testset')\n",
    "confusion_matrix_for_testset = confusion_matrix(test_labels, Y_pred_for_test)\n",
    "print(confusion_matrix(test_labels, Y_pred_for_test))\n",
    "print('Classification Report')\n",
    "target_names = ['non-dr', 'mild-npdr', 'moderate-npdr', 'severe-npdr', 'pdr']\n",
    "print(classification_report(test_labels, Y_pred_for_test, target_names=target_names))"
   ]
  },
  {
   "cell_type": "code",
   "execution_count": 181,
   "metadata": {},
   "outputs": [
    {
     "data": {
      "text/plain": [
       "<matplotlib.axes._subplots.AxesSubplot at 0x1733692a940>"
      ]
     },
     "execution_count": 181,
     "metadata": {},
     "output_type": "execute_result"
    },
    {
     "data": {
      "image/png": "[encoded data removed]",
      "text/plain": [
       "<Figure size 432x288 with 2 Axes>"
      ]
     },
     "metadata": {},
     "output_type": "display_data"
    }
   ],
   "source": [
    "df_cm_test = pd.DataFrame(confusion_matrix_for_testset, range(5), range(5))\n",
    "#plt.figure(figsize = (10,7))\n",
    "sn.set(font_scale=1.4)#for label size\n",
    "sn.heatmap(df_cm_test, annot=True, annot_kws={\"size\": 16})# font size"
   ]
  },
  {
   "cell_type": "code",
   "execution_count": null,
   "metadata": {},
   "outputs": [],
   "source": []
  }
 ],
 "metadata": {
  "kernelspec": {
   "display_name": "Python 3",
   "language": "python",
   "name": "python3"
  },
  "language_info": {
   "codemirror_mode": {
    "name": "ipython",
    "version": 3
   },
   "file_extension": ".py",
   "mimetype": "text/x-python",
   "name": "python",
   "nbconvert_exporter": "python",
   "pygments_lexer": "ipython3",
   "version": "3.6.2"
  }
 },
 "nbformat": 4,
 "nbformat_minor": 2
}
