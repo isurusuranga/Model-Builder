{
 "cells": [
  {
   "cell_type": "code",
   "execution_count": 194,
   "metadata": {},
   "outputs": [],
   "source": [
    "from keras import applications\n",
    "from keras import models\n",
    "from keras import layers\n",
    "from keras import optimizers\n",
    "from keras.preprocessing.image import ImageDataGenerator\n",
    "from keras.models import Sequential\n",
    "from keras.layers import Dropout, Flatten, Dense, Activation, GlobalAveragePooling2D\n",
    "from keras.layers.normalization import BatchNormalization\n",
    "from keras import regularizers\n",
    "import matplotlib.pyplot as plt\n",
    "from keras.models import load_model\n",
    "from keras.utils.np_utils import to_categorical \n",
    "from keras.callbacks import ModelCheckpoint\n",
    "from keras import Model\n",
    "from keras import initializers\n",
    "from keras.callbacks import LearningRateScheduler\n",
    "from keras.utils import layer_utils, np_utils\n",
    "import numpy as np\n",
    "from sklearn.metrics import classification_report, confusion_matrix\n",
    "from sklearn.datasets import make_classification\n",
    "from sklearn.preprocessing import label_binarize\n",
    "from sklearn.metrics import roc_curve, auc\n",
    "from classification_models import ResNet18\n",
    "from classification_models.resnet import preprocess_input\n",
    "from sklearn.cross_validation import cross_val_score\n",
    "from sklearn.neighbors import KNeighborsClassifier\n",
    "from sklearn.model_selection import RepeatedStratifiedKFold\n",
    "from sklearn.metrics import accuracy_score\n",
    "from sklearn.preprocessing import StandardScaler\n",
    "from sklearn.model_selection import train_test_split\n",
    "from sklearn.metrics import precision_recall_fscore_support\n",
    "import seaborn as sn\n",
    "import pandas as pd\n",
    "from scipy import interp\n",
    "from itertools import cycle"
   ]
  },
  {
   "cell_type": "code",
   "execution_count": 57,
   "metadata": {},
   "outputs": [],
   "source": [
    "image_width = 224\n",
    "image_height = 224\n",
    "\n",
    "# Change the batchsize according to your system RAM\n",
    "batch_size = 64\n",
    "\n",
    "nb_train_samples = 5000\n",
    "nb_validation_samples = 278\n",
    "\n",
    "#train_dir = \"D:/retinal_data_set_visioncare/TrainValidationData/train\"\n",
    "train_dir = \"D:/retinal_data_set_visioncare/TrainValidationData/augmented_train_data_224\"\n",
    "validation_dir = \"D:/retinal_data_set_visioncare/TrainValidationData/validation\"\n",
    "\n",
    "resnet_base = ResNet18(weights='imagenet', include_top=False, input_shape=(image_width, image_height, 3))"
   ]
  },
  {
   "cell_type": "code",
   "execution_count": 58,
   "metadata": {},
   "outputs": [
    {
     "name": "stdout",
     "output_type": "stream",
     "text": [
      "__________________________________________________________________________________________________\n",
      "Layer (type)                    Output Shape         Param #     Connected to                     \n",
      "==================================================================================================\n",
      "data (InputLayer)               (None, 224, 224, 3)  0                                            \n",
      "__________________________________________________________________________________________________\n",
      "bn_data (BatchNormalization)    (None, 224, 224, 3)  9           data[0][0]                       \n",
      "__________________________________________________________________________________________________\n",
      "zero_padding2d_73 (ZeroPadding2 (None, 230, 230, 3)  0           bn_data[0][0]                    \n",
      "__________________________________________________________________________________________________\n",
      "conv0 (Conv2D)                  (None, 112, 112, 64) 9408        zero_padding2d_73[0][0]          \n",
      "__________________________________________________________________________________________________\n",
      "bn0 (BatchNormalization)        (None, 112, 112, 64) 256         conv0[0][0]                      \n",
      "__________________________________________________________________________________________________\n",
      "relu0 (Activation)              (None, 112, 112, 64) 0           bn0[0][0]                        \n",
      "__________________________________________________________________________________________________\n",
      "zero_padding2d_74 (ZeroPadding2 (None, 114, 114, 64) 0           relu0[0][0]                      \n",
      "__________________________________________________________________________________________________\n",
      "pooling0 (MaxPooling2D)         (None, 56, 56, 64)   0           zero_padding2d_74[0][0]          \n",
      "__________________________________________________________________________________________________\n",
      "stage1_unit1_bn1 (BatchNormaliz (None, 56, 56, 64)   256         pooling0[0][0]                   \n",
      "__________________________________________________________________________________________________\n",
      "stage1_unit1_relu1 (Activation) (None, 56, 56, 64)   0           stage1_unit1_bn1[0][0]           \n",
      "__________________________________________________________________________________________________\n",
      "zero_padding2d_75 (ZeroPadding2 (None, 58, 58, 64)   0           stage1_unit1_relu1[0][0]         \n",
      "__________________________________________________________________________________________________\n",
      "stage1_unit1_conv1 (Conv2D)     (None, 56, 56, 64)   36864       zero_padding2d_75[0][0]          \n",
      "__________________________________________________________________________________________________\n",
      "stage1_unit1_bn2 (BatchNormaliz (None, 56, 56, 64)   256         stage1_unit1_conv1[0][0]         \n",
      "__________________________________________________________________________________________________\n",
      "stage1_unit1_relu2 (Activation) (None, 56, 56, 64)   0           stage1_unit1_bn2[0][0]           \n",
      "__________________________________________________________________________________________________\n",
      "zero_padding2d_76 (ZeroPadding2 (None, 58, 58, 64)   0           stage1_unit1_relu2[0][0]         \n",
      "__________________________________________________________________________________________________\n",
      "stage1_unit1_conv2 (Conv2D)     (None, 56, 56, 64)   36864       zero_padding2d_76[0][0]          \n",
      "__________________________________________________________________________________________________\n",
      "stage1_unit1_sc (Conv2D)        (None, 56, 56, 64)   4096        stage1_unit1_relu1[0][0]         \n",
      "__________________________________________________________________________________________________\n",
      "add_33 (Add)                    (None, 56, 56, 64)   0           stage1_unit1_conv2[0][0]         \n",
      "                                                                 stage1_unit1_sc[0][0]            \n",
      "__________________________________________________________________________________________________\n",
      "stage1_unit2_bn1 (BatchNormaliz (None, 56, 56, 64)   256         add_33[0][0]                     \n",
      "__________________________________________________________________________________________________\n",
      "stage1_unit2_relu1 (Activation) (None, 56, 56, 64)   0           stage1_unit2_bn1[0][0]           \n",
      "__________________________________________________________________________________________________\n",
      "zero_padding2d_77 (ZeroPadding2 (None, 58, 58, 64)   0           stage1_unit2_relu1[0][0]         \n",
      "__________________________________________________________________________________________________\n",
      "stage1_unit2_conv1 (Conv2D)     (None, 56, 56, 64)   36864       zero_padding2d_77[0][0]          \n",
      "__________________________________________________________________________________________________\n",
      "stage1_unit2_bn2 (BatchNormaliz (None, 56, 56, 64)   256         stage1_unit2_conv1[0][0]         \n",
      "__________________________________________________________________________________________________\n",
      "stage1_unit2_relu2 (Activation) (None, 56, 56, 64)   0           stage1_unit2_bn2[0][0]           \n",
      "__________________________________________________________________________________________________\n",
      "zero_padding2d_78 (ZeroPadding2 (None, 58, 58, 64)   0           stage1_unit2_relu2[0][0]         \n",
      "__________________________________________________________________________________________________\n",
      "stage1_unit2_conv2 (Conv2D)     (None, 56, 56, 64)   36864       zero_padding2d_78[0][0]          \n",
      "__________________________________________________________________________________________________\n",
      "add_34 (Add)                    (None, 56, 56, 64)   0           stage1_unit2_conv2[0][0]         \n",
      "                                                                 add_33[0][0]                     \n",
      "__________________________________________________________________________________________________\n",
      "stage2_unit1_bn1 (BatchNormaliz (None, 56, 56, 64)   256         add_34[0][0]                     \n",
      "__________________________________________________________________________________________________\n",
      "stage2_unit1_relu1 (Activation) (None, 56, 56, 64)   0           stage2_unit1_bn1[0][0]           \n",
      "__________________________________________________________________________________________________\n",
      "zero_padding2d_79 (ZeroPadding2 (None, 58, 58, 64)   0           stage2_unit1_relu1[0][0]         \n",
      "__________________________________________________________________________________________________\n",
      "stage2_unit1_conv1 (Conv2D)     (None, 28, 28, 128)  73728       zero_padding2d_79[0][0]          \n",
      "__________________________________________________________________________________________________\n",
      "stage2_unit1_bn2 (BatchNormaliz (None, 28, 28, 128)  512         stage2_unit1_conv1[0][0]         \n",
      "__________________________________________________________________________________________________\n",
      "stage2_unit1_relu2 (Activation) (None, 28, 28, 128)  0           stage2_unit1_bn2[0][0]           \n",
      "__________________________________________________________________________________________________\n",
      "zero_padding2d_80 (ZeroPadding2 (None, 30, 30, 128)  0           stage2_unit1_relu2[0][0]         \n",
      "__________________________________________________________________________________________________\n",
      "stage2_unit1_conv2 (Conv2D)     (None, 28, 28, 128)  147456      zero_padding2d_80[0][0]          \n",
      "__________________________________________________________________________________________________\n",
      "stage2_unit1_sc (Conv2D)        (None, 28, 28, 128)  8192        stage2_unit1_relu1[0][0]         \n",
      "__________________________________________________________________________________________________\n",
      "add_35 (Add)                    (None, 28, 28, 128)  0           stage2_unit1_conv2[0][0]         \n",
      "                                                                 stage2_unit1_sc[0][0]            \n",
      "__________________________________________________________________________________________________\n",
      "stage2_unit2_bn1 (BatchNormaliz (None, 28, 28, 128)  512         add_35[0][0]                     \n",
      "__________________________________________________________________________________________________\n",
      "stage2_unit2_relu1 (Activation) (None, 28, 28, 128)  0           stage2_unit2_bn1[0][0]           \n",
      "__________________________________________________________________________________________________\n",
      "zero_padding2d_81 (ZeroPadding2 (None, 30, 30, 128)  0           stage2_unit2_relu1[0][0]         \n",
      "__________________________________________________________________________________________________\n",
      "stage2_unit2_conv1 (Conv2D)     (None, 28, 28, 128)  147456      zero_padding2d_81[0][0]          \n",
      "__________________________________________________________________________________________________\n",
      "stage2_unit2_bn2 (BatchNormaliz (None, 28, 28, 128)  512         stage2_unit2_conv1[0][0]         \n",
      "__________________________________________________________________________________________________\n",
      "stage2_unit2_relu2 (Activation) (None, 28, 28, 128)  0           stage2_unit2_bn2[0][0]           \n",
      "__________________________________________________________________________________________________\n",
      "zero_padding2d_82 (ZeroPadding2 (None, 30, 30, 128)  0           stage2_unit2_relu2[0][0]         \n",
      "__________________________________________________________________________________________________\n",
      "stage2_unit2_conv2 (Conv2D)     (None, 28, 28, 128)  147456      zero_padding2d_82[0][0]          \n",
      "__________________________________________________________________________________________________\n",
      "add_36 (Add)                    (None, 28, 28, 128)  0           stage2_unit2_conv2[0][0]         \n",
      "                                                                 add_35[0][0]                     \n",
      "__________________________________________________________________________________________________\n",
      "stage3_unit1_bn1 (BatchNormaliz (None, 28, 28, 128)  512         add_36[0][0]                     \n",
      "__________________________________________________________________________________________________\n",
      "stage3_unit1_relu1 (Activation) (None, 28, 28, 128)  0           stage3_unit1_bn1[0][0]           \n",
      "__________________________________________________________________________________________________\n",
      "zero_padding2d_83 (ZeroPadding2 (None, 30, 30, 128)  0           stage3_unit1_relu1[0][0]         \n",
      "__________________________________________________________________________________________________\n",
      "stage3_unit1_conv1 (Conv2D)     (None, 14, 14, 256)  294912      zero_padding2d_83[0][0]          \n",
      "__________________________________________________________________________________________________\n",
      "stage3_unit1_bn2 (BatchNormaliz (None, 14, 14, 256)  1024        stage3_unit1_conv1[0][0]         \n",
      "__________________________________________________________________________________________________\n",
      "stage3_unit1_relu2 (Activation) (None, 14, 14, 256)  0           stage3_unit1_bn2[0][0]           \n",
      "__________________________________________________________________________________________________\n",
      "zero_padding2d_84 (ZeroPadding2 (None, 16, 16, 256)  0           stage3_unit1_relu2[0][0]         \n",
      "__________________________________________________________________________________________________\n",
      "stage3_unit1_conv2 (Conv2D)     (None, 14, 14, 256)  589824      zero_padding2d_84[0][0]          \n",
      "__________________________________________________________________________________________________\n",
      "stage3_unit1_sc (Conv2D)        (None, 14, 14, 256)  32768       stage3_unit1_relu1[0][0]         \n",
      "__________________________________________________________________________________________________\n",
      "add_37 (Add)                    (None, 14, 14, 256)  0           stage3_unit1_conv2[0][0]         \n",
      "                                                                 stage3_unit1_sc[0][0]            \n",
      "__________________________________________________________________________________________________\n",
      "stage3_unit2_bn1 (BatchNormaliz (None, 14, 14, 256)  1024        add_37[0][0]                     \n",
      "__________________________________________________________________________________________________\n",
      "stage3_unit2_relu1 (Activation) (None, 14, 14, 256)  0           stage3_unit2_bn1[0][0]           \n",
      "__________________________________________________________________________________________________\n",
      "zero_padding2d_85 (ZeroPadding2 (None, 16, 16, 256)  0           stage3_unit2_relu1[0][0]         \n",
      "__________________________________________________________________________________________________\n",
      "stage3_unit2_conv1 (Conv2D)     (None, 14, 14, 256)  589824      zero_padding2d_85[0][0]          \n",
      "__________________________________________________________________________________________________\n",
      "stage3_unit2_bn2 (BatchNormaliz (None, 14, 14, 256)  1024        stage3_unit2_conv1[0][0]         \n",
      "__________________________________________________________________________________________________\n",
      "stage3_unit2_relu2 (Activation) (None, 14, 14, 256)  0           stage3_unit2_bn2[0][0]           \n",
      "__________________________________________________________________________________________________\n",
      "zero_padding2d_86 (ZeroPadding2 (None, 16, 16, 256)  0           stage3_unit2_relu2[0][0]         \n",
      "__________________________________________________________________________________________________\n",
      "stage3_unit2_conv2 (Conv2D)     (None, 14, 14, 256)  589824      zero_padding2d_86[0][0]          \n",
      "__________________________________________________________________________________________________\n",
      "add_38 (Add)                    (None, 14, 14, 256)  0           stage3_unit2_conv2[0][0]         \n",
      "                                                                 add_37[0][0]                     \n",
      "__________________________________________________________________________________________________\n",
      "stage4_unit1_bn1 (BatchNormaliz (None, 14, 14, 256)  1024        add_38[0][0]                     \n",
      "__________________________________________________________________________________________________\n",
      "stage4_unit1_relu1 (Activation) (None, 14, 14, 256)  0           stage4_unit1_bn1[0][0]           \n",
      "__________________________________________________________________________________________________\n",
      "zero_padding2d_87 (ZeroPadding2 (None, 16, 16, 256)  0           stage4_unit1_relu1[0][0]         \n",
      "__________________________________________________________________________________________________\n",
      "stage4_unit1_conv1 (Conv2D)     (None, 7, 7, 512)    1179648     zero_padding2d_87[0][0]          \n",
      "__________________________________________________________________________________________________\n",
      "stage4_unit1_bn2 (BatchNormaliz (None, 7, 7, 512)    2048        stage4_unit1_conv1[0][0]         \n",
      "__________________________________________________________________________________________________\n",
      "stage4_unit1_relu2 (Activation) (None, 7, 7, 512)    0           stage4_unit1_bn2[0][0]           \n",
      "__________________________________________________________________________________________________\n",
      "zero_padding2d_88 (ZeroPadding2 (None, 9, 9, 512)    0           stage4_unit1_relu2[0][0]         \n",
      "__________________________________________________________________________________________________\n",
      "stage4_unit1_conv2 (Conv2D)     (None, 7, 7, 512)    2359296     zero_padding2d_88[0][0]          \n",
      "__________________________________________________________________________________________________\n",
      "stage4_unit1_sc (Conv2D)        (None, 7, 7, 512)    131072      stage4_unit1_relu1[0][0]         \n",
      "__________________________________________________________________________________________________\n",
      "add_39 (Add)                    (None, 7, 7, 512)    0           stage4_unit1_conv2[0][0]         \n",
      "                                                                 stage4_unit1_sc[0][0]            \n",
      "__________________________________________________________________________________________________\n",
      "stage4_unit2_bn1 (BatchNormaliz (None, 7, 7, 512)    2048        add_39[0][0]                     \n",
      "__________________________________________________________________________________________________\n",
      "stage4_unit2_relu1 (Activation) (None, 7, 7, 512)    0           stage4_unit2_bn1[0][0]           \n",
      "__________________________________________________________________________________________________\n",
      "zero_padding2d_89 (ZeroPadding2 (None, 9, 9, 512)    0           stage4_unit2_relu1[0][0]         \n",
      "__________________________________________________________________________________________________\n",
      "stage4_unit2_conv1 (Conv2D)     (None, 7, 7, 512)    2359296     zero_padding2d_89[0][0]          \n",
      "__________________________________________________________________________________________________\n",
      "stage4_unit2_bn2 (BatchNormaliz (None, 7, 7, 512)    2048        stage4_unit2_conv1[0][0]         \n",
      "__________________________________________________________________________________________________\n",
      "stage4_unit2_relu2 (Activation) (None, 7, 7, 512)    0           stage4_unit2_bn2[0][0]           \n",
      "__________________________________________________________________________________________________\n",
      "zero_padding2d_90 (ZeroPadding2 (None, 9, 9, 512)    0           stage4_unit2_relu2[0][0]         \n",
      "__________________________________________________________________________________________________\n",
      "stage4_unit2_conv2 (Conv2D)     (None, 7, 7, 512)    2359296     zero_padding2d_90[0][0]          \n",
      "__________________________________________________________________________________________________\n",
      "add_40 (Add)                    (None, 7, 7, 512)    0           stage4_unit2_conv2[0][0]         \n",
      "                                                                 add_39[0][0]                     \n",
      "__________________________________________________________________________________________________\n",
      "bn1 (BatchNormalization)        (None, 7, 7, 512)    2048        add_40[0][0]                     \n",
      "__________________________________________________________________________________________________\n",
      "relu1 (Activation)              (None, 7, 7, 512)    0           bn1[0][0]                        \n",
      "__________________________________________________________________________________________________\n",
      "global_average_pooling2d_4 (Glo (None, 512)          0           relu1[0][0]                      \n",
      "==================================================================================================\n",
      "Total params: 11,186,889\n",
      "Trainable params: 11,178,947\n",
      "Non-trainable params: 7,942\n",
      "__________________________________________________________________________________________________\n"
     ]
    }
   ],
   "source": [
    "x = resnet_base.get_layer(index=-1).output\n",
    "feature_extraction_layer = GlobalAveragePooling2D()(x)\n",
    "model = Model(inputs=resnet_base.input, outputs=feature_extraction_layer)\n",
    "model.summary()"
   ]
  },
  {
   "cell_type": "code",
   "execution_count": 59,
   "metadata": {},
   "outputs": [
    {
     "name": "stdout",
     "output_type": "stream",
     "text": [
      "Found 5000 images belonging to 5 classes.\n"
     ]
    }
   ],
   "source": [
    "train_datagen = ImageDataGenerator(preprocessing_function=preprocess_input)\n",
    "\n",
    "train_generator = train_datagen.flow_from_directory(\n",
    "        train_dir,\n",
    "        target_size=(image_width, image_height),\n",
    "        batch_size=batch_size,\n",
    "        class_mode=None,  # this means our generator will only yield batches of data, no labels\n",
    "        shuffle=False)\n",
    "\n",
    "nb_train_samples = len(train_generator.filenames)  \n",
    "num_classes = len(train_generator.class_indices)\n",
    "\n",
    "# get the class lebels for the training data, in the original order  \n",
    "train_labels = train_generator.classes  \n",
    "   \n",
    "# convert the training labels to categorical vectors  \n",
    "train_labels = to_categorical(train_labels, num_classes=num_classes)"
   ]
  },
  {
   "cell_type": "code",
   "execution_count": 60,
   "metadata": {},
   "outputs": [
    {
     "name": "stdout",
     "output_type": "stream",
     "text": [
      "Found 278 images belonging to 5 classes.\n"
     ]
    }
   ],
   "source": [
    "validation_datagen = ImageDataGenerator(preprocessing_function=preprocess_input)\n",
    "\n",
    "validation_generator = validation_datagen.flow_from_directory(\n",
    "        validation_dir,\n",
    "        target_size=(image_width, image_height),\n",
    "        batch_size=batch_size,\n",
    "        class_mode=None,\n",
    "        shuffle=False)\n",
    "\n",
    "nb_validation_samples = len(validation_generator.filenames)\n",
    "validation_labels = validation_generator.classes  \n",
    "validation_labels = to_categorical(validation_labels, num_classes=num_classes) "
   ]
  },
  {
   "cell_type": "code",
   "execution_count": 61,
   "metadata": {},
   "outputs": [
    {
     "data": {
      "text/plain": [
       "array([0, 0, 0, ..., 1, 1, 1])"
      ]
     },
     "execution_count": 61,
     "metadata": {},
     "output_type": "execute_result"
    }
   ],
   "source": [
    "np.array([0] * 1000 + [1] * 1000)"
   ]
  },
  {
   "cell_type": "code",
   "execution_count": 62,
   "metadata": {},
   "outputs": [
    {
     "data": {
      "text/plain": [
       "array([[1., 0., 0., 0., 0.],\n",
       "       [1., 0., 0., 0., 0.],\n",
       "       [1., 0., 0., 0., 0.],\n",
       "       ...,\n",
       "       [0., 0., 0., 0., 1.],\n",
       "       [0., 0., 0., 0., 1.],\n",
       "       [0., 0., 0., 0., 1.]], dtype=float32)"
      ]
     },
     "execution_count": 62,
     "metadata": {},
     "output_type": "execute_result"
    }
   ],
   "source": [
    "validation_labels"
   ]
  },
  {
   "cell_type": "code",
   "execution_count": 60,
   "metadata": {},
   "outputs": [],
   "source": [
    "# the predict_generator method returns the output of a model, given\n",
    "# a generator that yields batches of numpy data\n",
    "bottleneck_features_train = model.predict_generator(train_generator, nb_train_samples // batch_size + 1)\n",
    "# save the output as a Numpy array\n",
    "np.save(open('D:/retinal_data_set_visioncare/models/resnet50/bottle_neck_features/bottleneck_features_train.npy', 'wb'), bottleneck_features_train)"
   ]
  },
  {
   "cell_type": "code",
   "execution_count": 61,
   "metadata": {},
   "outputs": [],
   "source": [
    "bottleneck_features_validation = model.predict_generator(validation_generator, nb_validation_samples // batch_size + 1)\n",
    "np.save(open('D:/retinal_data_set_visioncare/models/resnet50/bottle_neck_features/bottleneck_features_validation.npy', 'wb'), bottleneck_features_validation)"
   ]
  },
  {
   "cell_type": "code",
   "execution_count": 63,
   "metadata": {},
   "outputs": [],
   "source": [
    "model_check_point_loc = 'D:/retinal_data_set_visioncare/models/resnet50/resnet_small_dr.h5'\n",
    "model_checkpoint = ModelCheckpoint(model_check_point_loc, monitor='val_acc', verbose=0, save_best_only=True, mode='max')"
   ]
  },
  {
   "cell_type": "code",
   "execution_count": 64,
   "metadata": {},
   "outputs": [],
   "source": [
    "train_data = np.load(open('D:/retinal_data_set_visioncare/models/resnet50/bottle_neck_features/bottleneck_features_train.npy', 'rb'))\n",
    "validation_data = np.load(open('D:/retinal_data_set_visioncare/models/resnet50/bottle_neck_features/bottleneck_features_validation.npy', 'rb'))"
   ]
  },
  {
   "cell_type": "code",
   "execution_count": 89,
   "metadata": {},
   "outputs": [
    {
     "data": {
      "text/plain": [
       "(5000, 512)"
      ]
     },
     "execution_count": 89,
     "metadata": {},
     "output_type": "execute_result"
    }
   ],
   "source": [
    "train_data.shape"
   ]
  },
  {
   "cell_type": "code",
   "execution_count": 90,
   "metadata": {},
   "outputs": [
    {
     "data": {
      "text/plain": [
       "array([[3.6700660e-01, 4.6685324e-03, 0.0000000e+00, ..., 2.0357642e+00,\n",
       "        2.5800377e-01, 7.2768605e-01],\n",
       "       [2.7020887e-01, 0.0000000e+00, 4.1414913e-02, ..., 2.0668449e+00,\n",
       "        3.0984226e-01, 4.2722192e-01],\n",
       "       [2.6386771e-01, 0.0000000e+00, 5.3467310e-04, ..., 1.0558809e+00,\n",
       "        1.7614199e-01, 4.7931162e-01],\n",
       "       ...,\n",
       "       [5.4849721e-02, 5.1714156e-02, 1.5508796e-01, ..., 2.0143206e+00,\n",
       "        5.0084794e-01, 7.5496852e-01],\n",
       "       [2.5956971e-03, 2.2055119e-02, 1.9220503e-01, ..., 2.2250786e+00,\n",
       "        4.9687845e-01, 5.8937383e-01],\n",
       "       [2.5444182e-02, 1.3655716e-03, 1.2118161e-01, ..., 1.6942664e+00,\n",
       "        7.5071913e-01, 6.0721153e-01]], dtype=float32)"
      ]
     },
     "execution_count": 90,
     "metadata": {},
     "output_type": "execute_result"
    }
   ],
   "source": [
    "train_data"
   ]
  },
  {
   "cell_type": "code",
   "execution_count": 91,
   "metadata": {},
   "outputs": [],
   "source": [
    "# Feature Scaling - fature normalizing\n",
    "scaler = StandardScaler()\n",
    "X_train = scaler.fit_transform(train_data)\n",
    "X_validation = scaler.transform(validation_data)"
   ]
  },
  {
   "cell_type": "code",
   "execution_count": 92,
   "metadata": {},
   "outputs": [
    {
     "data": {
      "text/plain": [
       "array([[ 0.03975001, -0.6554805 , -0.4512492 , ...,  1.0930423 ,\n",
       "        -0.6701826 ,  0.17333286],\n",
       "       [-0.24518245, -0.68025625,  0.00444929, ...,  1.15193   ,\n",
       "        -0.51952   , -0.60013694],\n",
       "       [-0.26384822, -0.68025625, -0.44536608, ..., -0.7635142 ,\n",
       "        -0.90810436, -0.46604502],\n",
       "       ...,\n",
       "       [-0.87911063, -0.40581068,  1.255222  , ...,  1.0524136 ,\n",
       "         0.03561596,  0.24356477],\n",
       "       [-1.0329249 , -0.56321037,  1.6636302 , ...,  1.4517306 ,\n",
       "         0.0240791 , -0.18271738],\n",
       "       [-0.9656684 , -0.6730092 ,  0.88214195, ...,  0.44601628,\n",
       "         0.7618378 , -0.13679868]], dtype=float32)"
      ]
     },
     "execution_count": 92,
     "metadata": {},
     "output_type": "execute_result"
    }
   ],
   "source": [
    "X_train"
   ]
  },
  {
   "cell_type": "code",
   "execution_count": 114,
   "metadata": {},
   "outputs": [],
   "source": [
    "train_data_labels = train_generator.classes  \n",
    "   \n",
    "# convert the training labels to categorical vectors  \n",
    "#train_labels = to_categorical(train_labels, num_classes=num_classes)"
   ]
  },
  {
   "cell_type": "code",
   "execution_count": 115,
   "metadata": {},
   "outputs": [],
   "source": [
    "train_X, validation_X, train_y, validation_y = train_test_split(X_train, train_data_labels, test_size = 0.2, random_state = 21)"
   ]
  },
  {
   "cell_type": "code",
   "execution_count": 117,
   "metadata": {},
   "outputs": [],
   "source": [
    "validation_onehot_y = to_categorical(validation_y, num_classes=num_classes)"
   ]
  },
  {
   "cell_type": "code",
   "execution_count": 118,
   "metadata": {},
   "outputs": [
    {
     "data": {
      "text/plain": [
       "array([[0., 0., 0., 1., 0.],\n",
       "       [1., 0., 0., 0., 0.],\n",
       "       [0., 0., 0., 0., 1.],\n",
       "       ...,\n",
       "       [1., 0., 0., 0., 0.],\n",
       "       [0., 0., 0., 1., 0.],\n",
       "       [1., 0., 0., 0., 0.]], dtype=float32)"
      ]
     },
     "execution_count": 118,
     "metadata": {},
     "output_type": "execute_result"
    }
   ],
   "source": [
    "validation_onehot_y"
   ]
  },
  {
   "cell_type": "code",
   "execution_count": 210,
   "metadata": {},
   "outputs": [
    {
     "name": "stdout",
     "output_type": "stream",
     "text": [
      "Train on 4000 samples, validate on 1000 samples\n",
      "Epoch 1/200\n",
      "4000/4000 [==============================] - 3s 680us/step - loss: 1.4103 - acc: 0.5952 - val_loss: 0.9521 - val_acc: 0.7640\n",
      "Epoch 2/200\n",
      "4000/4000 [==============================] - 0s 120us/step - loss: 0.9446 - acc: 0.7642 - val_loss: 0.8310 - val_acc: 0.8220\n",
      "Epoch 3/200\n",
      "4000/4000 [==============================] - 0s 114us/step - loss: 0.7973 - acc: 0.8250 - val_loss: 0.7574 - val_acc: 0.8380\n",
      "Epoch 4/200\n",
      "4000/4000 [==============================] - 0s 115us/step - loss: 0.7113 - acc: 0.8585 - val_loss: 0.7145 - val_acc: 0.8530\n",
      "Epoch 5/200\n",
      "4000/4000 [==============================] - 1s 131us/step - loss: 0.6422 - acc: 0.8845 - val_loss: 0.6742 - val_acc: 0.8670\n",
      "Epoch 6/200\n",
      "4000/4000 [==============================] - 1s 133us/step - loss: 0.5855 - acc: 0.9073 - val_loss: 0.6295 - val_acc: 0.8810\n",
      "Epoch 7/200\n",
      "4000/4000 [==============================] - 1s 145us/step - loss: 0.5582 - acc: 0.9070 - val_loss: 0.5919 - val_acc: 0.8890\n",
      "Epoch 8/200\n",
      "4000/4000 [==============================] - 0s 118us/step - loss: 0.5154 - acc: 0.9245 - val_loss: 0.5713 - val_acc: 0.8920\n",
      "Epoch 9/200\n",
      "4000/4000 [==============================] - 0s 120us/step - loss: 0.4785 - acc: 0.9355 - val_loss: 0.5461 - val_acc: 0.8940\n",
      "Epoch 10/200\n",
      "4000/4000 [==============================] - 0s 111us/step - loss: 0.4523 - acc: 0.9345 - val_loss: 0.5235 - val_acc: 0.9090\n",
      "Epoch 11/200\n",
      "4000/4000 [==============================] - 0s 110us/step - loss: 0.4259 - acc: 0.9447 - val_loss: 0.5135 - val_acc: 0.9010\n",
      "Epoch 12/200\n",
      "4000/4000 [==============================] - 0s 109us/step - loss: 0.4132 - acc: 0.9415 - val_loss: 0.4920 - val_acc: 0.9040\n",
      "Epoch 13/200\n",
      "4000/4000 [==============================] - 1s 127us/step - loss: 0.3842 - acc: 0.9525 - val_loss: 0.4716 - val_acc: 0.9080\n",
      "Epoch 14/200\n",
      "4000/4000 [==============================] - 0s 111us/step - loss: 0.3606 - acc: 0.9570 - val_loss: 0.4517 - val_acc: 0.9130\n",
      "Epoch 15/200\n",
      "4000/4000 [==============================] - 0s 111us/step - loss: 0.3536 - acc: 0.9523 - val_loss: 0.4344 - val_acc: 0.9220\n",
      "Epoch 16/200\n",
      "4000/4000 [==============================] - 0s 110us/step - loss: 0.3223 - acc: 0.9663 - val_loss: 0.4274 - val_acc: 0.9150\n",
      "Epoch 17/200\n",
      "4000/4000 [==============================] - 0s 109us/step - loss: 0.3163 - acc: 0.9645 - val_loss: 0.4097 - val_acc: 0.9200\n",
      "Epoch 18/200\n",
      "4000/4000 [==============================] - 0s 111us/step - loss: 0.3057 - acc: 0.9640 - val_loss: 0.4042 - val_acc: 0.9170\n",
      "Epoch 19/200\n",
      "4000/4000 [==============================] - 0s 109us/step - loss: 0.2938 - acc: 0.9698 - val_loss: 0.3973 - val_acc: 0.9180\n",
      "Epoch 20/200\n",
      "4000/4000 [==============================] - 0s 112us/step - loss: 0.2786 - acc: 0.9673 - val_loss: 0.4020 - val_acc: 0.9110\n",
      "Epoch 21/200\n",
      "4000/4000 [==============================] - 0s 108us/step - loss: 0.2735 - acc: 0.9682 - val_loss: 0.3868 - val_acc: 0.9190\n",
      "Epoch 22/200\n",
      "4000/4000 [==============================] - 0s 110us/step - loss: 0.2681 - acc: 0.9698 - val_loss: 0.3943 - val_acc: 0.9120\n",
      "Epoch 23/200\n",
      "4000/4000 [==============================] - 0s 109us/step - loss: 0.2597 - acc: 0.9708 - val_loss: 0.3755 - val_acc: 0.9160\n",
      "Epoch 24/200\n",
      "4000/4000 [==============================] - 0s 115us/step - loss: 0.2550 - acc: 0.9673 - val_loss: 0.3743 - val_acc: 0.9230\n",
      "Epoch 25/200\n",
      "4000/4000 [==============================] - 0s 110us/step - loss: 0.2376 - acc: 0.9765 - val_loss: 0.3638 - val_acc: 0.9220\n",
      "Epoch 26/200\n",
      "4000/4000 [==============================] - 0s 109us/step - loss: 0.2384 - acc: 0.9740 - val_loss: 0.3761 - val_acc: 0.9140\n",
      "Epoch 27/200\n",
      "4000/4000 [==============================] - 0s 110us/step - loss: 0.2351 - acc: 0.9718 - val_loss: 0.3651 - val_acc: 0.9200\n",
      "Epoch 28/200\n",
      "4000/4000 [==============================] - 0s 109us/step - loss: 0.2228 - acc: 0.9788 - val_loss: 0.3540 - val_acc: 0.9230\n",
      "Epoch 29/200\n",
      "4000/4000 [==============================] - 0s 112us/step - loss: 0.2179 - acc: 0.9783 - val_loss: 0.3503 - val_acc: 0.9210\n",
      "Epoch 30/200\n",
      "4000/4000 [==============================] - 0s 108us/step - loss: 0.2051 - acc: 0.9810 - val_loss: 0.3543 - val_acc: 0.9190\n",
      "Epoch 31/200\n",
      "4000/4000 [==============================] - 0s 113us/step - loss: 0.2211 - acc: 0.9725 - val_loss: 0.3644 - val_acc: 0.9050\n",
      "Epoch 32/200\n",
      "4000/4000 [==============================] - 0s 119us/step - loss: 0.2275 - acc: 0.9690 - val_loss: 0.3406 - val_acc: 0.9200\n",
      "Epoch 33/200\n",
      "4000/4000 [==============================] - 0s 120us/step - loss: 0.2200 - acc: 0.9698 - val_loss: 0.3429 - val_acc: 0.9220\n",
      "Epoch 34/200\n",
      "4000/4000 [==============================] - 0s 110us/step - loss: 0.2108 - acc: 0.9742 - val_loss: 0.3577 - val_acc: 0.9120\n",
      "Epoch 35/200\n",
      "4000/4000 [==============================] - 0s 115us/step - loss: 0.1951 - acc: 0.9805 - val_loss: 0.3319 - val_acc: 0.9220\n",
      "Epoch 36/200\n",
      "4000/4000 [==============================] - 0s 108us/step - loss: 0.2016 - acc: 0.9768 - val_loss: 0.3448 - val_acc: 0.9080\n",
      "Epoch 37/200\n",
      "4000/4000 [==============================] - 0s 109us/step - loss: 0.2065 - acc: 0.9760 - val_loss: 0.3434 - val_acc: 0.9240\n",
      "Epoch 38/200\n",
      "4000/4000 [==============================] - 0s 113us/step - loss: 0.2151 - acc: 0.9695 - val_loss: 0.3560 - val_acc: 0.9270\n",
      "Epoch 39/200\n",
      "4000/4000 [==============================] - 0s 110us/step - loss: 0.2129 - acc: 0.9715 - val_loss: 0.3299 - val_acc: 0.9220\n",
      "Epoch 40/200\n",
      "4000/4000 [==============================] - 0s 109us/step - loss: 0.2075 - acc: 0.9715 - val_loss: 0.3290 - val_acc: 0.9240\n",
      "Epoch 41/200\n",
      "4000/4000 [==============================] - 0s 112us/step - loss: 0.2016 - acc: 0.9778 - val_loss: 0.3477 - val_acc: 0.9150\n",
      "Epoch 42/200\n",
      "4000/4000 [==============================] - 0s 110us/step - loss: 0.2198 - acc: 0.9677 - val_loss: 0.3511 - val_acc: 0.9200\n",
      "Epoch 43/200\n",
      "4000/4000 [==============================] - 0s 109us/step - loss: 0.2269 - acc: 0.9665 - val_loss: 0.3315 - val_acc: 0.9250\n",
      "Epoch 44/200\n",
      "4000/4000 [==============================] - 0s 109us/step - loss: 0.2105 - acc: 0.9738 - val_loss: 0.3293 - val_acc: 0.9260\n",
      "Epoch 45/200\n",
      "4000/4000 [==============================] - 0s 110us/step - loss: 0.2015 - acc: 0.9770 - val_loss: 0.3366 - val_acc: 0.9240\n",
      "Epoch 46/200\n",
      "4000/4000 [==============================] - 0s 112us/step - loss: 0.1890 - acc: 0.9835 - val_loss: 0.3373 - val_acc: 0.9200\n",
      "Epoch 47/200\n",
      "4000/4000 [==============================] - 0s 107us/step - loss: 0.1984 - acc: 0.9755 - val_loss: 0.3367 - val_acc: 0.9190\n",
      "Epoch 48/200\n",
      "4000/4000 [==============================] - 0s 109us/step - loss: 0.2005 - acc: 0.9728 - val_loss: 0.3379 - val_acc: 0.9270\n",
      "Epoch 49/200\n",
      "4000/4000 [==============================] - 0s 115us/step - loss: 0.1900 - acc: 0.9783 - val_loss: 0.3435 - val_acc: 0.9140\n",
      "Epoch 50/200\n",
      "4000/4000 [==============================] - 0s 110us/step - loss: 0.1937 - acc: 0.9772 - val_loss: 0.3266 - val_acc: 0.9240\n",
      "Epoch 51/200\n",
      "4000/4000 [==============================] - 0s 110us/step - loss: 0.1931 - acc: 0.9768 - val_loss: 0.3194 - val_acc: 0.9320\n",
      "Epoch 52/200\n",
      "4000/4000 [==============================] - 0s 106us/step - loss: 0.1864 - acc: 0.9780 - val_loss: 0.3209 - val_acc: 0.9260\n",
      "Epoch 53/200\n",
      "4000/4000 [==============================] - 0s 109us/step - loss: 0.1934 - acc: 0.9753 - val_loss: 0.3529 - val_acc: 0.9250\n",
      "Epoch 54/200\n",
      "4000/4000 [==============================] - 0s 113us/step - loss: 0.1962 - acc: 0.9725 - val_loss: 0.3222 - val_acc: 0.9260\n",
      "Epoch 55/200\n",
      "4000/4000 [==============================] - 0s 105us/step - loss: 0.1950 - acc: 0.9735 - val_loss: 0.3100 - val_acc: 0.9310\n",
      "Epoch 56/200\n",
      "4000/4000 [==============================] - 0s 106us/step - loss: 0.1911 - acc: 0.9765 - val_loss: 0.3350 - val_acc: 0.9260\n",
      "Epoch 57/200\n",
      "4000/4000 [==============================] - 0s 113us/step - loss: 0.1884 - acc: 0.9770 - val_loss: 0.3149 - val_acc: 0.9290\n",
      "Epoch 58/200\n",
      "4000/4000 [==============================] - 0s 109us/step - loss: 0.1893 - acc: 0.9775 - val_loss: 0.3188 - val_acc: 0.9270\n",
      "Epoch 59/200\n",
      "4000/4000 [==============================] - 0s 109us/step - loss: 0.1854 - acc: 0.9805 - val_loss: 0.3137 - val_acc: 0.9270\n",
      "Epoch 60/200\n"
     ]
    },
    {
     "name": "stdout",
     "output_type": "stream",
     "text": [
      "4000/4000 [==============================] - 0s 112us/step - loss: 0.1817 - acc: 0.9790 - val_loss: 0.3123 - val_acc: 0.9240\n",
      "Epoch 61/200\n",
      "4000/4000 [==============================] - 0s 106us/step - loss: 0.1857 - acc: 0.9735 - val_loss: 0.3545 - val_acc: 0.9170\n",
      "Epoch 62/200\n",
      "4000/4000 [==============================] - 0s 109us/step - loss: 0.1996 - acc: 0.9725 - val_loss: 0.3234 - val_acc: 0.9330\n",
      "Epoch 63/200\n",
      "4000/4000 [==============================] - 0s 113us/step - loss: 0.1966 - acc: 0.9730 - val_loss: 0.3313 - val_acc: 0.9230\n",
      "Epoch 64/200\n",
      "4000/4000 [==============================] - 0s 109us/step - loss: 0.1837 - acc: 0.9795 - val_loss: 0.3420 - val_acc: 0.9280\n",
      "Epoch 65/200\n",
      "4000/4000 [==============================] - 0s 110us/step - loss: 0.1815 - acc: 0.9840 - val_loss: 0.3019 - val_acc: 0.9300\n",
      "Epoch 66/200\n",
      "4000/4000 [==============================] - 0s 106us/step - loss: 0.1776 - acc: 0.9822 - val_loss: 0.3102 - val_acc: 0.9360\n",
      "Epoch 67/200\n",
      "4000/4000 [==============================] - 0s 112us/step - loss: 0.1847 - acc: 0.9765 - val_loss: 0.3348 - val_acc: 0.9200\n",
      "Epoch 68/200\n",
      "4000/4000 [==============================] - 0s 110us/step - loss: 0.1779 - acc: 0.9825 - val_loss: 0.3226 - val_acc: 0.9200\n",
      "Epoch 69/200\n",
      "4000/4000 [==============================] - 0s 108us/step - loss: 0.1790 - acc: 0.9810 - val_loss: 0.3159 - val_acc: 0.9320\n",
      "Epoch 70/200\n",
      "4000/4000 [==============================] - 0s 111us/step - loss: 0.1893 - acc: 0.9742 - val_loss: 0.3305 - val_acc: 0.9250\n",
      "Epoch 71/200\n",
      "4000/4000 [==============================] - 0s 105us/step - loss: 0.2029 - acc: 0.9690 - val_loss: 0.3230 - val_acc: 0.9260\n",
      "Epoch 72/200\n",
      "4000/4000 [==============================] - 0s 113us/step - loss: 0.1958 - acc: 0.9723 - val_loss: 0.3178 - val_acc: 0.9280\n",
      "Epoch 73/200\n",
      "4000/4000 [==============================] - 0s 108us/step - loss: 0.1880 - acc: 0.9760 - val_loss: 0.3257 - val_acc: 0.9210\n",
      "Epoch 74/200\n",
      "4000/4000 [==============================] - 0s 111us/step - loss: 0.1898 - acc: 0.9765 - val_loss: 0.3154 - val_acc: 0.9180\n",
      "Epoch 75/200\n",
      "4000/4000 [==============================] - 0s 108us/step - loss: 0.1845 - acc: 0.9830 - val_loss: 0.3208 - val_acc: 0.9340\n",
      "Epoch 76/200\n",
      "4000/4000 [==============================] - 0s 115us/step - loss: 0.1850 - acc: 0.9785 - val_loss: 0.3087 - val_acc: 0.9330\n",
      "Epoch 77/200\n",
      "4000/4000 [==============================] - 0s 123us/step - loss: 0.1795 - acc: 0.9790 - val_loss: 0.3210 - val_acc: 0.9320\n",
      "Epoch 78/200\n",
      "4000/4000 [==============================] - 0s 122us/step - loss: 0.1826 - acc: 0.9788 - val_loss: 0.3123 - val_acc: 0.9270\n",
      "Epoch 79/200\n",
      "4000/4000 [==============================] - 0s 118us/step - loss: 0.1861 - acc: 0.9788 - val_loss: 0.3152 - val_acc: 0.9290\n",
      "Epoch 80/200\n",
      "4000/4000 [==============================] - 0s 123us/step - loss: 0.1729 - acc: 0.9822 - val_loss: 0.3336 - val_acc: 0.9240\n",
      "Epoch 81/200\n",
      "4000/4000 [==============================] - 0s 119us/step - loss: 0.1804 - acc: 0.9785 - val_loss: 0.3253 - val_acc: 0.9320\n",
      "Epoch 82/200\n",
      "4000/4000 [==============================] - 0s 117us/step - loss: 0.1777 - acc: 0.9792 - val_loss: 0.3324 - val_acc: 0.9340\n",
      "Epoch 83/200\n",
      "4000/4000 [==============================] - 0s 121us/step - loss: 0.1815 - acc: 0.9792 - val_loss: 0.3280 - val_acc: 0.9320\n",
      "Epoch 84/200\n",
      "4000/4000 [==============================] - 0s 125us/step - loss: 0.1826 - acc: 0.9795 - val_loss: 0.3375 - val_acc: 0.9230\n",
      "Epoch 85/200\n",
      "4000/4000 [==============================] - 0s 121us/step - loss: 0.1924 - acc: 0.9720 - val_loss: 0.3344 - val_acc: 0.9230\n",
      "Epoch 86/200\n",
      "4000/4000 [==============================] - 0s 119us/step - loss: 0.1815 - acc: 0.9790 - val_loss: 0.3223 - val_acc: 0.9390\n",
      "Epoch 87/200\n",
      "4000/4000 [==============================] - 0s 123us/step - loss: 0.1947 - acc: 0.9740 - val_loss: 0.3204 - val_acc: 0.9370\n",
      "Epoch 88/200\n",
      "4000/4000 [==============================] - 0s 121us/step - loss: 0.1914 - acc: 0.9745 - val_loss: 0.3129 - val_acc: 0.9360\n",
      "Epoch 89/200\n",
      "4000/4000 [==============================] - 0s 119us/step - loss: 0.2101 - acc: 0.9657 - val_loss: 0.3373 - val_acc: 0.9240\n",
      "Epoch 90/200\n",
      "4000/4000 [==============================] - 0s 121us/step - loss: 0.1940 - acc: 0.9753 - val_loss: 0.3273 - val_acc: 0.9260\n",
      "Epoch 91/200\n",
      "4000/4000 [==============================] - 0s 120us/step - loss: 0.1942 - acc: 0.9770 - val_loss: 0.3381 - val_acc: 0.9260\n",
      "Epoch 92/200\n",
      "4000/4000 [==============================] - 0s 121us/step - loss: 0.1851 - acc: 0.9805 - val_loss: 0.3305 - val_acc: 0.9360\n",
      "Epoch 93/200\n",
      "4000/4000 [==============================] - 0s 124us/step - loss: 0.1824 - acc: 0.9805 - val_loss: 0.3291 - val_acc: 0.9290\n",
      "Epoch 94/200\n",
      "4000/4000 [==============================] - 0s 117us/step - loss: 0.1997 - acc: 0.9700 - val_loss: 0.3512 - val_acc: 0.9170\n",
      "Epoch 95/200\n",
      "4000/4000 [==============================] - 1s 125us/step - loss: 0.2176 - acc: 0.9680 - val_loss: 0.3687 - val_acc: 0.9240\n",
      "Epoch 96/200\n",
      "4000/4000 [==============================] - 0s 120us/step - loss: 0.2058 - acc: 0.9740 - val_loss: 0.3333 - val_acc: 0.9320\n",
      "Epoch 97/200\n",
      "4000/4000 [==============================] - 0s 123us/step - loss: 0.1899 - acc: 0.9785 - val_loss: 0.3071 - val_acc: 0.9400\n",
      "Epoch 98/200\n",
      "4000/4000 [==============================] - 0s 120us/step - loss: 0.1869 - acc: 0.9815 - val_loss: 0.3271 - val_acc: 0.9290\n",
      "Epoch 99/200\n",
      "4000/4000 [==============================] - 1s 126us/step - loss: 0.1809 - acc: 0.9840 - val_loss: 0.3376 - val_acc: 0.9150\n",
      "Epoch 100/200\n",
      "4000/4000 [==============================] - 0s 117us/step - loss: 0.1661 - acc: 0.9875 - val_loss: 0.3367 - val_acc: 0.9250\n",
      "Epoch 101/200\n",
      "4000/4000 [==============================] - 0s 120us/step - loss: 0.1649 - acc: 0.9850 - val_loss: 0.3010 - val_acc: 0.9270\n",
      "Epoch 102/200\n",
      "4000/4000 [==============================] - 0s 118us/step - loss: 0.1625 - acc: 0.9875 - val_loss: 0.3056 - val_acc: 0.9390\n",
      "Epoch 103/200\n",
      "4000/4000 [==============================] - 0s 124us/step - loss: 0.1667 - acc: 0.9840 - val_loss: 0.3274 - val_acc: 0.9300\n",
      "Epoch 104/200\n",
      "4000/4000 [==============================] - 0s 123us/step - loss: 0.1768 - acc: 0.9785 - val_loss: 0.3097 - val_acc: 0.9220\n",
      "Epoch 105/200\n",
      "4000/4000 [==============================] - 0s 119us/step - loss: 0.1738 - acc: 0.9805 - val_loss: 0.3464 - val_acc: 0.9180\n",
      "Epoch 106/200\n",
      "4000/4000 [==============================] - 0s 122us/step - loss: 0.1790 - acc: 0.9798 - val_loss: 0.2941 - val_acc: 0.9350\n",
      "Epoch 107/200\n",
      "4000/4000 [==============================] - 0s 120us/step - loss: 0.1821 - acc: 0.9770 - val_loss: 0.3270 - val_acc: 0.9280\n",
      "Epoch 108/200\n",
      "4000/4000 [==============================] - 0s 122us/step - loss: 0.1918 - acc: 0.9725 - val_loss: 0.3562 - val_acc: 0.9190\n",
      "Epoch 109/200\n",
      "4000/4000 [==============================] - 0s 121us/step - loss: 0.1973 - acc: 0.9698 - val_loss: 0.3664 - val_acc: 0.9250\n",
      "Epoch 110/200\n",
      "4000/4000 [==============================] - 0s 121us/step - loss: 0.1910 - acc: 0.9748 - val_loss: 0.3306 - val_acc: 0.9300\n",
      "Epoch 111/200\n",
      "4000/4000 [==============================] - 1s 128us/step - loss: 0.1874 - acc: 0.9760 - val_loss: 0.3434 - val_acc: 0.9240\n",
      "Epoch 112/200\n",
      "4000/4000 [==============================] - 1s 126us/step - loss: 0.1980 - acc: 0.9762 - val_loss: 0.3354 - val_acc: 0.9200\n",
      "Epoch 113/200\n",
      "4000/4000 [==============================] - 0s 124us/step - loss: 0.1708 - acc: 0.9840 - val_loss: 0.3188 - val_acc: 0.9340\n",
      "Epoch 114/200\n",
      "4000/4000 [==============================] - 1s 129us/step - loss: 0.1942 - acc: 0.9738 - val_loss: 0.3348 - val_acc: 0.9270\n",
      "Epoch 115/200\n",
      "4000/4000 [==============================] - 0s 124us/step - loss: 0.1895 - acc: 0.9748 - val_loss: 0.3306 - val_acc: 0.9270\n",
      "Epoch 116/200\n",
      "4000/4000 [==============================] - 0s 122us/step - loss: 0.1931 - acc: 0.9762 - val_loss: 0.3149 - val_acc: 0.9310\n",
      "Epoch 117/200\n",
      "4000/4000 [==============================] - 1s 129us/step - loss: 0.1901 - acc: 0.9795 - val_loss: 0.3224 - val_acc: 0.9310\n",
      "Epoch 118/200\n",
      "4000/4000 [==============================] - 1s 126us/step - loss: 0.1772 - acc: 0.9813 - val_loss: 0.3086 - val_acc: 0.9320\n",
      "Epoch 119/200\n",
      "4000/4000 [==============================] - 0s 120us/step - loss: 0.1788 - acc: 0.9820 - val_loss: 0.3367 - val_acc: 0.9240\n",
      "Epoch 120/200\n",
      "4000/4000 [==============================] - 1s 131us/step - loss: 0.1849 - acc: 0.9808 - val_loss: 0.3356 - val_acc: 0.9320\n",
      "Epoch 121/200\n",
      "4000/4000 [==============================] - 1s 127us/step - loss: 0.1830 - acc: 0.9790 - val_loss: 0.3277 - val_acc: 0.9270\n",
      "Epoch 122/200\n",
      "4000/4000 [==============================] - 0s 121us/step - loss: 0.1771 - acc: 0.9808 - val_loss: 0.2932 - val_acc: 0.9370\n",
      "Epoch 123/200\n",
      "4000/4000 [==============================] - 0s 121us/step - loss: 0.1786 - acc: 0.9820 - val_loss: 0.2941 - val_acc: 0.9400\n",
      "Epoch 124/200\n",
      "4000/4000 [==============================] - 0s 109us/step - loss: 0.1721 - acc: 0.9848 - val_loss: 0.3091 - val_acc: 0.9350\n",
      "Epoch 125/200\n",
      "4000/4000 [==============================] - 0s 109us/step - loss: 0.1909 - acc: 0.9750 - val_loss: 0.3388 - val_acc: 0.9200\n",
      "Epoch 126/200\n",
      "4000/4000 [==============================] - 0s 111us/step - loss: 0.1881 - acc: 0.9770 - val_loss: 0.3272 - val_acc: 0.9250\n",
      "Epoch 127/200\n",
      "4000/4000 [==============================] - 0s 109us/step - loss: 0.2101 - acc: 0.9702 - val_loss: 0.3295 - val_acc: 0.9250\n",
      "Epoch 128/200\n",
      "4000/4000 [==============================] - 0s 112us/step - loss: 0.1994 - acc: 0.9740 - val_loss: 0.3319 - val_acc: 0.9250\n",
      "Epoch 129/200\n",
      "4000/4000 [==============================] - 0s 108us/step - loss: 0.1947 - acc: 0.9762 - val_loss: 0.3347 - val_acc: 0.9350\n",
      "Epoch 130/200\n",
      "4000/4000 [==============================] - 0s 110us/step - loss: 0.1854 - acc: 0.9820 - val_loss: 0.3071 - val_acc: 0.9370\n",
      "Epoch 131/200\n",
      "4000/4000 [==============================] - 0s 110us/step - loss: 0.1718 - acc: 0.9838 - val_loss: 0.3311 - val_acc: 0.9280\n",
      "Epoch 132/200\n",
      "4000/4000 [==============================] - 0s 114us/step - loss: 0.1803 - acc: 0.9790 - val_loss: 0.2970 - val_acc: 0.9350\n",
      "Epoch 133/200\n",
      "4000/4000 [==============================] - 0s 109us/step - loss: 0.1754 - acc: 0.9840 - val_loss: 0.2882 - val_acc: 0.9390\n",
      "Epoch 134/200\n",
      "4000/4000 [==============================] - 0s 109us/step - loss: 0.1745 - acc: 0.9818 - val_loss: 0.3193 - val_acc: 0.9350\n",
      "Epoch 135/200\n",
      "4000/4000 [==============================] - 0s 114us/step - loss: 0.1771 - acc: 0.9818 - val_loss: 0.3004 - val_acc: 0.9370\n",
      "Epoch 136/200\n",
      "4000/4000 [==============================] - 0s 108us/step - loss: 0.1714 - acc: 0.9815 - val_loss: 0.2894 - val_acc: 0.9400\n",
      "Epoch 137/200\n",
      "4000/4000 [==============================] - 0s 111us/step - loss: 0.1754 - acc: 0.9810 - val_loss: 0.3028 - val_acc: 0.9430\n",
      "Epoch 138/200\n",
      "4000/4000 [==============================] - 0s 110us/step - loss: 0.1762 - acc: 0.9798 - val_loss: 0.2856 - val_acc: 0.9400\n",
      "Epoch 139/200\n",
      "4000/4000 [==============================] - 0s 109us/step - loss: 0.1731 - acc: 0.9805 - val_loss: 0.3324 - val_acc: 0.9210\n",
      "Epoch 140/200\n",
      "4000/4000 [==============================] - 0s 109us/step - loss: 0.1694 - acc: 0.9825 - val_loss: 0.3050 - val_acc: 0.9400\n",
      "Epoch 141/200\n",
      "4000/4000 [==============================] - 0s 109us/step - loss: 0.1832 - acc: 0.9785 - val_loss: 0.3306 - val_acc: 0.9340\n",
      "Epoch 142/200\n",
      "4000/4000 [==============================] - 0s 110us/step - loss: 0.2006 - acc: 0.9738 - val_loss: 0.3003 - val_acc: 0.9320\n",
      "Epoch 143/200\n",
      "4000/4000 [==============================] - 0s 110us/step - loss: 0.1999 - acc: 0.9725 - val_loss: 0.3594 - val_acc: 0.9160\n",
      "Epoch 144/200\n",
      "4000/4000 [==============================] - 0s 108us/step - loss: 0.2083 - acc: 0.9688 - val_loss: 0.3425 - val_acc: 0.9210\n",
      "Epoch 145/200\n",
      "4000/4000 [==============================] - 0s 109us/step - loss: 0.2104 - acc: 0.9685 - val_loss: 0.3713 - val_acc: 0.9230\n",
      "Epoch 146/200\n",
      "4000/4000 [==============================] - 0s 110us/step - loss: 0.2128 - acc: 0.9715 - val_loss: 0.3387 - val_acc: 0.9230\n",
      "Epoch 147/200\n",
      "4000/4000 [==============================] - 0s 109us/step - loss: 0.1933 - acc: 0.9765 - val_loss: 0.3335 - val_acc: 0.9250\n",
      "Epoch 148/200\n",
      "4000/4000 [==============================] - 0s 109us/step - loss: 0.1956 - acc: 0.9770 - val_loss: 0.3263 - val_acc: 0.9260\n",
      "Epoch 149/200\n",
      "4000/4000 [==============================] - 0s 109us/step - loss: 0.1957 - acc: 0.9758 - val_loss: 0.3046 - val_acc: 0.9360\n",
      "Epoch 150/200\n",
      "4000/4000 [==============================] - 0s 109us/step - loss: 0.1921 - acc: 0.9775 - val_loss: 0.3435 - val_acc: 0.9350\n",
      "Epoch 151/200\n",
      "4000/4000 [==============================] - 0s 110us/step - loss: 0.1916 - acc: 0.9758 - val_loss: 0.3297 - val_acc: 0.9410\n",
      "Epoch 152/200\n",
      "4000/4000 [==============================] - 0s 109us/step - loss: 0.1875 - acc: 0.9783 - val_loss: 0.3250 - val_acc: 0.9340\n",
      "Epoch 153/200\n",
      "4000/4000 [==============================] - 0s 109us/step - loss: 0.1848 - acc: 0.9813 - val_loss: 0.3165 - val_acc: 0.9360\n",
      "Epoch 154/200\n",
      "4000/4000 [==============================] - 0s 111us/step - loss: 0.1695 - acc: 0.9843 - val_loss: 0.3014 - val_acc: 0.9410\n",
      "Epoch 155/200\n",
      "4000/4000 [==============================] - 0s 112us/step - loss: 0.1654 - acc: 0.9868 - val_loss: 0.2843 - val_acc: 0.9500\n",
      "Epoch 156/200\n",
      "4000/4000 [==============================] - 0s 109us/step - loss: 0.1667 - acc: 0.9858 - val_loss: 0.2777 - val_acc: 0.9390\n",
      "Epoch 157/200\n",
      "4000/4000 [==============================] - 0s 109us/step - loss: 0.1591 - acc: 0.9882 - val_loss: 0.2758 - val_acc: 0.9480\n",
      "Epoch 158/200\n",
      "4000/4000 [==============================] - 0s 121us/step - loss: 0.1602 - acc: 0.9858 - val_loss: 0.2894 - val_acc: 0.9400\n",
      "Epoch 159/200\n",
      "4000/4000 [==============================] - 0s 113us/step - loss: 0.1594 - acc: 0.9858 - val_loss: 0.2933 - val_acc: 0.9420\n",
      "Epoch 160/200\n",
      "4000/4000 [==============================] - 0s 110us/step - loss: 0.1519 - acc: 0.9888 - val_loss: 0.2748 - val_acc: 0.9440\n",
      "Epoch 161/200\n",
      "4000/4000 [==============================] - 0s 112us/step - loss: 0.1541 - acc: 0.9848 - val_loss: 0.3010 - val_acc: 0.9330\n",
      "Epoch 162/200\n",
      "4000/4000 [==============================] - 0s 107us/step - loss: 0.1716 - acc: 0.9785 - val_loss: 0.3370 - val_acc: 0.9190\n",
      "Epoch 163/200\n",
      "4000/4000 [==============================] - 0s 110us/step - loss: 0.1820 - acc: 0.9723 - val_loss: 0.3069 - val_acc: 0.9320\n",
      "Epoch 164/200\n",
      "4000/4000 [==============================] - 0s 113us/step - loss: 0.1891 - acc: 0.9715 - val_loss: 0.3237 - val_acc: 0.9340\n",
      "Epoch 165/200\n",
      "4000/4000 [==============================] - 0s 107us/step - loss: 0.1871 - acc: 0.9745 - val_loss: 0.3190 - val_acc: 0.9390\n",
      "Epoch 166/200\n",
      "4000/4000 [==============================] - 0s 112us/step - loss: 0.1967 - acc: 0.9723 - val_loss: 0.3303 - val_acc: 0.9340\n",
      "Epoch 167/200\n",
      "4000/4000 [==============================] - 0s 110us/step - loss: 0.2069 - acc: 0.9685 - val_loss: 0.3389 - val_acc: 0.9310\n",
      "Epoch 168/200\n",
      "4000/4000 [==============================] - 0s 113us/step - loss: 0.2171 - acc: 0.9702 - val_loss: 0.3905 - val_acc: 0.9210\n",
      "Epoch 169/200\n",
      "4000/4000 [==============================] - 0s 109us/step - loss: 0.2101 - acc: 0.9708 - val_loss: 0.3377 - val_acc: 0.9280\n",
      "Epoch 170/200\n",
      "4000/4000 [==============================] - 0s 113us/step - loss: 0.1990 - acc: 0.9753 - val_loss: 0.3529 - val_acc: 0.9290\n",
      "Epoch 171/200\n",
      "4000/4000 [==============================] - 0s 110us/step - loss: 0.1992 - acc: 0.9758 - val_loss: 0.3470 - val_acc: 0.9300\n",
      "Epoch 172/200\n",
      "4000/4000 [==============================] - 0s 111us/step - loss: 0.1977 - acc: 0.9758 - val_loss: 0.3465 - val_acc: 0.9360\n",
      "Epoch 173/200\n",
      "4000/4000 [==============================] - 0s 111us/step - loss: 0.1825 - acc: 0.9813 - val_loss: 0.3505 - val_acc: 0.9280\n",
      "Epoch 174/200\n",
      "4000/4000 [==============================] - 0s 109us/step - loss: 0.1811 - acc: 0.9800 - val_loss: 0.3378 - val_acc: 0.9260\n",
      "Epoch 175/200\n",
      "4000/4000 [==============================] - 0s 109us/step - loss: 0.1792 - acc: 0.9822 - val_loss: 0.3242 - val_acc: 0.9430\n",
      "Epoch 176/200\n",
      "4000/4000 [==============================] - 0s 113us/step - loss: 0.1876 - acc: 0.9775 - val_loss: 0.3680 - val_acc: 0.9340\n",
      "Epoch 177/200\n",
      "4000/4000 [==============================] - 0s 109us/step - loss: 0.1866 - acc: 0.9805 - val_loss: 0.3200 - val_acc: 0.9390\n",
      "Epoch 178/200\n"
     ]
    },
    {
     "name": "stdout",
     "output_type": "stream",
     "text": [
      "4000/4000 [==============================] - 0s 110us/step - loss: 0.1773 - acc: 0.9832 - val_loss: 0.3342 - val_acc: 0.9380\n",
      "Epoch 179/200\n",
      "4000/4000 [==============================] - 0s 115us/step - loss: 0.1828 - acc: 0.9818 - val_loss: 0.3365 - val_acc: 0.9350\n",
      "Epoch 180/200\n",
      "4000/4000 [==============================] - 0s 108us/step - loss: 0.1810 - acc: 0.9788 - val_loss: 0.3324 - val_acc: 0.9340\n",
      "Epoch 181/200\n",
      "4000/4000 [==============================] - 0s 109us/step - loss: 0.1912 - acc: 0.9750 - val_loss: 0.3288 - val_acc: 0.9340\n",
      "Epoch 182/200\n",
      "4000/4000 [==============================] - 0s 110us/step - loss: 0.1733 - acc: 0.9840 - val_loss: 0.3558 - val_acc: 0.9280\n",
      "Epoch 183/200\n",
      "4000/4000 [==============================] - 0s 109us/step - loss: 0.1703 - acc: 0.9825 - val_loss: 0.3395 - val_acc: 0.9250\n",
      "Epoch 184/200\n",
      "4000/4000 [==============================] - 0s 113us/step - loss: 0.1748 - acc: 0.9818 - val_loss: 0.3295 - val_acc: 0.9340\n",
      "Epoch 185/200\n",
      "4000/4000 [==============================] - 0s 109us/step - loss: 0.1716 - acc: 0.9810 - val_loss: 0.3030 - val_acc: 0.9400\n",
      "Epoch 186/200\n",
      "4000/4000 [==============================] - 0s 109us/step - loss: 0.1669 - acc: 0.9862 - val_loss: 0.3247 - val_acc: 0.9380\n",
      "Epoch 187/200\n",
      "4000/4000 [==============================] - 0s 110us/step - loss: 0.1770 - acc: 0.9815 - val_loss: 0.3354 - val_acc: 0.9290\n",
      "Epoch 188/200\n",
      "4000/4000 [==============================] - 0s 114us/step - loss: 0.1868 - acc: 0.9742 - val_loss: 0.3495 - val_acc: 0.9310\n",
      "Epoch 189/200\n",
      "4000/4000 [==============================] - 0s 108us/step - loss: 0.1899 - acc: 0.9758 - val_loss: 0.3274 - val_acc: 0.9260\n",
      "Epoch 190/200\n",
      "4000/4000 [==============================] - 0s 106us/step - loss: 0.1887 - acc: 0.9742 - val_loss: 0.3685 - val_acc: 0.9220\n",
      "Epoch 191/200\n",
      "4000/4000 [==============================] - 0s 114us/step - loss: 0.1772 - acc: 0.9825 - val_loss: 0.3341 - val_acc: 0.9330\n",
      "Epoch 192/200\n",
      "4000/4000 [==============================] - 0s 109us/step - loss: 0.1894 - acc: 0.9758 - val_loss: 0.3416 - val_acc: 0.9330\n",
      "Epoch 193/200\n",
      "4000/4000 [==============================] - 0s 109us/step - loss: 0.2023 - acc: 0.9712 - val_loss: 0.3471 - val_acc: 0.9300\n",
      "Epoch 194/200\n",
      "4000/4000 [==============================] - 0s 107us/step - loss: 0.1907 - acc: 0.9765 - val_loss: 0.3316 - val_acc: 0.9310\n",
      "Epoch 195/200\n",
      "4000/4000 [==============================] - 0s 108us/step - loss: 0.1879 - acc: 0.9778 - val_loss: 0.3438 - val_acc: 0.9290\n",
      "Epoch 196/200\n",
      "4000/4000 [==============================] - 0s 110us/step - loss: 0.1990 - acc: 0.9762 - val_loss: 0.3698 - val_acc: 0.9280\n",
      "Epoch 197/200\n",
      "4000/4000 [==============================] - 0s 109us/step - loss: 0.1892 - acc: 0.9788 - val_loss: 0.3642 - val_acc: 0.9220\n",
      "Epoch 198/200\n",
      "4000/4000 [==============================] - 0s 113us/step - loss: 0.1877 - acc: 0.9775 - val_loss: 0.3778 - val_acc: 0.9270\n",
      "Epoch 199/200\n",
      "4000/4000 [==============================] - 0s 107us/step - loss: 0.1807 - acc: 0.9790 - val_loss: 0.3515 - val_acc: 0.9300\n",
      "Epoch 200/200\n",
      "4000/4000 [==============================] - 0s 117us/step - loss: 0.1762 - acc: 0.9800 - val_loss: 0.3413 - val_acc: 0.9330\n"
     ]
    }
   ],
   "source": [
    "new_model = Sequential()\n",
    "#new_model.add(Flatten(input_shape=train_data.shape[1:]))\n",
    "new_model.add(Dense(256, input_dim=512, activation='relu', kernel_initializer=initializers.he_normal(seed=None), kernel_regularizer=regularizers.l2(0.001)))\n",
    "new_model.add(Dropout(0.5))\n",
    "# new_model.add(Dense(15, activation='relu', kernel_initializer=initializers.he_normal(seed=None), kernel_regularizer=regularizers.l2(0.001)))\n",
    "# new_model.add(Dropout(0.2))\n",
    "new_model.add(Dense(5, kernel_initializer=initializers.he_normal(seed=None), activation='softmax'))\n",
    "\n",
    "# new_model = Sequential()\n",
    "# new_model.add(Dense(512, input_dim=512, activation='relu', kernel_initializer=initializers.he_normal(seed=None)))\n",
    "# new_model.add(BatchNormalization())\n",
    "# new_model.add(Dropout(0.5))\n",
    "# # new_model.add(Dense(256, activation='relu', kernel_regularizer=regularizers.l2(0.001), kernel_initializer=initializers.he_normal(seed=None)))\n",
    "# # new_model.add(BatchNormalization())\n",
    "# # new_model.add(Dropout(0.5))\n",
    "# new_model.add(Dense(5, kernel_initializer=initializers.he_normal(seed=None), activity_regularizer=regularizers.l2(0.001), activation='softmax'))\n",
    "\n",
    "new_model.compile(optimizer='adam',\n",
    "              loss='categorical_crossentropy',\n",
    "              metrics=['acc'])\n",
    "\n",
    "# history = new_model.fit(X_train, train_labels,\n",
    "#           epochs=50,\n",
    "#           batch_size=batch_size,\n",
    "#           callbacks=[model_checkpoint],\n",
    "#           validation_data=(X_validation, validation_labels))\n",
    "\n",
    "history = new_model.fit(train_X, to_categorical(train_y, num_classes=num_classes),\n",
    "          epochs=200,\n",
    "          batch_size=batch_size,\n",
    "          callbacks=[model_checkpoint],\n",
    "          validation_data=(validation_X, validation_onehot_y))"
   ]
  },
  {
   "cell_type": "code",
   "execution_count": 206,
   "metadata": {},
   "outputs": [
    {
     "data": {
      "text/plain": [
       "array([0, 4, 1, ..., 1, 0, 0])"
      ]
     },
     "execution_count": 206,
     "metadata": {},
     "output_type": "execute_result"
    }
   ],
   "source": [
    "train_y"
   ]
  },
  {
   "cell_type": "code",
   "execution_count": 211,
   "metadata": {},
   "outputs": [
    {
     "data": {
      "image/png": "[encoded data removed]",
      "text/plain": [
       "<Figure size 432x288 with 1 Axes>"
      ]
     },
     "metadata": {},
     "output_type": "display_data"
    },
    {
     "data": {
      "image/png": "[encoded data removed]",
      "text/plain": [
       "<Figure size 432x288 with 1 Axes>"
      ]
     },
     "metadata": {},
     "output_type": "display_data"
    }
   ],
   "source": [
    "sn.reset_orig()\n",
    "\n",
    "acc = history.history['acc']\n",
    "val_acc = history.history['val_acc']\n",
    "loss = history.history['loss']\n",
    "val_loss = history.history['val_loss']\n",
    " \n",
    "epochs = range(len(acc))\n",
    " \n",
    "plt.plot(epochs, acc, 'b', label='Training acc')\n",
    "plt.plot(epochs, val_acc, 'r', label='Validation acc')\n",
    "plt.title('Training and validation accuracy')\n",
    "plt.legend()\n",
    " \n",
    "plt.figure()\n",
    " \n",
    "plt.plot(epochs, loss, 'b', label='Training loss')\n",
    "plt.plot(epochs, val_loss, 'r', label='Validation loss')\n",
    "plt.title('Training and validation loss')\n",
    "plt.legend()\n",
    " \n",
    "plt.show()"
   ]
  },
  {
   "cell_type": "code",
   "execution_count": 104,
   "metadata": {},
   "outputs": [],
   "source": [
    "# Returns a compiled model identical to the previous one\n",
    "loaded_model = load_model(model_check_point_loc)"
   ]
  },
  {
   "cell_type": "code",
   "execution_count": 119,
   "metadata": {},
   "outputs": [
    {
     "name": "stdout",
     "output_type": "stream",
     "text": [
      "Confusion Matrix\n",
      "[[164  17   3   0   0]\n",
      " [ 16 178  10   0   1]\n",
      " [  5   5 188   2   1]\n",
      " [  0   1   2 203   3]\n",
      " [  0   0   0   1 200]]\n",
      "Classification Report\n",
      "               precision    recall  f1-score   support\n",
      "\n",
      "       non-dr       0.89      0.89      0.89       184\n",
      "    mild-npdr       0.89      0.87      0.88       205\n",
      "moderate-npdr       0.93      0.94      0.93       201\n",
      "  severe-npdr       0.99      0.97      0.98       209\n",
      "          pdr       0.98      1.00      0.99       201\n",
      "\n",
      "  avg / total       0.93      0.93      0.93      1000\n",
      "\n"
     ]
    }
   ],
   "source": [
    "#Confution Matrix and Classification Report\n",
    "#Y_pred = loaded_model.predict_generator(validation_generator, validation_generator.samples // validation_generator.batch_size + 1)\n",
    "Y_pred = loaded_model.predict(validation_X)\n",
    "y_pred = np.argmax(Y_pred, axis=1)\n",
    "#y_pred = np.asarray([1 if val >= 0.5 else 0 for val in Y_pred], dtype=numpy.int64)\n",
    "print('Confusion Matrix')\n",
    "print(confusion_matrix(validation_y, y_pred))\n",
    "print('Classification Report')\n",
    "target_names = ['non-dr', 'mild-npdr', 'moderate-npdr', 'severe-npdr', 'pdr']\n",
    "print(classification_report(validation_y, y_pred, target_names=target_names))"
   ]
  },
  {
   "cell_type": "code",
   "execution_count": 120,
   "metadata": {},
   "outputs": [
    {
     "data": {
      "text/plain": [
       "array([3, 0, 4, 2, 3, 4, 3, 1, 3, 1, 1, 0, 4, 4, 4, 2, 3, 4, 1, 4, 0, 4,\n",
       "       4, 2, 0, 2, 0, 1, 0, 4, 2, 2, 1, 4, 0, 0, 0, 1, 0, 4, 4, 1, 3, 0,\n",
       "       3, 0, 3, 0, 2, 1, 0, 1, 4, 0, 2, 2, 3, 1, 1, 2, 4, 4, 4, 1, 3, 2,\n",
       "       3, 0, 3, 4, 1, 3, 3, 3, 1, 0, 1, 4, 1, 0, 0, 1, 1, 2, 0, 2, 2, 1,\n",
       "       3, 2, 4, 4, 2, 4, 2, 3, 4, 1, 3, 3, 0, 4, 1, 3, 3, 2, 2, 0, 1, 3,\n",
       "       3, 4, 4, 0, 2, 2, 4, 2, 2, 4, 3, 0, 1, 1, 0, 0, 4, 2, 2, 1, 4, 1,\n",
       "       0, 4, 3, 0, 3, 2, 4, 2, 1, 3, 1, 3, 2, 1, 4, 2, 4, 2, 4, 3, 2, 4,\n",
       "       4, 2, 3, 0, 1, 3, 3, 1, 3, 4, 2, 0, 0, 2, 4, 0, 4, 1, 3, 2, 1, 1,\n",
       "       3, 4, 2, 3, 4, 2, 2, 3, 3, 3, 0, 1, 1, 2, 3, 4, 4, 1, 2, 2, 0, 0,\n",
       "       3, 2, 2, 4, 2, 0, 3, 4, 2, 2, 0, 1, 4, 1, 3, 1, 1, 1, 1, 4, 2, 2,\n",
       "       4, 3, 2, 0, 1, 4, 4, 1, 2, 2, 4, 3, 3, 4, 2, 4, 4, 2, 0, 3, 1, 4,\n",
       "       1, 1, 4, 0, 1, 1, 0, 4, 2, 2, 3, 2, 2, 4, 3, 3, 0, 4, 4, 3, 4, 0,\n",
       "       1, 2, 3, 2, 1, 0, 1, 4, 4, 3, 2, 1, 4, 1, 0, 4, 0, 0, 3, 2, 2, 4,\n",
       "       3, 1, 3, 0, 4, 2, 4, 2, 3, 4, 0, 1, 2, 4, 4, 3, 1, 4, 1, 1, 3, 1,\n",
       "       1, 2, 1, 1, 4, 3, 0, 4, 3, 2, 3, 1, 4, 3, 3, 2, 2, 4, 1, 1, 4, 4,\n",
       "       3, 4, 1, 3, 2, 2, 0, 0, 4, 3, 1, 3, 1, 1, 0, 0, 3, 0, 1, 4, 1, 2,\n",
       "       0, 1, 0, 3, 1, 0, 2, 4, 4, 1, 4, 0, 3, 2, 2, 0, 3, 2, 4, 0, 2, 2,\n",
       "       4, 4, 0, 2, 4, 0, 4, 2, 2, 4, 0, 4, 4, 4, 1, 0, 2, 2, 2, 2, 4, 1,\n",
       "       4, 3, 4, 2, 3, 3, 4, 3, 3, 0, 3, 2, 3, 1, 3, 3, 2, 0, 4, 0, 3, 3,\n",
       "       3, 2, 1, 0, 3, 2, 3, 2, 3, 1, 3, 3, 1, 0, 2, 0, 1, 4, 0, 3, 1, 1,\n",
       "       2, 3, 4, 2, 2, 1, 1, 1, 2, 3, 0, 3, 3, 3, 2, 3, 4, 1, 4, 4, 3, 3,\n",
       "       3, 3, 0, 2, 4, 4, 0, 2, 0, 1, 3, 1, 2, 2, 2, 0, 0, 2, 3, 1, 4, 4,\n",
       "       3, 0, 1, 2, 2, 3, 1, 2, 2, 4, 3, 4, 0, 2, 4, 4, 4, 0, 1, 2, 4, 4,\n",
       "       2, 4, 4, 4, 2, 4, 0, 4, 2, 1, 3, 0, 3, 4, 4, 0, 4, 2, 0, 0, 0, 0,\n",
       "       4, 4, 3, 4, 1, 0, 0, 4, 3, 3, 1, 3, 2, 4, 0, 2, 4, 3, 0, 1, 0, 0,\n",
       "       3, 1, 4, 1, 2, 0, 1, 2, 1, 3, 0, 1, 4, 4, 4, 3, 3, 3, 4, 3, 3, 3,\n",
       "       0, 4, 3, 4, 4, 4, 1, 3, 0, 2, 1, 3, 3, 3, 1, 3, 4, 3, 0, 1, 0, 3,\n",
       "       3, 1, 0, 1, 3, 2, 1, 4, 3, 0, 2, 4, 4, 0, 1, 0, 1, 1, 4, 0, 3, 3,\n",
       "       0, 0, 0, 2, 3, 0, 4, 3, 1, 4, 4, 4, 0, 0, 3, 2, 4, 0, 4, 1, 1, 3,\n",
       "       2, 2, 3, 2, 1, 2, 2, 0, 4, 2, 1, 3, 3, 4, 0, 3, 1, 1, 1, 1, 3, 2,\n",
       "       0, 0, 1, 4, 0, 0, 2, 1, 2, 3, 2, 2, 1, 1, 4, 1, 1, 4, 0, 4, 2, 1,\n",
       "       3, 2, 2, 4, 1, 1, 4, 4, 0, 3, 3, 3, 3, 0, 3, 0, 2, 4, 0, 1, 0, 3,\n",
       "       2, 2, 2, 2, 0, 0, 0, 1, 4, 3, 0, 1, 2, 3, 1, 3, 0, 2, 3, 0, 2, 0,\n",
       "       1, 3, 1, 1, 1, 1, 1, 0, 4, 3, 1, 2, 1, 1, 0, 0, 3, 2, 2, 1, 0, 2,\n",
       "       2, 0, 1, 1, 2, 3, 0, 3, 2, 4, 2, 3, 2, 3, 4, 3, 1, 2, 2, 2, 0, 4,\n",
       "       0, 2, 0, 4, 4, 1, 0, 1, 3, 0, 2, 3, 3, 1, 4, 1, 2, 2, 2, 0, 0, 0,\n",
       "       1, 1, 3, 1, 1, 3, 4, 0, 1, 1, 2, 3, 1, 1, 0, 2, 2, 0, 2, 0, 3, 0,\n",
       "       2, 0, 1, 2, 4, 1, 0, 2, 1, 2, 2, 2, 3, 3, 3, 4, 0, 1, 4, 1, 2, 1,\n",
       "       4, 1, 0, 3, 2, 2, 2, 2, 0, 4, 0, 1, 2, 4, 2, 2, 4, 4, 1, 2, 2, 4,\n",
       "       3, 0, 3, 0, 4, 4, 3, 4, 2, 2, 3, 2, 3, 3, 1, 4, 1, 1, 3, 1, 1, 1,\n",
       "       0, 4, 3, 4, 2, 2, 1, 0, 0, 2, 4, 4, 2, 2, 0, 4, 3, 1, 4, 0, 2, 3,\n",
       "       3, 0, 4, 0, 3, 4, 2, 4, 3, 0, 4, 0, 3, 0, 4, 3, 1, 3, 1, 2, 3, 1,\n",
       "       1, 2, 0, 3, 1, 3, 4, 4, 0, 1, 1, 0, 1, 4, 4, 2, 1, 1, 3, 3, 2, 0,\n",
       "       2, 1, 0, 3, 2, 4, 1, 3, 4, 1, 1, 2, 0, 3, 4, 1, 1, 3, 1, 4, 2, 0,\n",
       "       3, 1, 3, 0, 4, 2, 1, 0, 4, 3, 0, 0, 4, 2, 3, 0, 2, 4, 1, 1, 3, 3,\n",
       "       1, 2, 0, 0, 3, 0, 4, 0, 3, 0], dtype=int64)"
      ]
     },
     "execution_count": 120,
     "metadata": {},
     "output_type": "execute_result"
    }
   ],
   "source": [
    "y_pred"
   ]
  },
  {
   "cell_type": "code",
   "execution_count": 145,
   "metadata": {},
   "outputs": [],
   "source": [
    "X = X_train\n",
    "Y = train_data_labels"
   ]
  },
  {
   "cell_type": "code",
   "execution_count": 146,
   "metadata": {},
   "outputs": [
    {
     "data": {
      "text/plain": [
       "array([0, 0, 0, ..., 4, 4, 4])"
      ]
     },
     "execution_count": 146,
     "metadata": {},
     "output_type": "execute_result"
    }
   ],
   "source": [
    "train_data_labels"
   ]
  },
  {
   "cell_type": "code",
   "execution_count": 152,
   "metadata": {},
   "outputs": [],
   "source": [
    "# define 5-fold cross validation test harness\n",
    "#kfold = StratifiedKFold(n_splits=5, shuffle=True, random_state=seed)\n",
    "kfold = RepeatedStratifiedKFold(n_splits=10, n_repeats=5, random_state=30)\n",
    "cvscores = []\n",
    "trainScores = []\n",
    "f1Score = []\n",
    "num_k_folds = 10\n",
    "fold_counter = 0\n",
    "val_conmats = []\n",
    "val_precisions = []\n",
    "val_recalls = []\n",
    "val_f_scores = []\n",
    "input_dim = 512\n",
    "\n",
    "cross_model = Sequential()\n",
    "cross_model.add(Dense(256, input_dim=512, activation='relu', kernel_initializer=initializers.he_normal(seed=None), kernel_regularizer=regularizers.l2(0.001)))\n",
    "cross_model.add(Dropout(0.5))\n",
    "# new_model.add(Dense(15, activation='relu', kernel_initializer=initializers.he_normal(seed=None), kernel_regularizer=regularizers.l2(0.001)))\n",
    "# new_model.add(Dropout(0.2))\n",
    "cross_model.add(Dense(5, kernel_initializer=initializers.he_normal(seed=None), activation='softmax'))\n",
    "\n",
    "cross_model.compile(optimizer='adam',\n",
    "              loss='categorical_crossentropy',\n",
    "              metrics=['acc'])"
   ]
  },
  {
   "cell_type": "code",
   "execution_count": 154,
   "metadata": {},
   "outputs": [
    {
     "name": "stdout",
     "output_type": "stream",
     "text": [
      "\n",
      "Averaging the 5-fold results:\n",
      "AVG Train Acc : 99.94%\n",
      "AVG Validation Acc : 94.91%\n",
      "Validation precision - mean: 0.950606, stddev: 0.047006\n",
      "Validation recall - mean: 0.949080, stddev: 0.049270\n",
      "Validation f-score - mean: 0.949059, stddev: 0.040877\n",
      "Confusion matrix:\n",
      "[[8.782e+01 1.044e+01 1.700e+00 0.000e+00 4.000e-02]\n",
      " [4.440e+00 9.414e+01 1.300e+00 4.000e-02 8.000e-02]\n",
      " [2.000e+00 2.840e+00 9.388e+01 9.200e-01 3.600e-01]\n",
      " [0.000e+00 0.000e+00 6.000e-02 9.978e+01 1.600e-01]\n",
      " [0.000e+00 8.000e-02 2.800e-01 7.200e-01 9.892e+01]]\n"
     ]
    }
   ],
   "source": [
    "for train, test in kfold.split(X, Y):\n",
    "    # Fit the model\n",
    "    cross_model.fit(X[train], to_categorical(Y[train]), epochs=400, batch_size=batch_size, verbose=0)\n",
    "    \n",
    "    y_train_pred = cross_model.predict(X[train])\n",
    "    y_train_pred = np.argmax(y_train_pred, axis=1)\n",
    "    \n",
    "    y_validation_pred = cross_model.predict(X[test])\n",
    "    y_validation_pred = np.argmax(y_validation_pred, axis=1)\n",
    "    #y_validation_pred = np.argmax(y_validation_pred, axis=1)\n",
    "    \n",
    "    [precision, recall, f_score, _] = precision_recall_fscore_support(Y[test], y_validation_pred)\n",
    "    #print(\"Validation k-fold #%d - precision: %f, recallL: %f, f-score: %f\" % (fold_counter, precision, recall, f_score))\n",
    "    \n",
    "    conmat = confusion_matrix(Y[test], y_validation_pred)\n",
    "    \n",
    "    val_precisions.append(precision)\n",
    "    val_recalls.append(recall)\n",
    "    val_f_scores.append(f_score)\n",
    "    val_conmats.append(conmat)\n",
    "    fold_counter = fold_counter + 1\n",
    "    \n",
    "    trainScores.append(accuracy_score(Y[train], y_train_pred))\n",
    "    cvscores.append(accuracy_score(Y[test], y_validation_pred))\n",
    "    \n",
    "print(\"\\nAveraging the 5-fold results:\")\n",
    "print(\"%s: %.2f%%\" % ('AVG Train Acc ', np.mean(trainScores) * 100))\n",
    "print(\"%s: %.2f%%\" % ('AVG Validation Acc ', np.mean(cvscores) * 100))\n",
    "print(\"Validation precision - mean: %f, stddev: %f\" % (np.mean(val_precisions), np.std(val_precisions)))\n",
    "print(\"Validation recall - mean: %f, stddev: %f\" % (np.mean(val_recalls), np.std(val_recalls)))\n",
    "print(\"Validation f-score - mean: %f, stddev: %f\" % (np.mean(val_f_scores), np.std(val_f_scores)))\n",
    "print(\"Confusion matrix:\")\n",
    "print (sum(val_conmats).astype(float) / fold_counter)"
   ]
  },
  {
   "cell_type": "code",
   "execution_count": 196,
   "metadata": {},
   "outputs": [
    {
     "data": {
      "image/png": "[encoded data removed]",
      "text/plain": [
       "<Figure size 432x288 with 1 Axes>"
      ]
     },
     "metadata": {},
     "output_type": "display_data"
    },
    {
     "data": {
      "text/plain": [
       "<Figure size 432x288 with 0 Axes>"
      ]
     },
     "metadata": {},
     "output_type": "display_data"
    }
   ],
   "source": [
    "sn.reset_orig()\n",
    "\n",
    "acc = trainScores\n",
    "val_acc = cvscores\n",
    " \n",
    "epochs = range(len(acc))\n",
    " \n",
    "plt.plot(epochs, acc, 'b', label='Training acc')\n",
    "plt.plot(epochs, val_acc, 'r', label='Validation acc')\n",
    "plt.title('Training and validation accuracy')\n",
    "plt.legend()\n",
    "plt.figure()\n",
    " \n",
    "plt.show()"
   ]
  },
  {
   "cell_type": "code",
   "execution_count": 200,
   "metadata": {},
   "outputs": [
    {
     "data": {
      "text/plain": [
       "<matplotlib.axes._subplots.AxesSubplot at 0x1733045e4a8>"
      ]
     },
     "execution_count": 200,
     "metadata": {},
     "output_type": "execute_result"
    },
    {
     "data": {
      "image/png": "[encoded data removed]",
      "text/plain": [
       "<Figure size 432x288 with 2 Axes>"
      ]
     },
     "metadata": {},
     "output_type": "display_data"
    }
   ],
   "source": [
    "confusion_matrix_array = (sum(val_conmats).astype(float) / fold_counter)\n",
    "new_confusion_matrix_array = []\n",
    "for conf_sub_array in confusion_matrix_array:\n",
    "    new_confusion_matrix_array.append([int(float(e)) for e in conf_sub_array])\n",
    "        \n",
    "df_cm = pd.DataFrame(new_confusion_matrix_array, range(5), range(5))\n",
    "#plt.figure(figsize = (10,7))\n",
    "sn.set(font_scale=1.4)#for label size\n",
    "sn.heatmap(df_cm, annot=True, annot_kws={\"size\": 12})# font size"
   ]
  },
  {
   "cell_type": "code",
   "execution_count": 171,
   "metadata": {},
   "outputs": [
    {
     "data": {
      "text/plain": [
       "[[87.82, 10.44, 1.7, 0.0, 0.04],\n",
       " [4.44, 94.14, 1.3, 0.04, 0.08],\n",
       " [2.0, 2.84, 93.88, 0.92, 0.36],\n",
       " [0.0, 0.0, 0.06, 99.78, 0.16],\n",
       " [0.0, 0.08, 0.28, 0.72, 98.92]]"
      ]
     },
     "execution_count": 171,
     "metadata": {},
     "output_type": "execute_result"
    }
   ],
   "source": [
    "new_confusion_matrix_array"
   ]
  },
  {
   "cell_type": "code",
   "execution_count": 158,
   "metadata": {},
   "outputs": [],
   "source": [
    "# Save the model\n",
    "cross_model.save('D:/retinal_data_set_visioncare/models/resnet50/resnet_max_acc_model.h5')"
   ]
  },
  {
   "cell_type": "code",
   "execution_count": 202,
   "metadata": {},
   "outputs": [
    {
     "name": "stdout",
     "output_type": "stream",
     "text": [
      "Found 142 images belonging to 5 classes.\n"
     ]
    }
   ],
   "source": [
    "test_dir = \"D:/retinal_data_set_visioncare/TrainValidationData/test\"\n",
    "\n",
    "test_datagen = ImageDataGenerator(preprocessing_function=preprocess_input)\n",
    "\n",
    "test_generator = test_datagen.flow_from_directory(\n",
    "        test_dir,\n",
    "        target_size=(image_width, image_height),\n",
    "        batch_size=batch_size,\n",
    "        class_mode='categorical',\n",
    "        shuffle=False)\n",
    "\n",
    "nb_test_samples = 142 \n",
    "test_labels = test_generator.classes\n",
    "bottleneck_features_test = model.predict_generator(test_generator, nb_test_samples // batch_size + 1)\n",
    "\n",
    "X_test = scaler.transform(bottleneck_features_test)"
   ]
  },
  {
   "cell_type": "code",
   "execution_count": 180,
   "metadata": {},
   "outputs": [
    {
     "name": "stdout",
     "output_type": "stream",
     "text": [
      "Confusion Matrix for testset\n",
      "[[64 12  0  0  0]\n",
      " [ 4 15  0  0  0]\n",
      " [ 0  5 18  0  0]\n",
      " [ 0  0  0  9  0]\n",
      " [ 0  0  0  1 14]]\n",
      "Classification Report\n",
      "               precision    recall  f1-score   support\n",
      "\n",
      "       non-dr       0.94      0.84      0.89        76\n",
      "    mild-npdr       0.47      0.79      0.59        19\n",
      "moderate-npdr       1.00      0.78      0.88        23\n",
      "  severe-npdr       0.90      1.00      0.95         9\n",
      "          pdr       1.00      0.93      0.97        15\n",
      "\n",
      "  avg / total       0.89      0.85      0.86       142\n",
      "\n"
     ]
    }
   ],
   "source": [
    "#Confution Matrix and Classification Report for testset\n",
    "Y_pred_for_test = cross_model.predict(X_test)\n",
    "Y_pred_for_test = np.argmax(Y_pred_for_test, axis=1)\n",
    "print('Confusion Matrix for testset')\n",
    "confusion_matrix_for_testset = confusion_matrix(test_labels, Y_pred_for_test)\n",
    "print(confusion_matrix(test_labels, Y_pred_for_test))\n",
    "print('Classification Report')\n",
    "target_names = ['non-dr', 'mild-npdr', 'moderate-npdr', 'severe-npdr', 'pdr']\n",
    "print(classification_report(test_labels, Y_pred_for_test, target_names=target_names))"
   ]
  },
  {
   "cell_type": "code",
   "execution_count": 201,
   "metadata": {},
   "outputs": [
    {
     "data": {
      "text/plain": [
       "<matplotlib.axes._subplots.AxesSubplot at 0x173193c6e80>"
      ]
     },
     "execution_count": 201,
     "metadata": {},
     "output_type": "execute_result"
    },
    {
     "data": {
      "image/png": "[encoded data removed]",
      "text/plain": [
       "<Figure size 432x288 with 2 Axes>"
      ]
     },
     "metadata": {},
     "output_type": "display_data"
    }
   ],
   "source": [
    "df_cm_test = pd.DataFrame(confusion_matrix_for_testset, range(5), range(5))\n",
    "#plt.figure(figsize = (10,7))\n",
    "sn.set(font_scale=1.4)#for label size\n",
    "sn.heatmap(df_cm_test, annot=True, annot_kws={\"size\": 12})# font size"
   ]
  },
  {
   "cell_type": "code",
   "execution_count": 182,
   "metadata": {},
   "outputs": [],
   "source": [
    "# generate roc curve\n",
    "n_classes = 5\n",
    "\n",
    "# Plot linewidth.\n",
    "lw = 2\n",
    "\n",
    "loaded_cross_model = load_model('D:/retinal_data_set_visioncare/models/resnet50/resnet_max_acc_model.h5')\n",
    "\n",
    "#convert original class labels to the one-hot-encoding\n",
    "y_test = np_utils.to_categorical(test_generator.classes, 5)\n",
    "\n",
    "Y_test_pred = loaded_cross_model.predict(X_test)\n",
    "Y_test_predicted = np.argmax(Y_test_pred, axis=1)\n",
    "\n",
    "# Compute ROC curve and ROC area for each class\n",
    "fpr = dict()\n",
    "tpr = dict()\n",
    "roc_auc = dict()\n",
    "for i in range(n_classes):\n",
    "    fpr[i], tpr[i], _ = roc_curve(y_test[:, i], Y_test_pred[:, i])\n",
    "    roc_auc[i] = auc(fpr[i], tpr[i])"
   ]
  },
  {
   "cell_type": "code",
   "execution_count": 183,
   "metadata": {},
   "outputs": [],
   "source": [
    "# Compute micro-average ROC curve and ROC area\n",
    "fpr[\"micro\"], tpr[\"micro\"], _ = roc_curve(y_test.ravel(), Y_test_pred.ravel())\n",
    "roc_auc[\"micro\"] = auc(fpr[\"micro\"], tpr[\"micro\"])"
   ]
  },
  {
   "cell_type": "code",
   "execution_count": 186,
   "metadata": {},
   "outputs": [],
   "source": [
    "# Compute macro-average ROC curve and ROC area\n",
    "\n",
    "# First aggregate all false positive rates\n",
    "all_fpr = np.unique(np.concatenate([fpr[i] for i in range(n_classes)]))\n",
    "\n",
    "# Then interpolate all ROC curves at this points\n",
    "mean_tpr = np.zeros_like(all_fpr)\n",
    "for i in range(n_classes):\n",
    "    mean_tpr += interp(all_fpr, fpr[i], tpr[i])\n",
    "\n",
    "# Finally average it and compute AUC\n",
    "mean_tpr /= n_classes\n",
    "\n",
    "fpr[\"macro\"] = all_fpr\n",
    "tpr[\"macro\"] = mean_tpr\n",
    "roc_auc[\"macro\"] = auc(fpr[\"macro\"], tpr[\"macro\"])"
   ]
  },
  {
   "cell_type": "code",
   "execution_count": 197,
   "metadata": {},
   "outputs": [
    {
     "data": {
      "image/png": "[encoded data removed]",
      "text/plain": [
       "<Figure size 432x288 with 1 Axes>"
      ]
     },
     "metadata": {},
     "output_type": "display_data"
    }
   ],
   "source": [
    "# Plot all ROC curves\n",
    "plt.figure(1)\n",
    "plt.plot(fpr[\"micro\"], tpr[\"micro\"],\n",
    "         label='micro-average ROC curve (area = {0:0.2f})'\n",
    "               ''.format(roc_auc[\"micro\"]),\n",
    "         color='deeppink', linestyle=':', linewidth=4)\n",
    "\n",
    "plt.plot(fpr[\"macro\"], tpr[\"macro\"],\n",
    "         label='macro-average ROC curve (area = {0:0.2f})'\n",
    "               ''.format(roc_auc[\"macro\"]),\n",
    "         color='navy', linestyle=':', linewidth=4)\n",
    "\n",
    "colors = cycle(['aqua', 'darkorange', 'cornflowerblue', 'green', 'red'])\n",
    "for i, color in zip(range(n_classes), colors):\n",
    "    plt.plot(fpr[i], tpr[i], color=color, lw=lw,\n",
    "             label='ROC curve of class {0} (area = {1:0.2f})'\n",
    "             ''.format(i, roc_auc[i]))\n",
    "\n",
    "plt.plot([0, 1], [0, 1], 'k--', lw=lw)\n",
    "plt.xlim([0.0, 1.0])\n",
    "plt.ylim([0.0, 1.05])\n",
    "plt.xlabel('False Positive Rate')\n",
    "plt.ylabel('True Positive Rate')\n",
    "plt.title('Receiver operating characteristic to multi-class')\n",
    "plt.legend(loc=\"lower right\")\n",
    "plt.show()"
   ]
  },
  {
   "cell_type": "code",
   "execution_count": 199,
   "metadata": {},
   "outputs": [
    {
     "data": {
      "image/png": "[encoded data removed]",
      "text/plain": [
       "<Figure size 432x288 with 1 Axes>"
      ]
     },
     "metadata": {},
     "output_type": "display_data"
    }
   ],
   "source": [
    "# Zoom in view of the upper left corner.\n",
    "plt.figure(2)\n",
    "plt.xlim(0, 0.2)\n",
    "plt.ylim(0.8, 1)\n",
    "plt.plot(fpr[\"micro\"], tpr[\"micro\"],\n",
    "         label='micro-average ROC curve (area = {0:0.2f})'\n",
    "               ''.format(roc_auc[\"micro\"]),\n",
    "         color='deeppink', linestyle=':', linewidth=4)\n",
    "\n",
    "plt.plot(fpr[\"macro\"], tpr[\"macro\"],\n",
    "         label='macro-average ROC curve (area = {0:0.2f})'\n",
    "               ''.format(roc_auc[\"macro\"]),\n",
    "         color='navy', linestyle=':', linewidth=4)\n",
    "\n",
    "colors = cycle(['aqua', 'darkorange', 'cornflowerblue', 'green', 'red'])\n",
    "for i, color in zip(range(n_classes), colors):\n",
    "    plt.plot(fpr[i], tpr[i], color=color, lw=lw,\n",
    "             label='ROC curve of class {0} (area = {1:0.2f})'\n",
    "             ''.format(i, roc_auc[i]))\n",
    "\n",
    "plt.plot([0, 1], [0, 1], 'k--', lw=lw)\n",
    "plt.xlabel('False Positive Rate')\n",
    "plt.ylabel('True Positive Rate')\n",
    "plt.title('Extension of Receiver operating characteristic to multi-class')\n",
    "plt.legend(loc=\"lower right\")\n",
    "plt.show()"
   ]
  },
  {
   "cell_type": "code",
   "execution_count": null,
   "metadata": {},
   "outputs": [],
   "source": []
  }
 ],
 "metadata": {
  "kernelspec": {
   "display_name": "Python 3",
   "language": "python",
   "name": "python3"
  },
  "language_info": {
   "codemirror_mode": {
    "name": "ipython",
    "version": 3
   },
   "file_extension": ".py",
   "mimetype": "text/x-python",
   "name": "python",
   "nbconvert_exporter": "python",
   "pygments_lexer": "ipython3",
   "version": "3.6.2"
  }
 },
 "nbformat": 4,
 "nbformat_minor": 2
}
