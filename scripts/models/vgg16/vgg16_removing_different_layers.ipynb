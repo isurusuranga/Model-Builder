{
 "cells": [
  {
   "cell_type": "code",
   "execution_count": 1,
   "metadata": {},
   "outputs": [
    {
     "name": "stderr",
     "output_type": "stream",
     "text": [
      "Using TensorFlow backend.\n"
     ]
    }
   ],
   "source": [
    "from keras import applications\n",
    "from keras import models\n",
    "from keras import layers\n",
    "from keras import optimizers\n",
    "from keras.preprocessing.image import ImageDataGenerator\n",
    "from keras.models import Sequential\n",
    "from keras.layers import Dropout, Flatten, Dense, Input, Activation, GlobalAveragePooling2D, GlobalMaxPooling2D, MaxPooling2D\n",
    "from keras.layers.normalization import BatchNormalization\n",
    "from keras import regularizers\n",
    "import matplotlib.pyplot as plt\n",
    "from keras.models import load_model\n",
    "from keras.utils import layer_utils, np_utils\n",
    "from keras.callbacks import ModelCheckpoint\n",
    "from keras import initializers\n",
    "import numpy as np\n",
    "from sklearn.metrics import classification_report, confusion_matrix\n",
    "from sklearn.datasets import make_classification\n",
    "from sklearn.preprocessing import label_binarize\n",
    "from scipy import interp\n",
    "from itertools import cycle\n",
    "from sklearn.metrics import roc_curve, auc\n",
    "from keras.models import Model\n",
    "from keras.applications.vgg16 import preprocess_input\n",
    "from keras.preprocessing import image\n",
    "from keras import backend as K\n",
    "from keras.callbacks import LearningRateScheduler\n",
    "import math"
   ]
  },
  {
   "cell_type": "code",
   "execution_count": 2,
   "metadata": {},
   "outputs": [],
   "source": [
    "# train_dir = \"C:/Users/hp/Desktop/SL_DR_Dataset/Disease_Grading/Original_Images/random_train_test/classified_train_destination_600\"\n",
    "# validation_dir = \"C:/Users/hp/Desktop/SL_DR_Dataset/Disease_Grading/Original_Images/random_train_test/validation\"\n",
    "train_dir = \"D:/retinal_data_set_visioncare/TrainValidationData/augmented_train_data_224\"\n",
    "validation_dir = \"D:/retinal_data_set_visioncare/TrainValidationData/validation\"\n",
    "test_dir = \"D:/retinal_data_set_visioncare/newTrainValidationTestData/new_test\"\n",
    "\n",
    "image_width = 224\n",
    "image_height = 224\n",
    "batchsize = 16\n",
    "\n",
    "vgg_16_model = applications.VGG16(weights='imagenet', include_top=False, input_shape=(image_width, image_height, 3))"
   ]
  },
  {
   "cell_type": "code",
   "execution_count": 3,
   "metadata": {},
   "outputs": [
    {
     "name": "stdout",
     "output_type": "stream",
     "text": [
      "<keras.engine.topology.InputLayer object at 0x000001B4F684EF98> False\n",
      "<keras.layers.convolutional.Conv2D object at 0x000001B4F688B320> False\n",
      "<keras.layers.convolutional.Conv2D object at 0x000001B4F688B128> False\n",
      "<keras.layers.pooling.MaxPooling2D object at 0x000001B4F688BE10> False\n",
      "<keras.layers.convolutional.Conv2D object at 0x000001B4F68B9B70> False\n",
      "<keras.layers.convolutional.Conv2D object at 0x000001B4F68CEEB8> False\n",
      "<keras.layers.pooling.MaxPooling2D object at 0x000001B4F68E2748> False\n",
      "<keras.layers.convolutional.Conv2D object at 0x000001B4F690C400> False\n",
      "<keras.layers.convolutional.Conv2D object at 0x000001B4F690CDD8> False\n",
      "<keras.layers.convolutional.Conv2D object at 0x000001B4F6937CC0> False\n",
      "<keras.layers.pooling.MaxPooling2D object at 0x000001B4F694BA20> False\n",
      "<keras.layers.convolutional.Conv2D object at 0x000001B4F69714A8> False\n",
      "<keras.layers.convolutional.Conv2D object at 0x000001B4F6971E80> False\n",
      "<keras.layers.convolutional.Conv2D object at 0x000001B4F699CD68> False\n",
      "<keras.layers.pooling.MaxPooling2D object at 0x000001B4F69B2AC8> False\n",
      "<keras.layers.convolutional.Conv2D object at 0x000001B4F69D6550> False\n",
      "<keras.layers.convolutional.Conv2D object at 0x000001B4F69D6F28> False\n",
      "<keras.layers.convolutional.Conv2D object at 0x000001B4F6A00E10> False\n",
      "<keras.layers.pooling.MaxPooling2D object at 0x000001B4F6904B70> False\n"
     ]
    }
   ],
   "source": [
    "# Freeze the layers except the last 2 layers\n",
    "for layer in vgg_16_model.layers[:]:\n",
    "    layer.trainable = False\n",
    "\n",
    "# Check the trainable status of the individual layers\n",
    "for layer in vgg_16_model.layers:\n",
    "    print(layer, layer.trainable)"
   ]
  },
  {
   "cell_type": "code",
   "execution_count": 4,
   "metadata": {},
   "outputs": [
    {
     "name": "stdout",
     "output_type": "stream",
     "text": [
      "_________________________________________________________________\n",
      "Layer (type)                 Output Shape              Param #   \n",
      "=================================================================\n",
      "input_1 (InputLayer)         (None, 224, 224, 3)       0         \n",
      "_________________________________________________________________\n",
      "block1_conv1 (Conv2D)        (None, 224, 224, 64)      1792      \n",
      "_________________________________________________________________\n",
      "block1_conv2 (Conv2D)        (None, 224, 224, 64)      36928     \n",
      "_________________________________________________________________\n",
      "block1_pool (MaxPooling2D)   (None, 112, 112, 64)      0         \n",
      "_________________________________________________________________\n",
      "block2_conv1 (Conv2D)        (None, 112, 112, 128)     73856     \n",
      "_________________________________________________________________\n",
      "block2_conv2 (Conv2D)        (None, 112, 112, 128)     147584    \n",
      "_________________________________________________________________\n",
      "block2_pool (MaxPooling2D)   (None, 56, 56, 128)       0         \n",
      "_________________________________________________________________\n",
      "block3_conv1 (Conv2D)        (None, 56, 56, 256)       295168    \n",
      "_________________________________________________________________\n",
      "block3_conv2 (Conv2D)        (None, 56, 56, 256)       590080    \n",
      "_________________________________________________________________\n",
      "block3_conv3 (Conv2D)        (None, 56, 56, 256)       590080    \n",
      "_________________________________________________________________\n",
      "block3_pool (MaxPooling2D)   (None, 28, 28, 256)       0         \n",
      "_________________________________________________________________\n",
      "block4_conv1 (Conv2D)        (None, 28, 28, 512)       1180160   \n",
      "_________________________________________________________________\n",
      "block4_conv2 (Conv2D)        (None, 28, 28, 512)       2359808   \n",
      "_________________________________________________________________\n",
      "block4_conv3 (Conv2D)        (None, 28, 28, 512)       2359808   \n",
      "_________________________________________________________________\n",
      "block4_pool (MaxPooling2D)   (None, 14, 14, 512)       0         \n",
      "_________________________________________________________________\n",
      "block5_conv1 (Conv2D)        (None, 14, 14, 512)       2359808   \n",
      "_________________________________________________________________\n",
      "block5_conv2 (Conv2D)        (None, 14, 14, 512)       2359808   \n",
      "_________________________________________________________________\n",
      "block5_conv3 (Conv2D)        (None, 14, 14, 512)       2359808   \n",
      "_________________________________________________________________\n",
      "block5_pool (MaxPooling2D)   (None, 7, 7, 512)         0         \n",
      "=================================================================\n",
      "Total params: 14,714,688\n",
      "Trainable params: 0\n",
      "Non-trainable params: 14,714,688\n",
      "_________________________________________________________________\n"
     ]
    }
   ],
   "source": [
    "vgg_16_model.summary()"
   ]
  },
  {
   "cell_type": "code",
   "execution_count": 5,
   "metadata": {},
   "outputs": [],
   "source": [
    "def dataGen():\n",
    "    train_datagen = ImageDataGenerator(rescale=1./255)\n",
    "    validation_datagen = ImageDataGenerator(rescale=1./255)\n",
    "    \n",
    "    train_generator = train_datagen.flow_from_directory(\n",
    "        train_dir,\n",
    "        target_size=(image_width, image_height),\n",
    "        batch_size=batchsize,\n",
    "        shuffle=True,\n",
    "        class_mode='categorical')\n",
    "    \n",
    "    validation_generator = validation_datagen.flow_from_directory(\n",
    "            validation_dir,\n",
    "            target_size=(image_width, image_height),\n",
    "            batch_size=batchsize,\n",
    "            class_mode='categorical',\n",
    "            shuffle=False)\n",
    "    \n",
    "    return train_generator, validation_generator"
   ]
  },
  {
   "cell_type": "code",
   "execution_count": 21,
   "metadata": {},
   "outputs": [],
   "source": [
    "# def trainValidationAccuracy(history):\n",
    "#     acc = history.history['acc']\n",
    "#     val_acc = history.history['val_acc']\n",
    "#     loss = history.history['loss']\n",
    "#     val_loss = history.history['val_loss']\n",
    "\n",
    "#     epochs = range(len(acc))\n",
    "\n",
    "#     plt.plot(epochs, acc, 'b', label='Training acc')\n",
    "#     plt.plot(epochs, val_acc, 'r', label='Validation acc')\n",
    "#     plt.title('Training and validation accuracy')\n",
    "#     plt.legend()\n",
    "\n",
    "#     plt.figure()\n",
    "\n",
    "#     plt.plot(epochs, loss, 'b', label='Training loss')\n",
    "#     plt.plot(epochs, val_loss, 'r', label='Validation loss')\n",
    "#     plt.title('Training and validation loss')\n",
    "#     plt.legend()\n",
    "\n",
    "#     plt.show()"
   ]
  },
  {
   "cell_type": "code",
   "execution_count": 22,
   "metadata": {},
   "outputs": [],
   "source": [
    "def step_decay(epoch):\n",
    "    lr_0 = 0.0008\n",
    "    decay_rate = 10\n",
    "    lrate = lr_0 * 1/(1+decay_rate * epoch)\n",
    "    return lrate"
   ]
  },
  {
   "cell_type": "code",
   "execution_count": 23,
   "metadata": {},
   "outputs": [],
   "source": [
    "# def modelBuilder(train_generator, validation_generator, intermediate_layer_model, path):   \n",
    "#     # Compile the model\n",
    "#     #optimizer=optimizers.adam(lr=0.0008)\n",
    "#     intermediate_layer_model.compile(loss='categorical_crossentropy',\n",
    "#                   optimizer=optimizers.adam(lr=1e-3, decay=0.0),\n",
    "#                   metrics=['acc'])\n",
    "#     model_check_point_loc = 'D:/retinal_data_set_visioncare/models/vgg16/' + path\n",
    "#     model_checkpoint = ModelCheckpoint(model_check_point_loc, monitor='val_acc', verbose=1, save_best_only=True, mode='max')\n",
    "#     # learning schedule callback\n",
    "#     #lrate = LearningRateScheduler(step_decay)\n",
    "#     # Train the model\n",
    "#     history = intermediate_layer_model.fit_generator(\n",
    "#           train_generator,\n",
    "#           steps_per_epoch=train_generator.samples//train_generator.batch_size,\n",
    "#           epochs=0,\n",
    "#           callbacks=[model_checkpoint],\n",
    "#           validation_data=validation_generator,\n",
    "#           validation_steps=validation_generator.samples//validation_generator.batch_size,\n",
    "#           verbose=1)\n",
    "    \n",
    "#     # Save the model\n",
    "#     #intermediate_layer_model.save('D:/retinal_samples/basian_opt_testing/models/vgg16/' + path)\n",
    "#     trainValidationAccuracy(history)"
   ]
  },
  {
   "cell_type": "code",
   "execution_count": 6,
   "metadata": {},
   "outputs": [
    {
     "name": "stdout",
     "output_type": "stream",
     "text": [
      "Found 5000 images belonging to 5 classes.\n",
      "Found 281 images belonging to 5 classes.\n"
     ]
    }
   ],
   "source": [
    "train_generator, validation_generator = dataGen()"
   ]
  },
  {
   "cell_type": "code",
   "execution_count": 11,
   "metadata": {},
   "outputs": [
    {
     "name": "stdout",
     "output_type": "stream",
     "text": [
      "_________________________________________________________________\n",
      "Layer (type)                 Output Shape              Param #   \n",
      "=================================================================\n",
      "input_1 (InputLayer)         (None, 224, 224, 3)       0         \n",
      "_________________________________________________________________\n",
      "block1_conv1 (Conv2D)        (None, 224, 224, 64)      1792      \n",
      "_________________________________________________________________\n",
      "block1_conv2 (Conv2D)        (None, 224, 224, 64)      36928     \n",
      "_________________________________________________________________\n",
      "block1_pool (MaxPooling2D)   (None, 112, 112, 64)      0         \n",
      "_________________________________________________________________\n",
      "block2_conv1 (Conv2D)        (None, 112, 112, 128)     73856     \n",
      "_________________________________________________________________\n",
      "block2_conv2 (Conv2D)        (None, 112, 112, 128)     147584    \n",
      "_________________________________________________________________\n",
      "block2_pool (MaxPooling2D)   (None, 56, 56, 128)       0         \n",
      "_________________________________________________________________\n",
      "block3_conv1 (Conv2D)        (None, 56, 56, 256)       295168    \n",
      "_________________________________________________________________\n",
      "block3_conv2 (Conv2D)        (None, 56, 56, 256)       590080    \n",
      "_________________________________________________________________\n",
      "block3_conv3 (Conv2D)        (None, 56, 56, 256)       590080    \n",
      "_________________________________________________________________\n",
      "block3_pool (MaxPooling2D)   (None, 28, 28, 256)       0         \n",
      "_________________________________________________________________\n",
      "block4_conv1 (Conv2D)        (None, 28, 28, 512)       1180160   \n",
      "_________________________________________________________________\n",
      "block4_conv2 (Conv2D)        (None, 28, 28, 512)       2359808   \n",
      "_________________________________________________________________\n",
      "block4_conv3 (Conv2D)        (None, 28, 28, 512)       2359808   \n",
      "_________________________________________________________________\n",
      "block4_pool (MaxPooling2D)   (None, 14, 14, 512)       0         \n",
      "_________________________________________________________________\n",
      "block5_conv1 (Conv2D)        (None, 14, 14, 512)       2359808   \n",
      "_________________________________________________________________\n",
      "block5_conv2 (Conv2D)        (None, 14, 14, 512)       2359808   \n",
      "_________________________________________________________________\n",
      "block5_conv3 (Conv2D)        (None, 14, 14, 512)       2359808   \n",
      "_________________________________________________________________\n",
      "block5_pool (MaxPooling2D)   (None, 7, 7, 512)         0         \n",
      "_________________________________________________________________\n",
      "global_average_pooling2d_2 ( (None, 512)               0         \n",
      "_________________________________________________________________\n",
      "dense_3 (Dense)              (None, 256)               131072    \n",
      "_________________________________________________________________\n",
      "batch_normalization_3 (Batch (None, 256)               1024      \n",
      "_________________________________________________________________\n",
      "activation_3 (Activation)    (None, 256)               0         \n",
      "_________________________________________________________________\n",
      "fc1_dropout (Dropout)        (None, 256)               0         \n",
      "_________________________________________________________________\n",
      "dense_4 (Dense)              (None, 5)                 1280      \n",
      "_________________________________________________________________\n",
      "batch_normalization_4 (Batch (None, 5)                 20        \n",
      "_________________________________________________________________\n",
      "activation_4 (Activation)    (None, 5)                 0         \n",
      "=================================================================\n",
      "Total params: 14,848,084\n",
      "Trainable params: 132,874\n",
      "Non-trainable params: 14,715,210\n",
      "_________________________________________________________________\n"
     ]
    }
   ],
   "source": [
    "# flatten = Flatten()\n",
    "#x = Dropout(0.1, name='maxpool_dropout')(vgg_16_model_dup2.output)\n",
    "#out_dup2 = new_classifier_layer(flatten(x))\n",
    "#out_dup2 = new_classifier_layer(flatten(vgg_16_model_dup2.output))\n",
    "#out = new_classifier_layer(flatten(vgg_16_model_dup2.output))\n",
    "\n",
    "#x = vgg_16_model_dup2.get_layer(index = -1).output\n",
    "x = vgg_16_model.get_layer(index = -1).output\n",
    "x = GlobalAveragePooling2D()(x)\n",
    "#x = Dropout(0.5, name='flatten_dropout')(x)\n",
    "#x = BatchNormalization()(x)\n",
    "#x = flatten(vgg_16_model_dup2.get_layer(index = -1).output)\n",
    "#x = BatchNormalization()(x)\n",
    "#x = Dropout(0.5, name='flatten_dropout')(x)\n",
    "##################Additional Layer######################\n",
    "x = Dense(256, use_bias=False, kernel_initializer=initializers.he_normal(seed=None), kernel_regularizer=regularizers.l2(0.001))(x)\n",
    "x = BatchNormalization()(x)\n",
    "x = Activation('relu')(x)\n",
    "x = Dropout(0.5, name='fc1_dropout')(x)\n",
    "################End Additional Layer####################\n",
    "#x = Dense(5, use_bias=False, kernel_initializer='normal', kernel_regularizer=regularizers.l2(0.01))(x)\n",
    "x = Dense(5, use_bias=False, kernel_initializer=initializers.he_normal(seed=None))(x)\n",
    "#x = Dense(5, use_bias=False)(x)\n",
    "x = BatchNormalization()(x)\n",
    "predictions = Activation('softmax')(x)\n",
    "#out_dup2 = new_classifier_layer(x)\n",
    "\n",
    "model = Model(vgg_16_model.input, predictions)\n",
    "model.summary()"
   ]
  },
  {
   "cell_type": "code",
   "execution_count": 26,
   "metadata": {},
   "outputs": [],
   "source": [
    "#modelBuilder(train_generator, validation_generator, model, 'vgg16_dr_rmFCdrp.h5')"
   ]
  },
  {
   "cell_type": "code",
   "execution_count": 12,
   "metadata": {},
   "outputs": [],
   "source": [
    "model.compile(loss='categorical_crossentropy',\n",
    "              optimizer=optimizers.adam(lr=1e-3, decay=0.0),\n",
    "              metrics=['acc'])\n",
    "model_check_point_loc = 'D:/retinal_data_set_visioncare/models/vgg16/vgg16_dr_rm.h5'\n",
    "model_checkpoint = ModelCheckpoint(model_check_point_loc, monitor='val_acc', verbose=1, save_best_only=True, mode='max')\n",
    "# learning schedule callback\n",
    "#lrate = LearningRateScheduler(step_decay)\n",
    "# Train the model\n",
    "history = model.fit_generator(\n",
    "      train_generator,\n",
    "      steps_per_epoch=train_generator.samples//train_generator.batch_size,\n",
    "      epochs=0,\n",
    "      callbacks=[model_checkpoint],\n",
    "      validation_data=validation_generator,\n",
    "      validation_steps=validation_generator.samples//validation_generator.batch_size,\n",
    "      verbose=1)"
   ]
  },
  {
   "cell_type": "code",
   "execution_count": null,
   "metadata": {},
   "outputs": [],
   "source": [
    "acc = history.history['acc']\n",
    "val_acc = history.history['val_acc']\n",
    "loss = history.history['loss']\n",
    "val_loss = history.history['val_loss']\n",
    "\n",
    "epochs = range(len(acc))\n",
    "\n",
    "plt.plot(epochs, acc, 'b', label='Training acc')\n",
    "plt.plot(epochs, val_acc, 'r', label='Validation acc')\n",
    "plt.title('Training and validation accuracy')\n",
    "plt.legend()\n",
    "\n",
    "plt.figure()\n",
    "\n",
    "plt.plot(epochs, loss, 'b', label='Training loss')\n",
    "plt.plot(epochs, val_loss, 'r', label='Validation loss')\n",
    "plt.title('Training and validation loss')\n",
    "plt.legend()\n",
    "\n",
    "plt.show()"
   ]
  }
 ],
 "metadata": {
  "kernelspec": {
   "display_name": "Python 3",
   "language": "python",
   "name": "python3"
  },
  "language_info": {
   "codemirror_mode": {
    "name": "ipython",
    "version": 3
   },
   "file_extension": ".py",
   "mimetype": "text/x-python",
   "name": "python",
   "nbconvert_exporter": "python",
   "pygments_lexer": "ipython3",
   "version": "3.6.2"
  }
 },
 "nbformat": 4,
 "nbformat_minor": 2
}
