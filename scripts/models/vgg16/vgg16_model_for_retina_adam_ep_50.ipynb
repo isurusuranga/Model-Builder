{
 "cells": [
  {
   "cell_type": "code",
   "execution_count": 14,
   "metadata": {},
   "outputs": [],
   "source": [
    "from keras import applications\n",
    "from keras import models\n",
    "from keras import layers\n",
    "from keras import optimizers\n",
    "from keras.preprocessing.image import ImageDataGenerator\n",
    "from keras.models import Sequential\n",
    "from keras.layers import Dropout, Flatten, Dense\n",
    "from keras.layers.normalization import BatchNormalization\n",
    "from keras import regularizers\n",
    "from keras.callbacks import ModelCheckpoint\n",
    "import matplotlib.pyplot as plt\n",
    "import numpy as np\n",
    "from sklearn.metrics import classification_report, confusion_matrix"
   ]
  },
  {
   "cell_type": "code",
   "execution_count": 2,
   "metadata": {},
   "outputs": [],
   "source": [
    "image_width = 224\n",
    "image_height = 224\n",
    "\n",
    "vgg_conv = applications.VGG16(weights='imagenet', include_top=False, input_shape=(image_width, image_height, 3))"
   ]
  },
  {
   "cell_type": "code",
   "execution_count": 3,
   "metadata": {},
   "outputs": [
    {
     "name": "stdout",
     "output_type": "stream",
     "text": [
      "<keras.engine.topology.InputLayer object at 0x000001D0A0A03B00> False\n",
      "<keras.layers.convolutional.Conv2D object at 0x000001D0A0A03E80> False\n",
      "<keras.layers.convolutional.Conv2D object at 0x000001D0A0A03C88> False\n",
      "<keras.layers.pooling.MaxPooling2D object at 0x000001D0A0A03E10> False\n",
      "<keras.layers.convolutional.Conv2D object at 0x000001D0A0A44780> False\n",
      "<keras.layers.convolutional.Conv2D object at 0x000001D0A0A61DD8> False\n",
      "<keras.layers.pooling.MaxPooling2D object at 0x000001D0A0A76EB8> False\n",
      "<keras.layers.convolutional.Conv2D object at 0x000001D0A0A8AF60> False\n",
      "<keras.layers.convolutional.Conv2D object at 0x000001D0A0AA22E8> False\n",
      "<keras.layers.convolutional.Conv2D object at 0x000001D0A0AB3978> False\n",
      "<keras.layers.pooling.MaxPooling2D object at 0x000001D0A0ADEF28> False\n",
      "<keras.layers.convolutional.Conv2D object at 0x000001D0A0AF2F60> False\n",
      "<keras.layers.convolutional.Conv2D object at 0x000001D0A0B0A2E8> False\n",
      "<keras.layers.convolutional.Conv2D object at 0x000001D0A0B1DB00> False\n",
      "<keras.layers.pooling.MaxPooling2D object at 0x000001D0A0B44FD0> False\n",
      "<keras.layers.convolutional.Conv2D object at 0x000001D0A0B6F128> False\n",
      "<keras.layers.convolutional.Conv2D object at 0x000001D0A0B6F400> False\n",
      "<keras.layers.convolutional.Conv2D object at 0x000001D0A0B99A90> False\n",
      "<keras.layers.pooling.MaxPooling2D object at 0x000001D0A0BA87F0> False\n"
     ]
    }
   ],
   "source": [
    "# Freeze the layers except the last 2 layers\n",
    "for layer in vgg_conv.layers[:]:\n",
    "    layer.trainable = False\n",
    "\n",
    "# Check the trainable status of the individual layers\n",
    "for layer in vgg_conv.layers:\n",
    "    print(layer, layer.trainable)"
   ]
  },
  {
   "cell_type": "code",
   "execution_count": 4,
   "metadata": {},
   "outputs": [
    {
     "name": "stdout",
     "output_type": "stream",
     "text": [
      "_________________________________________________________________\n",
      "Layer (type)                 Output Shape              Param #   \n",
      "=================================================================\n",
      "vgg16 (Model)                (None, 7, 7, 512)         14714688  \n",
      "_________________________________________________________________\n",
      "flatten_1 (Flatten)          (None, 25088)             0         \n",
      "_________________________________________________________________\n",
      "dense_1 (Dense)              (None, 256)               6422784   \n",
      "_________________________________________________________________\n",
      "batch_normalization_1 (Batch (None, 256)               1024      \n",
      "_________________________________________________________________\n",
      "dropout_1 (Dropout)          (None, 256)               0         \n",
      "_________________________________________________________________\n",
      "dense_2 (Dense)              (None, 5)                 1285      \n",
      "=================================================================\n",
      "Total params: 21,139,781\n",
      "Trainable params: 6,424,581\n",
      "Non-trainable params: 14,715,200\n",
      "_________________________________________________________________\n"
     ]
    }
   ],
   "source": [
    "# Create the model\n",
    "model = models.Sequential()\n",
    " \n",
    "# Add the vgg convolutional base model\n",
    "model.add(vgg_conv)\n",
    " \n",
    "# Add new layers\n",
    "model.add(layers.Flatten())\n",
    "model.add(layers.Dense(256, activation='relu'))\n",
    "model.add(BatchNormalization())\n",
    "model.add(layers.Dropout(0.5))\n",
    "\n",
    "# model.add(layers.Dense(512, activation='relu'))\n",
    "# model.add(BatchNormalization())\n",
    "# model.add(layers.Dropout(0.5))\n",
    "# \n",
    "model.add(layers.Dense(5, activation='softmax', kernel_regularizer=regularizers.l2(0.0001)))\n",
    " \n",
    "# Show a summary of the model. Check the number of trainable parameters\n",
    "model.summary()\n"
   ]
  },
  {
   "cell_type": "code",
   "execution_count": 17,
   "metadata": {},
   "outputs": [
    {
     "name": "stdout",
     "output_type": "stream",
     "text": [
      "Found 8000 images belonging to 5 classes.\n",
      "Found 1000 images belonging to 5 classes.\n",
      "Found 1000 images belonging to 5 classes.\n"
     ]
    }
   ],
   "source": [
    "train_datagen = ImageDataGenerator(rescale=1./255)\n",
    "\n",
    "validation_datagen = ImageDataGenerator(rescale=1./255)\n",
    "\n",
    "test_datagen = ImageDataGenerator(rescale=1./255)\n",
    "\n",
    "# Change the batchsize according to your system RAM\n",
    "train_batchsize = 16\n",
    "val_batchsize = 10\n",
    "#train_dir = \"D:/retinal_data_set_original/_1000_per_class_train/augmented_224/train\"\n",
    "train_dir = \"D:/retinal_data_set_original/original/new_train\"\n",
    "#validation_dir = \"D:/retinal_data_set_original/_1000_per_class_train/augmented_224/validation\"\n",
    "validation_dir = \"D:/retinal_data_set_original/original/new_valid\"\n",
    "test_dir = \"D:/retinal_data_set_original/original/new_test\"\n",
    "\n",
    "train_generator = train_datagen.flow_from_directory(\n",
    "        train_dir,\n",
    "        target_size=(image_width, image_height),\n",
    "        batch_size=train_batchsize,\n",
    "        shuffle=True,\n",
    "        class_mode='categorical')\n",
    "\n",
    "validation_generator = validation_datagen.flow_from_directory(\n",
    "        validation_dir,\n",
    "        target_size=(image_width, image_height),\n",
    "        batch_size=val_batchsize,\n",
    "        class_mode='categorical',\n",
    "        shuffle=False)\n",
    "\n",
    "test_generator = test_datagen.flow_from_directory(\n",
    "        test_dir,\n",
    "        target_size=(image_width, image_height),\n",
    "        batch_size=val_batchsize,\n",
    "        class_mode='categorical',\n",
    "        shuffle=False)"
   ]
  },
  {
   "cell_type": "code",
   "execution_count": 6,
   "metadata": {},
   "outputs": [],
   "source": [
    "# Compile the model\n",
    "model.compile(loss='categorical_crossentropy',\n",
    "              optimizer=optimizers.Adam(lr=1e-3),\n",
    "              metrics=['acc'])"
   ]
  },
  {
   "cell_type": "code",
   "execution_count": null,
   "metadata": {},
   "outputs": [],
   "source": [
    "model_check_point_loc = 'D:/retinal_data_set_visioncare/models/vgg16/vgg16_dr_epochs50.h5'\n",
    "model_checkpoint = ModelCheckpoint(model_check_point_loc, monitor='val_acc', verbose=1, save_best_only=True, mode='max')"
   ]
  },
  {
   "cell_type": "code",
   "execution_count": 7,
   "metadata": {},
   "outputs": [
    {
     "name": "stdout",
     "output_type": "stream",
     "text": [
      "Epoch 1/50\n",
      "500/500 [==============================] - 565s 1s/step - loss: 1.2402 - acc: 0.5012 - val_loss: 0.9415 - val_acc: 0.6090\n",
      "Epoch 2/50\n",
      "500/500 [==============================] - 545s 1s/step - loss: 0.8679 - acc: 0.6430 - val_loss: 0.7826 - val_acc: 0.6950\n",
      "Epoch 3/50\n",
      "500/500 [==============================] - 546s 1s/step - loss: 0.7412 - acc: 0.7066 - val_loss: 0.8746 - val_acc: 0.6140\n",
      "Epoch 4/50\n",
      "500/500 [==============================] - 548s 1s/step - loss: 0.6467 - acc: 0.7480 - val_loss: 0.7158 - val_acc: 0.7030\n",
      "Epoch 5/50\n",
      "500/500 [==============================] - 547s 1s/step - loss: 0.5499 - acc: 0.7861 - val_loss: 0.7614 - val_acc: 0.6960\n",
      "Epoch 6/50\n",
      "500/500 [==============================] - 549s 1s/step - loss: 0.5227 - acc: 0.7969 - val_loss: 0.6013 - val_acc: 0.7770\n",
      "Epoch 7/50\n",
      "500/500 [==============================] - 546s 1s/step - loss: 0.4865 - acc: 0.8141 - val_loss: 0.5829 - val_acc: 0.7660\n",
      "Epoch 8/50\n",
      "500/500 [==============================] - 547s 1s/step - loss: 0.4242 - acc: 0.8372 - val_loss: 0.7831 - val_acc: 0.7040\n",
      "Epoch 9/50\n",
      "500/500 [==============================] - 547s 1s/step - loss: 0.4145 - acc: 0.8440 - val_loss: 0.5595 - val_acc: 0.7850\n",
      "Epoch 10/50\n",
      "500/500 [==============================] - 547s 1s/step - loss: 0.3689 - acc: 0.8620 - val_loss: 0.6563 - val_acc: 0.7580\n",
      "Epoch 11/50\n",
      "500/500 [==============================] - 547s 1s/step - loss: 0.3554 - acc: 0.8694 - val_loss: 0.4697 - val_acc: 0.8340\n",
      "Epoch 12/50\n",
      "500/500 [==============================] - 545s 1s/step - loss: 0.3416 - acc: 0.8741 - val_loss: 0.6076 - val_acc: 0.7800\n",
      "Epoch 13/50\n",
      "500/500 [==============================] - 35014s 70s/step - loss: 0.2840 - acc: 0.8905 - val_loss: 0.7181 - val_acc: 0.7470\n",
      "Epoch 14/50\n",
      "500/500 [==============================] - 546s 1s/step - loss: 0.2783 - acc: 0.9001 - val_loss: 0.4826 - val_acc: 0.8190\n",
      "Epoch 15/50\n",
      "500/500 [==============================] - 547s 1s/step - loss: 0.2637 - acc: 0.9052 - val_loss: 0.5771 - val_acc: 0.7870\n",
      "Epoch 16/50\n",
      "500/500 [==============================] - 549s 1s/step - loss: 0.2640 - acc: 0.9026 - val_loss: 0.5531 - val_acc: 0.8020\n",
      "Epoch 17/50\n",
      "500/500 [==============================] - 550s 1s/step - loss: 0.2479 - acc: 0.9121 - val_loss: 0.4472 - val_acc: 0.8490\n",
      "Epoch 18/50\n",
      "500/500 [==============================] - 550s 1s/step - loss: 0.2259 - acc: 0.9153 - val_loss: 0.4707 - val_acc: 0.8420\n",
      "Epoch 19/50\n",
      "500/500 [==============================] - 551s 1s/step - loss: 0.2292 - acc: 0.9146 - val_loss: 0.3973 - val_acc: 0.8620\n",
      "Epoch 20/50\n",
      "500/500 [==============================] - 551s 1s/step - loss: 0.2125 - acc: 0.9189 - val_loss: 0.4230 - val_acc: 0.8530\n",
      "Epoch 21/50\n",
      "500/500 [==============================] - 551s 1s/step - loss: 0.1954 - acc: 0.9281 - val_loss: 0.6779 - val_acc: 0.7810\n",
      "Epoch 22/50\n",
      "500/500 [==============================] - 551s 1s/step - loss: 0.1989 - acc: 0.9286 - val_loss: 0.4027 - val_acc: 0.8610\n",
      "Epoch 23/50\n",
      "500/500 [==============================] - 550s 1s/step - loss: 0.1980 - acc: 0.9285 - val_loss: 0.8099 - val_acc: 0.7620\n",
      "Epoch 24/50\n",
      "500/500 [==============================] - 550s 1s/step - loss: 0.1718 - acc: 0.9413 - val_loss: 0.5202 - val_acc: 0.8290\n",
      "Epoch 25/50\n",
      "500/500 [==============================] - 550s 1s/step - loss: 0.1735 - acc: 0.9368 - val_loss: 0.7121 - val_acc: 0.7660\n",
      "Epoch 26/50\n",
      "500/500 [==============================] - 550s 1s/step - loss: 0.1661 - acc: 0.9389 - val_loss: 0.3899 - val_acc: 0.8580\n",
      "Epoch 27/50\n",
      "500/500 [==============================] - 550s 1s/step - loss: 0.1778 - acc: 0.9355 - val_loss: 0.6752 - val_acc: 0.7820\n",
      "Epoch 28/50\n",
      "500/500 [==============================] - 549s 1s/step - loss: 0.1536 - acc: 0.9452 - val_loss: 0.5740 - val_acc: 0.8220\n",
      "Epoch 29/50\n",
      "500/500 [==============================] - 549s 1s/step - loss: 0.1561 - acc: 0.9450 - val_loss: 0.7280 - val_acc: 0.7890\n",
      "Epoch 30/50\n",
      "500/500 [==============================] - 548s 1s/step - loss: 0.1756 - acc: 0.9345 - val_loss: 0.4289 - val_acc: 0.8560\n",
      "Epoch 31/50\n",
      "500/500 [==============================] - 551s 1s/step - loss: 0.1473 - acc: 0.9479 - val_loss: 0.4264 - val_acc: 0.8650\n",
      "Epoch 32/50\n",
      "500/500 [==============================] - 549s 1s/step - loss: 0.1375 - acc: 0.9487 - val_loss: 0.4104 - val_acc: 0.8710\n",
      "Epoch 33/50\n",
      "500/500 [==============================] - 549s 1s/step - loss: 0.1331 - acc: 0.9524 - val_loss: 0.6153 - val_acc: 0.8250\n",
      "Epoch 34/50\n",
      "500/500 [==============================] - 549s 1s/step - loss: 0.1280 - acc: 0.9580 - val_loss: 0.3858 - val_acc: 0.8750\n",
      "Epoch 35/50\n",
      "500/500 [==============================] - 549s 1s/step - loss: 0.1167 - acc: 0.9584 - val_loss: 0.4740 - val_acc: 0.8560\n",
      "Epoch 36/50\n",
      "500/500 [==============================] - 549s 1s/step - loss: 0.1420 - acc: 0.9479 - val_loss: 0.4040 - val_acc: 0.8710\n",
      "Epoch 37/50\n",
      "500/500 [==============================] - 550s 1s/step - loss: 0.1250 - acc: 0.9566 - val_loss: 0.5457 - val_acc: 0.8360\n",
      "Epoch 38/50\n",
      "500/500 [==============================] - 551s 1s/step - loss: 0.1358 - acc: 0.9524 - val_loss: 0.8307 - val_acc: 0.7650\n",
      "Epoch 39/50\n",
      "500/500 [==============================] - 552s 1s/step - loss: 0.1108 - acc: 0.9595 - val_loss: 0.4412 - val_acc: 0.8680\n",
      "Epoch 40/50\n",
      "500/500 [==============================] - 553s 1s/step - loss: 0.1377 - acc: 0.9497 - val_loss: 0.4464 - val_acc: 0.8620\n",
      "Epoch 41/50\n",
      "500/500 [==============================] - 553s 1s/step - loss: 0.1194 - acc: 0.9569 - val_loss: 0.4559 - val_acc: 0.8570\n",
      "Epoch 42/50\n",
      "500/500 [==============================] - 552s 1s/step - loss: 0.1134 - acc: 0.9613 - val_loss: 0.4280 - val_acc: 0.8730\n",
      "Epoch 43/50\n",
      "500/500 [==============================] - 549s 1s/step - loss: 0.1127 - acc: 0.9609 - val_loss: 0.4721 - val_acc: 0.8560\n",
      "Epoch 44/50\n",
      "500/500 [==============================] - 26464s 53s/step - loss: 0.1072 - acc: 0.9622 - val_loss: 0.4621 - val_acc: 0.8800\n",
      "Epoch 45/50\n",
      "500/500 [==============================] - 545s 1s/step - loss: 0.1031 - acc: 0.9624 - val_loss: 0.4079 - val_acc: 0.8720\n",
      "Epoch 46/50\n",
      "500/500 [==============================] - 546s 1s/step - loss: 0.1058 - acc: 0.9655 - val_loss: 0.5329 - val_acc: 0.8570\n",
      "Epoch 47/50\n",
      "500/500 [==============================] - 548s 1s/step - loss: 0.1006 - acc: 0.9650 - val_loss: 0.3822 - val_acc: 0.8820\n",
      "Epoch 48/50\n",
      "500/500 [==============================] - 548s 1s/step - loss: 0.1021 - acc: 0.9656 - val_loss: 0.5430 - val_acc: 0.8520\n",
      "Epoch 49/50\n",
      "500/500 [==============================] - 549s 1s/step - loss: 0.0890 - acc: 0.9677 - val_loss: 0.4324 - val_acc: 0.8730\n",
      "Epoch 50/50\n",
      "500/500 [==============================] - 549s 1s/step - loss: 0.1002 - acc: 0.9646 - val_loss: 0.4140 - val_acc: 0.8800\n"
     ]
    }
   ],
   "source": [
    "# Train the model\n",
    "history = model.fit_generator(\n",
    "      train_generator,\n",
    "      steps_per_epoch=train_generator.samples//train_generator.batch_size,\n",
    "      epochs=50,\n",
    "      callbacks=[model_checkpoint],\n",
    "      validation_data=validation_generator,\n",
    "      validation_steps=validation_generator.samples//validation_generator.batch_size,\n",
    "      verbose=1)\n",
    " \n",
    "# Save the model\n",
    "#model.save('D:/retinal_data_set_visioncare/models/vgg16/vgg16_dr_epochs50.h5')"
   ]
  },
  {
   "cell_type": "code",
   "execution_count": 8,
   "metadata": {},
   "outputs": [
    {
     "data": {
      "image/png": "[encoded data removed]",
      "text/plain": [
       "<Figure size 432x288 with 1 Axes>"
      ]
     },
     "metadata": {},
     "output_type": "display_data"
    },
    {
     "data": {
      "image/png": "[encoded data removed]",
      "text/plain": [
       "<Figure size 432x288 with 1 Axes>"
      ]
     },
     "metadata": {},
     "output_type": "display_data"
    }
   ],
   "source": [
    "acc = history.history['acc']\n",
    "val_acc = history.history['val_acc']\n",
    "loss = history.history['loss']\n",
    "val_loss = history.history['val_loss']\n",
    " \n",
    "epochs = range(len(acc))\n",
    " \n",
    "plt.plot(epochs, acc, 'b', label='Training acc')\n",
    "plt.plot(epochs, val_acc, 'r', label='Validation acc')\n",
    "plt.title('Training and validation accuracy')\n",
    "plt.legend()\n",
    " \n",
    "plt.figure()\n",
    " \n",
    "plt.plot(epochs, loss, 'b', label='Training loss')\n",
    "plt.plot(epochs, val_loss, 'r', label='Validation loss')\n",
    "plt.title('Training and validation loss')\n",
    "plt.legend()\n",
    " \n",
    "plt.show()"
   ]
  },
  {
   "cell_type": "code",
   "execution_count": 16,
   "metadata": {},
   "outputs": [
    {
     "name": "stdout",
     "output_type": "stream",
     "text": [
      "Confusion Matrix\n",
      "[[148  38  11   3   0]\n",
      " [  7 182   7   3   1]\n",
      " [  1   9 178   6   6]\n",
      " [  0  14  13 172   1]\n",
      " [  0   0   0   0 200]]\n",
      "Classification Report\n",
      "               precision    recall  f1-score   support\n",
      "\n",
      "       non-dr       0.95      0.74      0.83       200\n",
      "    mild-npdr       0.75      0.91      0.82       200\n",
      "moderate-npdr       0.85      0.89      0.87       200\n",
      "  severe-npdr       0.93      0.86      0.90       200\n",
      "          pdr       0.96      1.00      0.98       200\n",
      "\n",
      "  avg / total       0.89      0.88      0.88      1000\n",
      "\n"
     ]
    }
   ],
   "source": [
    "#Confution Matrix and Classification Report\n",
    "Y_pred = model.predict_generator(validation_generator, validation_generator.samples // validation_generator.batch_size)\n",
    "y_pred = np.argmax(Y_pred, axis=1)\n",
    "print('Confusion Matrix')\n",
    "print(confusion_matrix(validation_generator.classes, y_pred))\n",
    "print('Classification Report')\n",
    "target_names = ['non-dr', 'mild-npdr', 'moderate-npdr', 'severe-npdr', 'pdr']\n",
    "print(classification_report(validation_generator.classes, y_pred, target_names=target_names))\n"
   ]
  },
  {
   "cell_type": "code",
   "execution_count": 18,
   "metadata": {},
   "outputs": [
    {
     "name": "stdout",
     "output_type": "stream",
     "text": [
      "Confusion Matrix for testset\n",
      "[[146  39  14   1   0]\n",
      " [ 15 173   8   4   0]\n",
      " [  3  16 171   9   1]\n",
      " [  1  11  14 169   5]\n",
      " [  0   0   0   0 200]]\n",
      "Classification Report\n",
      "               precision    recall  f1-score   support\n",
      "\n",
      "       non-dr       0.88      0.73      0.80       200\n",
      "    mild-npdr       0.72      0.86      0.79       200\n",
      "moderate-npdr       0.83      0.85      0.84       200\n",
      "  severe-npdr       0.92      0.84      0.88       200\n",
      "          pdr       0.97      1.00      0.99       200\n",
      "\n",
      "  avg / total       0.87      0.86      0.86      1000\n",
      "\n"
     ]
    }
   ],
   "source": [
    "#Confution Matrix and Classification Report for testset\n",
    "Y_pred_for_test = model.predict_generator(test_generator, test_generator.samples // test_generator.batch_size)\n",
    "Y_pred_for_test = np.argmax(Y_pred_for_test, axis=1)\n",
    "print('Confusion Matrix for testset')\n",
    "print(confusion_matrix(test_generator.classes, Y_pred_for_test))\n",
    "print('Classification Report')\n",
    "target_names = ['non-dr', 'mild-npdr', 'moderate-npdr', 'severe-npdr', 'pdr']\n",
    "print(classification_report(test_generator.classes, Y_pred_for_test, target_names=target_names))"
   ]
  },
  {
   "cell_type": "code",
   "execution_count": null,
   "metadata": {},
   "outputs": [],
   "source": []
  }
 ],
 "metadata": {
  "kernelspec": {
   "display_name": "Python 3",
   "language": "python",
   "name": "python3"
  },
  "language_info": {
   "codemirror_mode": {
    "name": "ipython",
    "version": 3
   },
   "file_extension": ".py",
   "mimetype": "text/x-python",
   "name": "python",
   "nbconvert_exporter": "python",
   "pygments_lexer": "ipython3",
   "version": "3.6.2"
  }
 },
 "nbformat": 4,
 "nbformat_minor": 2
}
