{
 "cells": [
  {
   "cell_type": "code",
   "execution_count": 1,
   "metadata": {},
   "outputs": [
    {
     "name": "stderr",
     "output_type": "stream",
     "text": [
      "Using TensorFlow backend.\n"
     ]
    }
   ],
   "source": [
    "import os\n",
    "from keras import applications\n",
    "from keras import models\n",
    "from keras import layers\n",
    "from keras import optimizers\n",
    "from keras.preprocessing.image import ImageDataGenerator\n",
    "from keras.preprocessing import image\n",
    "from keras.models import Sequential\n",
    "from keras.layers import Input, Dense, Flatten, Activation, Dropout, Maximum, ZeroPadding2D\n",
    "from keras.layers.normalization import BatchNormalization\n",
    "from keras import regularizers\n",
    "import matplotlib.pyplot as plt\n",
    "from keras.models import load_model\n",
    "from keras.utils import layer_utils, np_utils\n",
    "from keras.callbacks import ModelCheckpoint\n",
    "from keras.layers.convolutional import Conv2D\n",
    "from keras.layers.pooling import MaxPooling2D\n",
    "from keras.optimizers import Adam, SGD\n",
    "from keras import Model\n",
    "from keras import initializers\n",
    "from keras.callbacks import LearningRateScheduler\n",
    "from keras.utils import to_categorical\n",
    "import numpy as np\n",
    "from sklearn.metrics import classification_report, confusion_matrix\n",
    "from sklearn.datasets import make_classification\n",
    "from sklearn.preprocessing import label_binarize\n",
    "from sklearn.model_selection import StratifiedKFold\n",
    "from sklearn.metrics import accuracy_score\n",
    "from sklearn.metrics import precision_recall_fscore_support\n",
    "from scipy import interp\n",
    "from itertools import cycle\n",
    "from sklearn.metrics import roc_curve, auc\n",
    "from sklearn.utils import class_weight\n",
    "import seaborn as sn\n",
    "from keras.layers import LeakyReLU\n",
    "import pandas as pd"
   ]
  },
  {
   "cell_type": "code",
   "execution_count": 2,
   "metadata": {},
   "outputs": [],
   "source": [
    "image_width = 51\n",
    "image_height = 51\n",
    "\n",
    "# Change the batchsize according to your system RAM\n",
    "batch_size = 64\n",
    "\n",
    "CLASS = {\n",
    "    'Black-grass': 0,\n",
    "    'Charlock': 1,\n",
    "    'Cleavers': 2,\n",
    "    'Common Chickweed': 3,\n",
    "    'Common wheat': 4,\n",
    "    'Fat Hen': 5,\n",
    "    'Loose Silky-bent': 6,\n",
    "    'Maize': 7,\n",
    "    'Scentless Mayweed': 8,\n",
    "    'Shepherds Purse': 9,\n",
    "    'Small-flowered Cranesbill': 10,\n",
    "    'Sugar beet': 11\n",
    "}\n",
    "\n",
    "# Same as id_to_label_dict\n",
    "\n",
    "INV_CLASS = {\n",
    "    0: 'Black-grass',\n",
    "    1: 'Charlock',\n",
    "    2: 'Cleavers',\n",
    "    3: 'Common Chickweed',\n",
    "    4: 'Common wheat',\n",
    "    5: 'Fat Hen',\n",
    "    6: 'Loose Silky-bent',\n",
    "    7: 'Maize',\n",
    "    8: 'Scentless Mayweed',\n",
    "    9: 'Shepherds Purse',\n",
    "    10: 'Small-flowered Cranesbill',\n",
    "    11: 'Sugar beet'\n",
    "}\n",
    "\n",
    "train_dir = \"D:/Neural_nets_course_Dataset/all/train/\"\n",
    "test_dir = \"D:/Neural_nets_course_Dataset/all/test/\"\n",
    "\n",
    "model_check_point_loc = 'D:/Neural_nets_course_Dataset/all/models/resnet_50/resnet_50_model.h5'\n",
    "\n",
    "#resnet_base = applications.ResNet50(weights='imagenet', include_top=False, input_shape=(image_width, image_height, 3))"
   ]
  },
  {
   "cell_type": "code",
   "execution_count": 3,
   "metadata": {},
   "outputs": [],
   "source": [
    "def dense_layer(inputs, neurons, activation, drop_rate=0.):\n",
    "    dropout = Dropout(drop_rate)(inputs)\n",
    "    fc = Dense(neurons)(dropout)\n",
    "    fc_norm = BatchNormalization(axis=-1)(fc)\n",
    "    outputs = Activation(activation=activation)(fc_norm)\n",
    "    return outputs"
   ]
  },
  {
   "cell_type": "code",
   "execution_count": 4,
   "metadata": {},
   "outputs": [],
   "source": [
    "def conv_layer(feature_batch,\n",
    "               feature_map,\n",
    "               kernel_size=(3, 3),\n",
    "               strides=(1, 1),\n",
    "               padding=False):\n",
    "    if padding:\n",
    "        processed_feature_batch = ZeroPadding2D((1, 1))(feature_batch)\n",
    "    else:\n",
    "        processed_feature_batch = feature_batch\n",
    "\n",
    "    conv = Conv2D(\n",
    "        filters=feature_map, kernel_size=kernel_size,\n",
    "        strides=strides)(processed_feature_batch)\n",
    "    conv_norm = BatchNormalization(axis=3)(conv)\n",
    "    outputs = LeakyReLU(1 / 10)(conv_norm)\n",
    "    return outputs"
   ]
  },
  {
   "cell_type": "code",
   "execution_count": 5,
   "metadata": {},
   "outputs": [],
   "source": [
    "def model_neural_network():\n",
    "\n",
    "    inputs = Input(shape=(51, 51, 3))\n",
    "\n",
    "    # First, Second layer\n",
    "    conv1 = conv_layer(inputs, 64, padding=False)\n",
    "    conv2 = conv_layer(conv1, 64, padding=False)\n",
    "    pool1 = MaxPooling2D(pool_size=(3, 3), strides=(2, 2))(conv2)\n",
    "\n",
    "    # Third, Fourth layer\n",
    "    conv3 = conv_layer(pool1, 128, padding=False)\n",
    "    conv4 = conv_layer(conv3, 128, padding=False)\n",
    "    pool2 = MaxPooling2D(pool_size=(3, 3), strides=(2, 2))(conv4)\n",
    "\n",
    "    # Sixth, Seventh, Ninth layer\n",
    "    conv7 = conv_layer(pool2, 256, padding=False)\n",
    "    conv8 = conv_layer(conv7, 256, padding=False)\n",
    "    conv9 = conv_layer(conv8, 256, padding=False)\n",
    "    pool3 = MaxPooling2D(pool_size=(3, 3), strides=(2, 2))(conv9)\n",
    "\n",
    "    # Two Dense layers\n",
    "    flattened = Flatten()(pool3)\n",
    "    fc_output = dense_layer(flattened, 128, activation='tanh')\n",
    "    outputs = dense_layer(fc_output, 12, activation='softmax')\n",
    "\n",
    "    model = Model(inputs=inputs, outputs=outputs)\n",
    "\n",
    "    # The first 50 epochs with Adam opt & then 30 epochs with SGD opt.\n",
    "\n",
    "    #mypotim = Adam(lr=2 * 1e-3, beta_1=0.9, beta_2=0.999, epsilon=1e-08)\n",
    "    mypotim = SGD(lr=1 * 1e-1, momentum=0.9, nesterov=True)\n",
    "    model.compile(\n",
    "        loss='categorical_crossentropy',\n",
    "        optimizer=mypotim,\n",
    "        metrics=['accuracy'])\n",
    "    model.summary()\n",
    "\n",
    "    return model"
   ]
  },
  {
   "cell_type": "code",
   "execution_count": 6,
   "metadata": {},
   "outputs": [],
   "source": [
    "class_labels = os.listdir(train_dir)"
   ]
  },
  {
   "cell_type": "code",
   "execution_count": 7,
   "metadata": {},
   "outputs": [],
   "source": [
    "def generate_XY(size=51):\n",
    "    combined_feature_list = []\n",
    "    labels = []\n",
    "\n",
    "    for idx, level in enumerate(class_labels):\n",
    "        retina_root = train_dir + level + '/'\n",
    "        retina_root_list = os.listdir(retina_root)\n",
    "\n",
    "        for index, relative_path in enumerate(retina_root_list):\n",
    "            if relative_path == 'Thumbs.db':\n",
    "                continue\n",
    "            source = retina_root + relative_path\n",
    "            img = image.load_img(source, target_size=(image_width, image_height))\n",
    "            img_x = image.img_to_array(img)\n",
    "            #img_x = np.expand_dims(img_x, axis=0)\n",
    "            \n",
    "            combined_feature_list.append(img_x)\n",
    "            labels.append(int(level))\n",
    "            \n",
    "    return np.array(combined_feature_list), np.array(labels)\n",
    "    "
   ]
  },
  {
   "cell_type": "code",
   "execution_count": 8,
   "metadata": {},
   "outputs": [],
   "source": [
    "X_train, y_train = generate_XY()"
   ]
  },
  {
   "cell_type": "code",
   "execution_count": 9,
   "metadata": {},
   "outputs": [],
   "source": [
    "y_train_onehot = to_categorical(y_train, 12)"
   ]
  },
  {
   "cell_type": "code",
   "execution_count": 10,
   "metadata": {},
   "outputs": [],
   "source": [
    "class_weight = class_weight.compute_class_weight('balanced'\n",
    "                                               ,np.unique(y_train)\n",
    "                                               ,y_train)"
   ]
  },
  {
   "cell_type": "code",
   "execution_count": 11,
   "metadata": {},
   "outputs": [
    {
     "data": {
      "text/plain": [
       "{0: 1.5050697084917617,\n",
       " 1: 1.014957264957265,\n",
       " 2: 1.3792102206736354,\n",
       " 3: 0.6478450627386798,\n",
       " 4: 1.7911010558069382,\n",
       " 5: 0.8333333333333334,\n",
       " 6: 0.605249745158002,\n",
       " 7: 1.7911010558069382,\n",
       " 8: 0.7671188630490956,\n",
       " 9: 1.7135642135642135,\n",
       " 10: 0.7980510752688172,\n",
       " 11: 1.0281385281385282}"
      ]
     },
     "execution_count": 11,
     "metadata": {},
     "output_type": "execute_result"
    }
   ],
   "source": [
    "dict(enumerate(class_weight))"
   ]
  },
  {
   "cell_type": "code",
   "execution_count": 12,
   "metadata": {},
   "outputs": [],
   "source": [
    "class_weight_dic = dict(enumerate(class_weight))"
   ]
  },
  {
   "cell_type": "code",
   "execution_count": 13,
   "metadata": {},
   "outputs": [
    {
     "data": {
      "text/plain": [
       "(51, 51, 3)"
      ]
     },
     "execution_count": 13,
     "metadata": {},
     "output_type": "execute_result"
    }
   ],
   "source": [
    "X_train.shape[1:]"
   ]
  },
  {
   "cell_type": "code",
   "execution_count": 14,
   "metadata": {},
   "outputs": [
    {
     "name": "stdout",
     "output_type": "stream",
     "text": [
      "_________________________________________________________________\n",
      "Layer (type)                 Output Shape              Param #   \n",
      "=================================================================\n",
      "input_1 (InputLayer)         (None, 51, 51, 3)         0         \n",
      "_________________________________________________________________\n",
      "conv2d_1 (Conv2D)            (None, 49, 49, 64)        1792      \n",
      "_________________________________________________________________\n",
      "batch_normalization_1 (Batch (None, 49, 49, 64)        256       \n",
      "_________________________________________________________________\n",
      "leaky_re_lu_1 (LeakyReLU)    (None, 49, 49, 64)        0         \n",
      "_________________________________________________________________\n",
      "conv2d_2 (Conv2D)            (None, 47, 47, 64)        36928     \n",
      "_________________________________________________________________\n",
      "batch_normalization_2 (Batch (None, 47, 47, 64)        256       \n",
      "_________________________________________________________________\n",
      "leaky_re_lu_2 (LeakyReLU)    (None, 47, 47, 64)        0         \n",
      "_________________________________________________________________\n",
      "max_pooling2d_1 (MaxPooling2 (None, 23, 23, 64)        0         \n",
      "_________________________________________________________________\n",
      "conv2d_3 (Conv2D)            (None, 21, 21, 128)       73856     \n",
      "_________________________________________________________________\n",
      "batch_normalization_3 (Batch (None, 21, 21, 128)       512       \n",
      "_________________________________________________________________\n",
      "leaky_re_lu_3 (LeakyReLU)    (None, 21, 21, 128)       0         \n",
      "_________________________________________________________________\n",
      "conv2d_4 (Conv2D)            (None, 19, 19, 128)       147584    \n",
      "_________________________________________________________________\n",
      "batch_normalization_4 (Batch (None, 19, 19, 128)       512       \n",
      "_________________________________________________________________\n",
      "leaky_re_lu_4 (LeakyReLU)    (None, 19, 19, 128)       0         \n",
      "_________________________________________________________________\n",
      "max_pooling2d_2 (MaxPooling2 (None, 9, 9, 128)         0         \n",
      "_________________________________________________________________\n",
      "conv2d_5 (Conv2D)            (None, 7, 7, 256)         295168    \n",
      "_________________________________________________________________\n",
      "batch_normalization_5 (Batch (None, 7, 7, 256)         1024      \n",
      "_________________________________________________________________\n",
      "leaky_re_lu_5 (LeakyReLU)    (None, 7, 7, 256)         0         \n",
      "_________________________________________________________________\n",
      "conv2d_6 (Conv2D)            (None, 5, 5, 256)         590080    \n",
      "_________________________________________________________________\n",
      "batch_normalization_6 (Batch (None, 5, 5, 256)         1024      \n",
      "_________________________________________________________________\n",
      "leaky_re_lu_6 (LeakyReLU)    (None, 5, 5, 256)         0         \n",
      "_________________________________________________________________\n",
      "conv2d_7 (Conv2D)            (None, 3, 3, 256)         590080    \n",
      "_________________________________________________________________\n",
      "batch_normalization_7 (Batch (None, 3, 3, 256)         1024      \n",
      "_________________________________________________________________\n",
      "leaky_re_lu_7 (LeakyReLU)    (None, 3, 3, 256)         0         \n",
      "_________________________________________________________________\n",
      "max_pooling2d_3 (MaxPooling2 (None, 1, 1, 256)         0         \n",
      "_________________________________________________________________\n",
      "flatten_1 (Flatten)          (None, 256)               0         \n",
      "_________________________________________________________________\n",
      "dropout_1 (Dropout)          (None, 256)               0         \n",
      "_________________________________________________________________\n",
      "dense_1 (Dense)              (None, 128)               32896     \n",
      "_________________________________________________________________\n",
      "batch_normalization_8 (Batch (None, 128)               512       \n",
      "_________________________________________________________________\n",
      "activation_1 (Activation)    (None, 128)               0         \n",
      "_________________________________________________________________\n",
      "dropout_2 (Dropout)          (None, 128)               0         \n",
      "_________________________________________________________________\n",
      "dense_2 (Dense)              (None, 12)                1548      \n",
      "_________________________________________________________________\n",
      "batch_normalization_9 (Batch (None, 12)                48        \n",
      "_________________________________________________________________\n",
      "activation_2 (Activation)    (None, 12)                0         \n",
      "=================================================================\n",
      "Total params: 1,775,100\n",
      "Trainable params: 1,772,516\n",
      "Non-trainable params: 2,584\n",
      "_________________________________________________________________\n"
     ]
    }
   ],
   "source": [
    "model = model_neural_network()"
   ]
  },
  {
   "cell_type": "code",
   "execution_count": 15,
   "metadata": {},
   "outputs": [],
   "source": [
    "X = X_train\n",
    "#X = transformed_data\n",
    "Y = y_train"
   ]
  },
  {
   "cell_type": "code",
   "execution_count": 16,
   "metadata": {},
   "outputs": [],
   "source": [
    "kfold = StratifiedKFold(n_splits=5, shuffle=True, random_state=30)\n",
    "#kfold = RepeatedStratifiedKFold(n_splits=5, n_repeats=5, random_state=25)\n",
    "cvscores = []\n",
    "trainScores = []\n",
    "f1Score = []\n",
    "num_k_folds = 5\n",
    "fold_counter = 0\n",
    "val_conmats = []\n",
    "val_precisions = []\n",
    "val_recalls = []\n",
    "val_f_scores = []"
   ]
  },
  {
   "cell_type": "code",
   "execution_count": 17,
   "metadata": {},
   "outputs": [
    {
     "name": "stdout",
     "output_type": "stream",
     "text": [
      "\n",
      "Averaging the 5-fold results:\n",
      "AVG Train Acc : 99.57%\n",
      "AVG Validation Acc : 96.19%\n",
      "Validation precision - mean: 0.960530, stddev: 0.097242\n",
      "Validation recall - mean: 0.962696, stddev: 0.078017\n",
      "Validation f-score - mean: 0.960181, stddev: 0.084617\n",
      "Confusion matrix:\n",
      "[[ 46.2   0.    0.    0.2   0.8   0.    5.    0.    0.    0.    0.2   0.2]\n",
      " [  0.   77.2   0.8   0.    0.    0.    0.    0.    0.    0.    0.    0. ]\n",
      " [  0.    0.6  56.2   0.    0.6   0.    0.    0.    0.    0.    0.    0. ]\n",
      " [  0.    0.2   0.6 118.    0.    0.2   0.    0.2   1.    1.4   0.2   0.4]\n",
      " [  0.    0.    0.2   0.   43.8   0.2   0.    0.    0.    0.    0.    0. ]\n",
      " [  0.4   0.4   0.8   0.    0.6  92.6   0.    0.    0.    0.    0.    0.2]\n",
      " [  9.4   0.    0.2   0.    0.4   0.  120.4   0.    0.2   0.    0.    0.2]\n",
      " [  0.    0.4   0.6   0.    0.2   0.    0.   42.8   0.    0.    0.    0.2]\n",
      " [  0.2   0.    1.2   0.    0.    0.2   0.    0.  101.6   0.    0.    0. ]\n",
      " [  0.2   0.2   0.    0.    0.4   0.    0.    0.    0.8  44.4   0.    0.2]\n",
      " [  0.    1.8   1.2   0.4   0.    0.4   0.2   0.    0.    0.   95.2   0. ]\n",
      " [  0.    0.8   0.4   0.    0.2   0.2   0.    0.2   0.    0.    0.   75.2]]\n"
     ]
    }
   ],
   "source": [
    "for train, test in kfold.split(X, Y):\n",
    "    # Fit the model\n",
    "    model.fit(X[train], to_categorical(Y[train]), epochs=50, batch_size=batch_size, class_weight=class_weight_dic, verbose=0)\n",
    "    \n",
    "    y_train_pred = model.predict(X[train])\n",
    "    y_train_pred = np.argmax(y_train_pred, axis=1)\n",
    "    \n",
    "    y_validation_pred = model.predict(X[test])\n",
    "    y_validation_pred = np.argmax(y_validation_pred, axis=1)\n",
    "    #y_validation_pred = np.argmax(y_validation_pred, axis=1)\n",
    "    \n",
    "    [precision, recall, f_score, _] = precision_recall_fscore_support(Y[test], y_validation_pred)\n",
    "    #print(\"Validation k-fold #%d - precision: %f, recallL: %f, f-score: %f\" % (fold_counter, precision, recall, f_score))\n",
    "    \n",
    "    conmat = confusion_matrix(Y[test], y_validation_pred)\n",
    "    \n",
    "    val_precisions.append(precision)\n",
    "    val_recalls.append(recall)\n",
    "    val_f_scores.append(f_score)\n",
    "    val_conmats.append(conmat)\n",
    "    fold_counter = fold_counter + 1\n",
    "    \n",
    "    trainScores.append(accuracy_score(Y[train], y_train_pred))\n",
    "    cvscores.append(accuracy_score(Y[test], y_validation_pred))\n",
    "    \n",
    "print(\"\\nAveraging the 5-fold results:\")\n",
    "print(\"%s: %.2f%%\" % ('AVG Train Acc ', np.mean(trainScores) * 100))\n",
    "print(\"%s: %.2f%%\" % ('AVG Validation Acc ', np.mean(cvscores) * 100))\n",
    "print(\"Validation precision - mean: %f, stddev: %f\" % (np.mean(val_precisions), np.std(val_precisions)))\n",
    "print(\"Validation recall - mean: %f, stddev: %f\" % (np.mean(val_recalls), np.std(val_recalls)))\n",
    "print(\"Validation f-score - mean: %f, stddev: %f\" % (np.mean(val_f_scores), np.std(val_f_scores)))\n",
    "print(\"Confusion matrix:\")\n",
    "print (sum(val_conmats).astype(float) / fold_counter)"
   ]
  },
  {
   "cell_type": "code",
   "execution_count": 18,
   "metadata": {},
   "outputs": [
    {
     "data": {
      "text/plain": [
       "<matplotlib.axes._subplots.AxesSubplot at 0x1ea780057b8>"
      ]
     },
     "execution_count": 18,
     "metadata": {},
     "output_type": "execute_result"
    },
    {
     "data": {
      "image/png": "[encoded data removed]",
      "text/plain": [
       "<Figure size 432x288 with 2 Axes>"
      ]
     },
     "metadata": {},
     "output_type": "display_data"
    }
   ],
   "source": [
    "confusion_matrix_array = (sum(val_conmats).astype(float) / fold_counter)\n",
    "new_confusion_matrix_array = []\n",
    "for conf_sub_array in confusion_matrix_array:\n",
    "    new_confusion_matrix_array.append([int(float(e)) for e in conf_sub_array])\n",
    "        \n",
    "df_cm = pd.DataFrame(new_confusion_matrix_array, range(12), range(12))\n",
    "#plt.figure(figsize = (10,7))\n",
    "sn.set(font_scale=1.4)#for label size\n",
    "sn.heatmap(df_cm, annot=True, annot_kws={\"size\": 12})# font size"
   ]
  },
  {
   "cell_type": "code",
   "execution_count": 19,
   "metadata": {},
   "outputs": [],
   "source": [
    "test_image_list = os.listdir(test_dir)"
   ]
  },
  {
   "cell_type": "code",
   "execution_count": 20,
   "metadata": {},
   "outputs": [],
   "source": [
    "def generate_testXY(size=51):\n",
    "    test_feature_list = []\n",
    "    label_names = []\n",
    "\n",
    "    for index, relative_path in enumerate(test_image_list):\n",
    "        if relative_path == 'Thumbs.db':\n",
    "            continue\n",
    "        source = test_dir + relative_path\n",
    "        img = image.load_img(source, target_size=(image_width, image_height))\n",
    "        img_x = image.img_to_array(img)\n",
    "        #img_x = np.expand_dims(img_x, axis=0)\n",
    "\n",
    "        label_names.append(relative_path)\n",
    "        test_feature_list.append(img_x)\n",
    "        #labels.append(int(level))\n",
    "            \n",
    "    return np.array(test_feature_list), np.array(label_names)"
   ]
  },
  {
   "cell_type": "code",
   "execution_count": 21,
   "metadata": {},
   "outputs": [],
   "source": [
    "X_test, label_list = generate_testXY()"
   ]
  },
  {
   "cell_type": "code",
   "execution_count": 22,
   "metadata": {},
   "outputs": [
    {
     "name": "stdout",
     "output_type": "stream",
     "text": [
      "794/794 [==============================] - 2s 3ms/step\n"
     ]
    }
   ],
   "source": [
    "# Predictions\n",
    "prob = model.predict(X_test, verbose=1)\n",
    "pred = prob.argmax(axis=-1)\n",
    "\n",
    "submission_df = pd.DataFrame({\n",
    "    \"file\": [label for label in label_list],\n",
    "    \"species\": [INV_CLASS[p] for p in pred]\n",
    "})"
   ]
  },
  {
   "cell_type": "code",
   "execution_count": 23,
   "metadata": {},
   "outputs": [
    {
     "data": {
      "text/html": [
       "<div>\n",
       "<style scoped>\n",
       "    .dataframe tbody tr th:only-of-type {\n",
       "        vertical-align: middle;\n",
       "    }\n",
       "\n",
       "    .dataframe tbody tr th {\n",
       "        vertical-align: top;\n",
       "    }\n",
       "\n",
       "    .dataframe thead th {\n",
       "        text-align: right;\n",
       "    }\n",
       "</style>\n",
       "<table border=\"1\" class=\"dataframe\">\n",
       "  <thead>\n",
       "    <tr style=\"text-align: right;\">\n",
       "      <th></th>\n",
       "      <th>file</th>\n",
       "      <th>species</th>\n",
       "    </tr>\n",
       "  </thead>\n",
       "  <tbody>\n",
       "    <tr>\n",
       "      <th>0</th>\n",
       "      <td>0021e90e4.png</td>\n",
       "      <td>Small-flowered Cranesbill</td>\n",
       "    </tr>\n",
       "    <tr>\n",
       "      <th>1</th>\n",
       "      <td>003d61042.png</td>\n",
       "      <td>Fat Hen</td>\n",
       "    </tr>\n",
       "    <tr>\n",
       "      <th>2</th>\n",
       "      <td>007b3da8b.png</td>\n",
       "      <td>Sugar beet</td>\n",
       "    </tr>\n",
       "    <tr>\n",
       "      <th>3</th>\n",
       "      <td>0086a6340.png</td>\n",
       "      <td>Common Chickweed</td>\n",
       "    </tr>\n",
       "    <tr>\n",
       "      <th>4</th>\n",
       "      <td>00c47e980.png</td>\n",
       "      <td>Sugar beet</td>\n",
       "    </tr>\n",
       "  </tbody>\n",
       "</table>\n",
       "</div>"
      ],
      "text/plain": [
       "            file                    species\n",
       "0  0021e90e4.png  Small-flowered Cranesbill\n",
       "1  003d61042.png                    Fat Hen\n",
       "2  007b3da8b.png                 Sugar beet\n",
       "3  0086a6340.png           Common Chickweed\n",
       "4  00c47e980.png                 Sugar beet"
      ]
     },
     "execution_count": 23,
     "metadata": {},
     "output_type": "execute_result"
    }
   ],
   "source": [
    "submission_df.head()"
   ]
  },
  {
   "cell_type": "code",
   "execution_count": 24,
   "metadata": {},
   "outputs": [],
   "source": [
    "submission_df.to_csv('D:/Neural_nets_course_Dataset/all/output/custom/submission.csv', index=False, header=True)"
   ]
  },
  {
   "cell_type": "code",
   "execution_count": null,
   "metadata": {},
   "outputs": [],
   "source": []
  }
 ],
 "metadata": {
  "kernelspec": {
   "display_name": "Python 3",
   "language": "python",
   "name": "python3"
  },
  "language_info": {
   "codemirror_mode": {
    "name": "ipython",
    "version": 3
   },
   "file_extension": ".py",
   "mimetype": "text/x-python",
   "name": "python",
   "nbconvert_exporter": "python",
   "pygments_lexer": "ipython3",
   "version": "3.6.2"
  }
 },
 "nbformat": 4,
 "nbformat_minor": 2
}
